{
 "cells": [
  {
   "cell_type": "code",
   "execution_count": 1,
   "metadata": {},
   "outputs": [],
   "source": [
    "import pandas as pd\n",
    "import numpy as np\n",
    "import matplotlib.pyplot as plt\n",
    "%matplotlib inline\n",
    "\n",
    "plt.style.use('default') # set style (colors, background, size, gridlines etc.) # ggplot\n",
    "plt.rcParams['figure.figsize'] = 8, 4 # set default size of plots\n",
    "plt.rcParams.update({'font.size': 18})\n",
    "\n",
    "import scraping_class\n",
    "logfile = 'log.txt' ## name your log file.\n",
    "connector = scraping_class.Connector(logfile)\n",
    "\n",
    "from bs4 import BeautifulSoup\n",
    "from tqdm import tqdm_notebook as tqdm"
   ]
  },
  {
   "cell_type": "code",
   "execution_count": 2,
   "metadata": {},
   "outputs": [],
   "source": [
    "#pip install cpi"
   ]
  },
  {
   "cell_type": "code",
   "execution_count": 3,
   "metadata": {},
   "outputs": [],
   "source": [
    "movies = pd.read_csv('IMDb movies.csv')\n",
    "actors = pd.read_csv('IMDb names.csv')\n",
    "ratings = pd.read_csv('IMDb ratings.csv')\n",
    "role = pd.read_csv('IMDb title_principals.csv')"
   ]
  },
  {
   "cell_type": "markdown",
   "metadata": {},
   "source": [
    "##### IMDb - Remove duplicates and all years before 1990"
   ]
  },
  {
   "cell_type": "code",
   "execution_count": 91,
   "metadata": {},
   "outputs": [
    {
     "name": "stderr",
     "output_type": "stream",
     "text": [
      "/Users/ea/opt/anaconda3/lib/python3.7/site-packages/ipykernel_launcher.py:5: SettingWithCopyWarning: \n",
      "A value is trying to be set on a copy of a slice from a DataFrame.\n",
      "Try using .loc[row_indexer,col_indexer] = value instead\n",
      "\n",
      "See the caveats in the documentation: http://pandas.pydata.org/pandas-docs/stable/user_guide/indexing.html#returning-a-view-versus-a-copy\n",
      "  \"\"\"\n"
     ]
    }
   ],
   "source": [
    "movies_90 = movies[movies.year >= 1990] # (53368, 22)\n",
    "#movies_90 = movies.drop(movies[movies['year'] < 1990].index)\n",
    "movies_us = movies[movies.country == 'USA']\n",
    "movies_us_90 = movies_us[movies_us.year >= 1990]\n",
    "movies_90['title'] = movies_90['title'].astype(str)\n",
    "movies_90 = movies_90.drop_duplicates(subset = 'title')\n",
    "movies_us_90 = movies_us_90.drop_duplicates(subset = 'title')"
   ]
  },
  {
   "cell_type": "markdown",
   "metadata": {},
   "source": [
    "##### RT - Remove duplicates "
   ]
  },
  {
   "cell_type": "code",
   "execution_count": 92,
   "metadata": {},
   "outputs": [],
   "source": [
    "\n",
    "df_RT = pd.read_csv('RT.csv').drop_duplicates(subset = 'title')\n",
    "df_90 = pd.merge(movies_90,df_RT,how='inner',on='title')\n",
    "df_90 = df_90.drop_duplicates()\n",
    "df_90_us = pd.merge(movies_us_90,df_RT,how='inner',on='title')\n",
    "df_90_us = df_90_us.drop_duplicates()"
   ]
  },
  {
   "cell_type": "code",
   "execution_count": 93,
   "metadata": {},
   "outputs": [],
   "source": [
    "# **** Remove NaN ****\n",
    "df_90_income = df_90.dropna(subset = ['worlwide_gross_income']).reset_index(drop=True).drop_duplicates()\n",
    "df_us = df_90_us[df_90_us['worlwide_gross_income'].notna()].reset_index(drop=True)\n",
    "\n",
    "#df_90_income.dtypes\n",
    "#df_90_income.head()\n",
    "#print(df_90_income.shape)\n",
    "#df_90\n",
    "#df_90_income"
   ]
  },
  {
   "cell_type": "markdown",
   "metadata": {},
   "source": [
    "##### Cleaning dataset and adjusting income and budget for inflation (CPI)"
   ]
  },
  {
   "cell_type": "code",
   "execution_count": 94,
   "metadata": {},
   "outputs": [],
   "source": [
    "import cpi\n",
    "#cpi.update()\n",
    "\n",
    "def inflate_column(data, column):\n",
    "    '''Inflate monetary figures from a given year to their 2018 values'''\n",
    "    return data.apply(lambda x: cpi.inflate(x[column], x.year), axis=1)"
   ]
  },
  {
   "cell_type": "code",
   "execution_count": 95,
   "metadata": {},
   "outputs": [],
   "source": [
    "df_90_income['worldwide_gross_income'] = df_90_income['worlwide_gross_income']\\\n",
    "                                        .apply(lambda x:x[1:] if x and x[:1]== '$' else None)\n",
    "df_90_income = df_90_income.drop('worlwide_gross_income', axis=1)\n",
    "df_90_income = df_90_income.dropna(subset = ['worldwide_gross_income'])"
   ]
  },
  {
   "cell_type": "code",
   "execution_count": 96,
   "metadata": {},
   "outputs": [],
   "source": [
    "df_90_income = df_90_income.dropna(subset = ['budget'])\n",
    "df_90_income['budget'] = df_90_income['budget'].apply(lambda x:x[1:] if x and x[:1]== '$' else None)\n",
    "\n",
    "df_90_income = df_90_income.dropna(subset = ['usa_gross_income'])\n",
    "df_90_income['usa_gross_income'] = df_90_income['usa_gross_income']\\\n",
    "                                        .apply(lambda x:x[1:] if x and x[:1]== '$' else None)"
   ]
  },
  {
   "cell_type": "code",
   "execution_count": 97,
   "metadata": {},
   "outputs": [],
   "source": [
    "df_90_income = df_90_income.reset_index(drop=True).drop_duplicates()\n",
    "\n",
    "df_90_income.worldwide_gross_income = df_90_income.worldwide_gross_income.astype(int)\n",
    "df_90_income = df_90_income[df_90_income.year <= 2018]\n",
    "df_90_income['adjusted_wgi'] = inflate_column(df_90_income, 'worldwide_gross_income')\n",
    "\n",
    "df_budget = df_90_income.dropna(subset = ['budget']).copy()\n",
    "df_budget.budget = df_budget.budget.astype(int)\n",
    "df_budget['adjusted_budget'] = inflate_column(df_budget, 'budget')\n",
    "\n",
    "df_budget = df_budget.dropna(subset = ['usa_gross_income']).copy()\n",
    "df_budget['usa_gross_income'] = df_budget['usa_gross_income'].astype(int)\n",
    "df_budget['adjusted_us_income'] = inflate_column(df_budget, 'usa_gross_income')\n",
    "\n",
    "df_budget['net_income'] = df_budget.adjusted_wgi - df_budget.adjusted_budget\n",
    "df_budget['net_us_income'] = df_budget['adjusted_us_income'] - df_budget['adjusted_budget']\n",
    "df = df_budget.reset_index(drop=True)\n",
    "#df_90_income.dtypes"
   ]
  },
  {
   "cell_type": "code",
   "execution_count": 98,
   "metadata": {},
   "outputs": [],
   "source": [
    "directors = list(df['director'].values)\n"
   ]
  },
  {
   "cell_type": "code",
   "execution_count": 99,
   "metadata": {},
   "outputs": [],
   "source": [
    "# Converting Rotten Tomatoes scores to floats\n",
    "df['tomatometer_score'] = df['tomatometer_score'].replace({'\\%':''}, regex = True)\n",
    "df['audience_score'] = df['audience_score'].replace({'\\%':''}, regex = True)\n",
    "\n",
    "df['tomatometer_score']= df['tomatometer_score'].astype(float)\n",
    "df['audience_score']= df['audience_score'].astype(float)"
   ]
  },
  {
   "cell_type": "code",
   "execution_count": 100,
   "metadata": {},
   "outputs": [
    {
     "data": {
      "application/vnd.jupyter.widget-view+json": {
       "model_id": "a9c2b57d1d2c4ba89ec2e0ebf6f84932",
       "version_major": 2,
       "version_minor": 0
      },
      "text/plain": [
       "HBox(children=(IntProgress(value=0, max=4354), HTML(value='')))"
      ]
     },
     "metadata": {},
     "output_type": "display_data"
    },
    {
     "name": "stdout",
     "output_type": "stream",
     "text": [
      "\n"
     ]
    }
   ],
   "source": [
    "director_scores = []\n",
    "a = {}\n",
    "for director in tqdm(directors):\n",
    "    a[director] = pd.DataFrame(df[df['director'].str.contains(director)])\n",
    "    director_scores.append([director,\n",
    "                           a[director]['avg_vote'].mean(),\n",
    "                           a[director]['metascore'].mean(),\n",
    "                           a[director]['tomatometer_score'].mean(),\n",
    "                           a[director]['audience_score'].mean()])"
   ]
  },
  {
   "cell_type": "code",
   "execution_count": 101,
   "metadata": {},
   "outputs": [],
   "source": [
    "cols = ['director', 'director_imdb', 'director_metascore', 'director_tomatometer', 'director_audience']\n",
    "df_director = pd.DataFrame(director_scores, index=range(len(director_scores)),columns=cols)"
   ]
  },
  {
   "cell_type": "code",
   "execution_count": 102,
   "metadata": {},
   "outputs": [
    {
     "data": {
      "text/plain": [
       "4354"
      ]
     },
     "execution_count": 102,
     "metadata": {},
     "output_type": "execute_result"
    }
   ],
   "source": [
    "len(directors)"
   ]
  },
  {
   "cell_type": "code",
   "execution_count": 103,
   "metadata": {},
   "outputs": [],
   "source": [
    "#writers = list(df.dropna(subset = ['writer'])['writer'].values)\n",
    "#writers = list(df['writer'].values)\n",
    "df = df.dropna(subset = ['writer'])"
   ]
  },
  {
   "cell_type": "code",
   "execution_count": 104,
   "metadata": {},
   "outputs": [
    {
     "data": {
      "application/vnd.jupyter.widget-view+json": {
       "model_id": "f55b0f441bb7443c947f543d641988ff",
       "version_major": 2,
       "version_minor": 0
      },
      "text/plain": [
       "HBox(children=(IntProgress(value=0, max=4353), HTML(value='')))"
      ]
     },
     "metadata": {},
     "output_type": "display_data"
    },
    {
     "name": "stdout",
     "output_type": "stream",
     "text": [
      "\n"
     ]
    }
   ],
   "source": [
    "writers = list(df['writer'].values)\n",
    "writer_scores = []\n",
    "a = {}\n",
    "for writer in tqdm(writers):\n",
    "    \n",
    "    a[writer] = pd.DataFrame(df[df['writer'].str.contains(writer)])\n",
    "    writer_scores.append([writer,\n",
    "                           a[writer]['avg_vote'].mean(),\n",
    "                           a[writer]['metascore'].mean(),\n",
    "                           a[writer]['tomatometer_score'].mean(),\n",
    "                           a[writer]['audience_score'].mean()])"
   ]
  },
  {
   "cell_type": "code",
   "execution_count": 105,
   "metadata": {},
   "outputs": [
    {
     "data": {
      "text/html": [
       "<div>\n",
       "<style scoped>\n",
       "    .dataframe tbody tr th:only-of-type {\n",
       "        vertical-align: middle;\n",
       "    }\n",
       "\n",
       "    .dataframe tbody tr th {\n",
       "        vertical-align: top;\n",
       "    }\n",
       "\n",
       "    .dataframe thead th {\n",
       "        text-align: right;\n",
       "    }\n",
       "</style>\n",
       "<table border=\"1\" class=\"dataframe\">\n",
       "  <thead>\n",
       "    <tr style=\"text-align: right;\">\n",
       "      <th></th>\n",
       "      <th>writer</th>\n",
       "      <th>writer_imdb</th>\n",
       "      <th>writer_metascore</th>\n",
       "      <th>writer_tomatometer</th>\n",
       "      <th>writer_audience</th>\n",
       "    </tr>\n",
       "  </thead>\n",
       "  <tbody>\n",
       "    <tr>\n",
       "      <td>0</td>\n",
       "      <td>Steven Rogers, James Mangold</td>\n",
       "      <td>6.400000</td>\n",
       "      <td>44.000000</td>\n",
       "      <td>50.000000</td>\n",
       "      <td>62.000000</td>\n",
       "    </tr>\n",
       "    <tr>\n",
       "      <td>1</td>\n",
       "      <td>Christopher Robbins, John Eskow</td>\n",
       "      <td>5.800000</td>\n",
       "      <td>33.000000</td>\n",
       "      <td>13.000000</td>\n",
       "      <td>34.000000</td>\n",
       "    </tr>\n",
       "    <tr>\n",
       "      <td>2</td>\n",
       "      <td>Woody Allen</td>\n",
       "      <td>6.863158</td>\n",
       "      <td>58.625000</td>\n",
       "      <td>62.631579</td>\n",
       "      <td>59.947368</td>\n",
       "    </tr>\n",
       "    <tr>\n",
       "      <td>3</td>\n",
       "      <td>Paul Hogan</td>\n",
       "      <td>5.150000</td>\n",
       "      <td>37.000000</td>\n",
       "      <td>20.000000</td>\n",
       "      <td>36.500000</td>\n",
       "    </tr>\n",
       "    <tr>\n",
       "      <td>4</td>\n",
       "      <td>Roger Spottiswoode, Walter Hill</td>\n",
       "      <td>5.900000</td>\n",
       "      <td>23.000000</td>\n",
       "      <td>18.000000</td>\n",
       "      <td>35.000000</td>\n",
       "    </tr>\n",
       "    <tr>\n",
       "      <td>...</td>\n",
       "      <td>...</td>\n",
       "      <td>...</td>\n",
       "      <td>...</td>\n",
       "      <td>...</td>\n",
       "      <td>...</td>\n",
       "    </tr>\n",
       "    <tr>\n",
       "      <td>4348</td>\n",
       "      <td>Sean Anders, John Morris</td>\n",
       "      <td>6.266667</td>\n",
       "      <td>43.666667</td>\n",
       "      <td>45.333333</td>\n",
       "      <td>54.333333</td>\n",
       "    </tr>\n",
       "    <tr>\n",
       "      <td>4349</td>\n",
       "      <td>Michael Jelenic, Aaron Horvath</td>\n",
       "      <td>6.800000</td>\n",
       "      <td>69.000000</td>\n",
       "      <td>91.000000</td>\n",
       "      <td>72.000000</td>\n",
       "    </tr>\n",
       "    <tr>\n",
       "      <td>4350</td>\n",
       "      <td>Aneesh Chaganty, Sev Ohanian</td>\n",
       "      <td>7.700000</td>\n",
       "      <td>71.000000</td>\n",
       "      <td>92.000000</td>\n",
       "      <td>87.000000</td>\n",
       "    </tr>\n",
       "    <tr>\n",
       "      <td>4351</td>\n",
       "      <td>Alex Tse</td>\n",
       "      <td>6.350000</td>\n",
       "      <td>54.000000</td>\n",
       "      <td>57.500000</td>\n",
       "      <td>58.500000</td>\n",
       "    </tr>\n",
       "    <tr>\n",
       "      <td>4352</td>\n",
       "      <td>Ari Aster</td>\n",
       "      <td>7.300000</td>\n",
       "      <td>87.000000</td>\n",
       "      <td>89.000000</td>\n",
       "      <td>67.000000</td>\n",
       "    </tr>\n",
       "  </tbody>\n",
       "</table>\n",
       "<p>4353 rows × 5 columns</p>\n",
       "</div>"
      ],
      "text/plain": [
       "                               writer  writer_imdb  writer_metascore  \\\n",
       "0        Steven Rogers, James Mangold     6.400000         44.000000   \n",
       "1     Christopher Robbins, John Eskow     5.800000         33.000000   \n",
       "2                         Woody Allen     6.863158         58.625000   \n",
       "3                          Paul Hogan     5.150000         37.000000   \n",
       "4     Roger Spottiswoode, Walter Hill     5.900000         23.000000   \n",
       "...                               ...          ...               ...   \n",
       "4348         Sean Anders, John Morris     6.266667         43.666667   \n",
       "4349   Michael Jelenic, Aaron Horvath     6.800000         69.000000   \n",
       "4350     Aneesh Chaganty, Sev Ohanian     7.700000         71.000000   \n",
       "4351                         Alex Tse     6.350000         54.000000   \n",
       "4352                        Ari Aster     7.300000         87.000000   \n",
       "\n",
       "      writer_tomatometer  writer_audience  \n",
       "0              50.000000        62.000000  \n",
       "1              13.000000        34.000000  \n",
       "2              62.631579        59.947368  \n",
       "3              20.000000        36.500000  \n",
       "4              18.000000        35.000000  \n",
       "...                  ...              ...  \n",
       "4348           45.333333        54.333333  \n",
       "4349           91.000000        72.000000  \n",
       "4350           92.000000        87.000000  \n",
       "4351           57.500000        58.500000  \n",
       "4352           89.000000        67.000000  \n",
       "\n",
       "[4353 rows x 5 columns]"
      ]
     },
     "execution_count": 105,
     "metadata": {},
     "output_type": "execute_result"
    }
   ],
   "source": [
    "cols = ['writer', 'writer_imdb', 'writer_metascore', 'writer_tomatometer', 'writer_audience']\n",
    "df_writer = pd.DataFrame(writer_scores, index=range(len(writer_scores)),columns=cols)\n",
    "df_writer"
   ]
  },
  {
   "cell_type": "code",
   "execution_count": 106,
   "metadata": {},
   "outputs": [],
   "source": [
    "#actors = []\n",
    "\n",
    "#for actor in df['actors']:\n",
    "#    actors.append(actor.split(\", \")[:4])"
   ]
  },
  {
   "cell_type": "code",
   "execution_count": 107,
   "metadata": {},
   "outputs": [],
   "source": [
    "#actor_scores = []\n",
    "#a = {}\n",
    "#for film in tqdm(actors):\n",
    "#    for actor in film:\n",
    "#        a[actor] = pd.DataFrame(df[df['actors'].str.contains(actor)])\n",
    "#        actor_scores.append([actor,\n",
    "#                           a[actor]['avg_vote'].mean(),\n",
    "#                           a[actor]['metascore'].mean(),\n",
    "#                           a[actor]['tomatometer_score'].mean(),\n",
    "#                           a[actor]['audience_score'].mean()])"
   ]
  },
  {
   "cell_type": "code",
   "execution_count": 108,
   "metadata": {},
   "outputs": [],
   "source": [
    "cols = ['actor', 'actor_imdb', 'actor_metascore', 'actor_tomatometer', 'actor_audience']\n",
    "df_actors = pd.DataFrame(actor_scores, index=range(len(actor_scores)),columns=cols)\n",
    "#actors[df_actors['actor']=='Meg Ryan']"
   ]
  },
  {
   "cell_type": "code",
   "execution_count": 109,
   "metadata": {},
   "outputs": [
    {
     "data": {
      "text/html": [
       "<div>\n",
       "<style scoped>\n",
       "    .dataframe tbody tr th:only-of-type {\n",
       "        vertical-align: middle;\n",
       "    }\n",
       "\n",
       "    .dataframe tbody tr th {\n",
       "        vertical-align: top;\n",
       "    }\n",
       "\n",
       "    .dataframe thead th {\n",
       "        text-align: right;\n",
       "    }\n",
       "</style>\n",
       "<table border=\"1\" class=\"dataframe\">\n",
       "  <thead>\n",
       "    <tr style=\"text-align: right;\">\n",
       "      <th></th>\n",
       "      <th>imdb_title_id</th>\n",
       "      <th>title</th>\n",
       "      <th>original_title</th>\n",
       "      <th>year</th>\n",
       "      <th>date_published</th>\n",
       "      <th>genre</th>\n",
       "      <th>duration</th>\n",
       "      <th>country</th>\n",
       "      <th>language</th>\n",
       "      <th>director</th>\n",
       "      <th>...</th>\n",
       "      <th>net_income</th>\n",
       "      <th>net_us_income</th>\n",
       "      <th>director_imdb</th>\n",
       "      <th>director_metascore</th>\n",
       "      <th>director_tomatometer</th>\n",
       "      <th>director_audience</th>\n",
       "      <th>writer_imdb</th>\n",
       "      <th>writer_metascore</th>\n",
       "      <th>writer_tomatometer</th>\n",
       "      <th>writer_audience</th>\n",
       "    </tr>\n",
       "  </thead>\n",
       "  <tbody>\n",
       "    <tr>\n",
       "      <td>0</td>\n",
       "      <td>tt0035423</td>\n",
       "      <td>Kate &amp; Leopold</td>\n",
       "      <td>Kate &amp; Leopold</td>\n",
       "      <td>2001</td>\n",
       "      <td>2002-04-05</td>\n",
       "      <td>Comedy, Fantasy, Romance</td>\n",
       "      <td>118</td>\n",
       "      <td>USA</td>\n",
       "      <td>English, French</td>\n",
       "      <td>James Mangold</td>\n",
       "      <td>...</td>\n",
       "      <td>4.044758e+07</td>\n",
       "      <td>-1.267662e+06</td>\n",
       "      <td>7.157143</td>\n",
       "      <td>61.714286</td>\n",
       "      <td>69.000000</td>\n",
       "      <td>76.142857</td>\n",
       "      <td>6.400000</td>\n",
       "      <td>44.000000</td>\n",
       "      <td>50.000000</td>\n",
       "      <td>62.000000</td>\n",
       "    </tr>\n",
       "    <tr>\n",
       "      <td>1</td>\n",
       "      <td>tt0099005</td>\n",
       "      <td>Air America</td>\n",
       "      <td>Air America</td>\n",
       "      <td>1990</td>\n",
       "      <td>1991-02-22</td>\n",
       "      <td>Action, Comedy, War</td>\n",
       "      <td>113</td>\n",
       "      <td>USA</td>\n",
       "      <td>English, Lao</td>\n",
       "      <td>Roger Spottiswoode</td>\n",
       "      <td>...</td>\n",
       "      <td>-3.009850e+06</td>\n",
       "      <td>-7.719392e+06</td>\n",
       "      <td>6.150000</td>\n",
       "      <td>47.400000</td>\n",
       "      <td>37.833333</td>\n",
       "      <td>47.333333</td>\n",
       "      <td>5.800000</td>\n",
       "      <td>33.000000</td>\n",
       "      <td>13.000000</td>\n",
       "      <td>34.000000</td>\n",
       "    </tr>\n",
       "    <tr>\n",
       "      <td>2</td>\n",
       "      <td>tt0099012</td>\n",
       "      <td>Alice</td>\n",
       "      <td>Alice</td>\n",
       "      <td>1990</td>\n",
       "      <td>1991-01-10</td>\n",
       "      <td>Comedy, Romance</td>\n",
       "      <td>106</td>\n",
       "      <td>USA</td>\n",
       "      <td>English, Cantonese</td>\n",
       "      <td>Woody Allen</td>\n",
       "      <td>...</td>\n",
       "      <td>-9.131577e+06</td>\n",
       "      <td>-9.131577e+06</td>\n",
       "      <td>6.863158</td>\n",
       "      <td>58.625000</td>\n",
       "      <td>62.631579</td>\n",
       "      <td>59.947368</td>\n",
       "      <td>6.863158</td>\n",
       "      <td>58.625000</td>\n",
       "      <td>62.631579</td>\n",
       "      <td>59.947368</td>\n",
       "    </tr>\n",
       "    <tr>\n",
       "      <td>3</td>\n",
       "      <td>tt0099018</td>\n",
       "      <td>Almost an Angel</td>\n",
       "      <td>Almost an Angel</td>\n",
       "      <td>1990</td>\n",
       "      <td>1990-12-27</td>\n",
       "      <td>Comedy, Drama</td>\n",
       "      <td>95</td>\n",
       "      <td>USA</td>\n",
       "      <td>English</td>\n",
       "      <td>John Cornell</td>\n",
       "      <td>...</td>\n",
       "      <td>-3.532654e+07</td>\n",
       "      <td>-3.532654e+07</td>\n",
       "      <td>5.500000</td>\n",
       "      <td>NaN</td>\n",
       "      <td>29.000000</td>\n",
       "      <td>48.000000</td>\n",
       "      <td>5.150000</td>\n",
       "      <td>37.000000</td>\n",
       "      <td>20.000000</td>\n",
       "      <td>36.500000</td>\n",
       "    </tr>\n",
       "    <tr>\n",
       "      <td>4</td>\n",
       "      <td>tt0099044</td>\n",
       "      <td>Another 48 Hrs.</td>\n",
       "      <td>Another 48 Hrs.</td>\n",
       "      <td>1990</td>\n",
       "      <td>1990-09-21</td>\n",
       "      <td>Action, Comedy, Crime</td>\n",
       "      <td>93</td>\n",
       "      <td>USA</td>\n",
       "      <td>English, Cantonese</td>\n",
       "      <td>Walter Hill</td>\n",
       "      <td>...</td>\n",
       "      <td>2.259620e+08</td>\n",
       "      <td>8.375647e+07</td>\n",
       "      <td>6.066667</td>\n",
       "      <td>43.000000</td>\n",
       "      <td>43.333333</td>\n",
       "      <td>41.000000</td>\n",
       "      <td>5.900000</td>\n",
       "      <td>23.000000</td>\n",
       "      <td>18.000000</td>\n",
       "      <td>35.000000</td>\n",
       "    </tr>\n",
       "    <tr>\n",
       "      <td>...</td>\n",
       "      <td>...</td>\n",
       "      <td>...</td>\n",
       "      <td>...</td>\n",
       "      <td>...</td>\n",
       "      <td>...</td>\n",
       "      <td>...</td>\n",
       "      <td>...</td>\n",
       "      <td>...</td>\n",
       "      <td>...</td>\n",
       "      <td>...</td>\n",
       "      <td>...</td>\n",
       "      <td>...</td>\n",
       "      <td>...</td>\n",
       "      <td>...</td>\n",
       "      <td>...</td>\n",
       "      <td>...</td>\n",
       "      <td>...</td>\n",
       "      <td>...</td>\n",
       "      <td>...</td>\n",
       "      <td>...</td>\n",
       "      <td>...</td>\n",
       "    </tr>\n",
       "    <tr>\n",
       "      <td>4348</td>\n",
       "      <td>tt7401588</td>\n",
       "      <td>Instant Family</td>\n",
       "      <td>Instant Family</td>\n",
       "      <td>2018</td>\n",
       "      <td>2019-02-14</td>\n",
       "      <td>Comedy, Drama</td>\n",
       "      <td>118</td>\n",
       "      <td>USA</td>\n",
       "      <td>English, Spanish</td>\n",
       "      <td>Sean Anders</td>\n",
       "      <td>...</td>\n",
       "      <td>7.387090e+07</td>\n",
       "      <td>1.971409e+07</td>\n",
       "      <td>6.216667</td>\n",
       "      <td>40.166667</td>\n",
       "      <td>40.833333</td>\n",
       "      <td>56.833333</td>\n",
       "      <td>6.266667</td>\n",
       "      <td>43.666667</td>\n",
       "      <td>45.333333</td>\n",
       "      <td>54.333333</td>\n",
       "    </tr>\n",
       "    <tr>\n",
       "      <td>4349</td>\n",
       "      <td>tt7424200</td>\n",
       "      <td>Teen Titans Go! To the Movies</td>\n",
       "      <td>Teen Titans Go! To the Movies</td>\n",
       "      <td>2018</td>\n",
       "      <td>2018-08-03</td>\n",
       "      <td>Animation, Action, Comedy</td>\n",
       "      <td>84</td>\n",
       "      <td>USA</td>\n",
       "      <td>English</td>\n",
       "      <td>Aaron Horvath, Peter Rida Michail</td>\n",
       "      <td>...</td>\n",
       "      <td>4.285290e+07</td>\n",
       "      <td>2.014883e+07</td>\n",
       "      <td>6.800000</td>\n",
       "      <td>69.000000</td>\n",
       "      <td>91.000000</td>\n",
       "      <td>72.000000</td>\n",
       "      <td>6.800000</td>\n",
       "      <td>69.000000</td>\n",
       "      <td>91.000000</td>\n",
       "      <td>72.000000</td>\n",
       "    </tr>\n",
       "    <tr>\n",
       "      <td>4350</td>\n",
       "      <td>tt7668870</td>\n",
       "      <td>Searching</td>\n",
       "      <td>Searching</td>\n",
       "      <td>2018</td>\n",
       "      <td>2018-08-31</td>\n",
       "      <td>Drama, Mystery, Thriller</td>\n",
       "      <td>102</td>\n",
       "      <td>Russia, USA</td>\n",
       "      <td>English</td>\n",
       "      <td>Aneesh Chaganty</td>\n",
       "      <td>...</td>\n",
       "      <td>7.593345e+07</td>\n",
       "      <td>2.559651e+07</td>\n",
       "      <td>7.700000</td>\n",
       "      <td>71.000000</td>\n",
       "      <td>92.000000</td>\n",
       "      <td>87.000000</td>\n",
       "      <td>7.700000</td>\n",
       "      <td>71.000000</td>\n",
       "      <td>92.000000</td>\n",
       "      <td>87.000000</td>\n",
       "    </tr>\n",
       "    <tr>\n",
       "      <td>4351</td>\n",
       "      <td>tt7690670</td>\n",
       "      <td>Superfly</td>\n",
       "      <td>Superfly</td>\n",
       "      <td>2018</td>\n",
       "      <td>2018-09-14</td>\n",
       "      <td>Action, Crime, Thriller</td>\n",
       "      <td>116</td>\n",
       "      <td>USA</td>\n",
       "      <td>English, Spanish, Cantonese</td>\n",
       "      <td>Director X.</td>\n",
       "      <td>...</td>\n",
       "      <td>4.867310e+06</td>\n",
       "      <td>4.627472e+06</td>\n",
       "      <td>5.100000</td>\n",
       "      <td>52.000000</td>\n",
       "      <td>50.000000</td>\n",
       "      <td>46.000000</td>\n",
       "      <td>6.350000</td>\n",
       "      <td>54.000000</td>\n",
       "      <td>57.500000</td>\n",
       "      <td>58.500000</td>\n",
       "    </tr>\n",
       "    <tr>\n",
       "      <td>4352</td>\n",
       "      <td>tt7784604</td>\n",
       "      <td>Hereditary</td>\n",
       "      <td>Hereditary</td>\n",
       "      <td>2018</td>\n",
       "      <td>2018-06-15</td>\n",
       "      <td>Drama, Horror, Mystery</td>\n",
       "      <td>127</td>\n",
       "      <td>USA</td>\n",
       "      <td>English, Spanish</td>\n",
       "      <td>Ari Aster</td>\n",
       "      <td>...</td>\n",
       "      <td>7.059319e+07</td>\n",
       "      <td>3.468679e+07</td>\n",
       "      <td>7.300000</td>\n",
       "      <td>87.000000</td>\n",
       "      <td>89.000000</td>\n",
       "      <td>67.000000</td>\n",
       "      <td>7.300000</td>\n",
       "      <td>87.000000</td>\n",
       "      <td>89.000000</td>\n",
       "      <td>67.000000</td>\n",
       "    </tr>\n",
       "  </tbody>\n",
       "</table>\n",
       "<p>4353 rows × 37 columns</p>\n",
       "</div>"
      ],
      "text/plain": [
       "     imdb_title_id                          title  \\\n",
       "0        tt0035423                 Kate & Leopold   \n",
       "1        tt0099005                    Air America   \n",
       "2        tt0099012                          Alice   \n",
       "3        tt0099018                Almost an Angel   \n",
       "4        tt0099044                Another 48 Hrs.   \n",
       "...            ...                            ...   \n",
       "4348     tt7401588                 Instant Family   \n",
       "4349     tt7424200  Teen Titans Go! To the Movies   \n",
       "4350     tt7668870                      Searching   \n",
       "4351     tt7690670                       Superfly   \n",
       "4352     tt7784604                     Hereditary   \n",
       "\n",
       "                     original_title  year date_published  \\\n",
       "0                    Kate & Leopold  2001     2002-04-05   \n",
       "1                       Air America  1990     1991-02-22   \n",
       "2                             Alice  1990     1991-01-10   \n",
       "3                   Almost an Angel  1990     1990-12-27   \n",
       "4                   Another 48 Hrs.  1990     1990-09-21   \n",
       "...                             ...   ...            ...   \n",
       "4348                 Instant Family  2018     2019-02-14   \n",
       "4349  Teen Titans Go! To the Movies  2018     2018-08-03   \n",
       "4350                      Searching  2018     2018-08-31   \n",
       "4351                       Superfly  2018     2018-09-14   \n",
       "4352                     Hereditary  2018     2018-06-15   \n",
       "\n",
       "                          genre  duration      country  \\\n",
       "0      Comedy, Fantasy, Romance       118          USA   \n",
       "1           Action, Comedy, War       113          USA   \n",
       "2               Comedy, Romance       106          USA   \n",
       "3                 Comedy, Drama        95          USA   \n",
       "4         Action, Comedy, Crime        93          USA   \n",
       "...                         ...       ...          ...   \n",
       "4348              Comedy, Drama       118          USA   \n",
       "4349  Animation, Action, Comedy        84          USA   \n",
       "4350   Drama, Mystery, Thriller       102  Russia, USA   \n",
       "4351    Action, Crime, Thriller       116          USA   \n",
       "4352     Drama, Horror, Mystery       127          USA   \n",
       "\n",
       "                         language                           director  ...  \\\n",
       "0                 English, French                      James Mangold  ...   \n",
       "1                    English, Lao                 Roger Spottiswoode  ...   \n",
       "2              English, Cantonese                        Woody Allen  ...   \n",
       "3                         English                       John Cornell  ...   \n",
       "4              English, Cantonese                        Walter Hill  ...   \n",
       "...                           ...                                ...  ...   \n",
       "4348             English, Spanish                        Sean Anders  ...   \n",
       "4349                      English  Aaron Horvath, Peter Rida Michail  ...   \n",
       "4350                      English                    Aneesh Chaganty  ...   \n",
       "4351  English, Spanish, Cantonese                        Director X.  ...   \n",
       "4352             English, Spanish                          Ari Aster  ...   \n",
       "\n",
       "        net_income net_us_income director_imdb director_metascore  \\\n",
       "0     4.044758e+07 -1.267662e+06      7.157143          61.714286   \n",
       "1    -3.009850e+06 -7.719392e+06      6.150000          47.400000   \n",
       "2    -9.131577e+06 -9.131577e+06      6.863158          58.625000   \n",
       "3    -3.532654e+07 -3.532654e+07      5.500000                NaN   \n",
       "4     2.259620e+08  8.375647e+07      6.066667          43.000000   \n",
       "...            ...           ...           ...                ...   \n",
       "4348  7.387090e+07  1.971409e+07      6.216667          40.166667   \n",
       "4349  4.285290e+07  2.014883e+07      6.800000          69.000000   \n",
       "4350  7.593345e+07  2.559651e+07      7.700000          71.000000   \n",
       "4351  4.867310e+06  4.627472e+06      5.100000          52.000000   \n",
       "4352  7.059319e+07  3.468679e+07      7.300000          87.000000   \n",
       "\n",
       "      director_tomatometer  director_audience  writer_imdb  writer_metascore  \\\n",
       "0                69.000000          76.142857     6.400000         44.000000   \n",
       "1                37.833333          47.333333     5.800000         33.000000   \n",
       "2                62.631579          59.947368     6.863158         58.625000   \n",
       "3                29.000000          48.000000     5.150000         37.000000   \n",
       "4                43.333333          41.000000     5.900000         23.000000   \n",
       "...                    ...                ...          ...               ...   \n",
       "4348             40.833333          56.833333     6.266667         43.666667   \n",
       "4349             91.000000          72.000000     6.800000         69.000000   \n",
       "4350             92.000000          87.000000     7.700000         71.000000   \n",
       "4351             50.000000          46.000000     6.350000         54.000000   \n",
       "4352             89.000000          67.000000     7.300000         87.000000   \n",
       "\n",
       "      writer_tomatometer  writer_audience  \n",
       "0              50.000000        62.000000  \n",
       "1              13.000000        34.000000  \n",
       "2              62.631579        59.947368  \n",
       "3              20.000000        36.500000  \n",
       "4              18.000000        35.000000  \n",
       "...                  ...              ...  \n",
       "4348           45.333333        54.333333  \n",
       "4349           91.000000        72.000000  \n",
       "4350           92.000000        87.000000  \n",
       "4351           57.500000        58.500000  \n",
       "4352           89.000000        67.000000  \n",
       "\n",
       "[4353 rows x 37 columns]"
      ]
     },
     "execution_count": 109,
     "metadata": {},
     "output_type": "execute_result"
    }
   ],
   "source": [
    "df = pd.merge(df, df_director, how='left', on='director').drop_duplicates().reset_index(drop=True)\n",
    "df = pd.merge(df, df_writer, how='left', on='writer').drop_duplicates().reset_index(drop=True)\n",
    "df"
   ]
  },
  {
   "cell_type": "markdown",
   "metadata": {},
   "source": [
    "##### Clean US dataset for valuta (dollar sign)"
   ]
  },
  {
   "cell_type": "code",
   "execution_count": 110,
   "metadata": {},
   "outputs": [],
   "source": [
    "df_us['wgi'] = df_us['worlwide_gross_income'].replace({'\\$':''}, regex = True)\n",
    "df_us['budget'] = df_us['budget'].replace({'\\$':''}, regex = True)\n",
    "df_us['usa_gross_income'] = df_us['usa_gross_income'].replace({'\\$':''}, regex = True)\n"
   ]
  },
  {
   "cell_type": "code",
   "execution_count": 111,
   "metadata": {},
   "outputs": [],
   "source": [
    "#len(df_us[df_us.year==2019])\n",
    "df_us.wgi = df_us.wgi.astype(int)\n",
    "df_us = df_us[df_us.year <= 2018]\n",
    "df_us['adjusted'] = inflate_column(df_us, 'wgi')\n",
    "#df_us"
   ]
  },
  {
   "cell_type": "markdown",
   "metadata": {},
   "source": [
    "#### Dummies "
   ]
  },
  {
   "cell_type": "code",
   "execution_count": 138,
   "metadata": {},
   "outputs": [],
   "source": [
    "df = df.dropna().reset_index()\n",
    "df['date_published'] = df['date_published'].apply(lambda x:pd.Timestamp(x).value if x else 0)\n",
    "df[\"season_published\"] = df[\"date_published\"].apply(lambda x: pd.to_datetime(x).month)"
   ]
  },
  {
   "cell_type": "code",
   "execution_count": 147,
   "metadata": {},
   "outputs": [
    {
     "data": {
      "text/html": [
       "<div>\n",
       "<style scoped>\n",
       "    .dataframe tbody tr th:only-of-type {\n",
       "        vertical-align: middle;\n",
       "    }\n",
       "\n",
       "    .dataframe tbody tr th {\n",
       "        vertical-align: top;\n",
       "    }\n",
       "\n",
       "    .dataframe thead th {\n",
       "        text-align: right;\n",
       "    }\n",
       "</style>\n",
       "<table border=\"1\" class=\"dataframe\">\n",
       "  <thead>\n",
       "    <tr style=\"text-align: right;\">\n",
       "      <th></th>\n",
       "      <th>imdb_title_id</th>\n",
       "      <th>title</th>\n",
       "      <th>original_title</th>\n",
       "      <th>year</th>\n",
       "      <th>date_published</th>\n",
       "      <th>genre</th>\n",
       "      <th>duration</th>\n",
       "      <th>country</th>\n",
       "      <th>language</th>\n",
       "      <th>director</th>\n",
       "      <th>...</th>\n",
       "      <th>net_us_income</th>\n",
       "      <th>director_imdb</th>\n",
       "      <th>director_metascore</th>\n",
       "      <th>director_tomatometer</th>\n",
       "      <th>director_audience</th>\n",
       "      <th>writer_imdb</th>\n",
       "      <th>writer_metascore</th>\n",
       "      <th>writer_tomatometer</th>\n",
       "      <th>writer_audience</th>\n",
       "      <th>season_published</th>\n",
       "    </tr>\n",
       "  </thead>\n",
       "  <tbody>\n",
       "    <tr>\n",
       "      <td>0</td>\n",
       "      <td>tt0035423</td>\n",
       "      <td>Kate &amp; Leopold</td>\n",
       "      <td>Kate &amp; Leopold</td>\n",
       "      <td>2001</td>\n",
       "      <td>1017964800000000000</td>\n",
       "      <td>Comedy, Fantasy, Romance</td>\n",
       "      <td>118</td>\n",
       "      <td>USA</td>\n",
       "      <td>English, French</td>\n",
       "      <td>James Mangold</td>\n",
       "      <td>...</td>\n",
       "      <td>-1.267662e+06</td>\n",
       "      <td>7.157143</td>\n",
       "      <td>61.714286</td>\n",
       "      <td>69.000000</td>\n",
       "      <td>76.142857</td>\n",
       "      <td>6.400000</td>\n",
       "      <td>44.000000</td>\n",
       "      <td>50.000000</td>\n",
       "      <td>62.000000</td>\n",
       "      <td>4</td>\n",
       "    </tr>\n",
       "    <tr>\n",
       "      <td>1</td>\n",
       "      <td>tt0099005</td>\n",
       "      <td>Air America</td>\n",
       "      <td>Air America</td>\n",
       "      <td>1990</td>\n",
       "      <td>667180800000000000</td>\n",
       "      <td>Action, Comedy, War</td>\n",
       "      <td>113</td>\n",
       "      <td>USA</td>\n",
       "      <td>English, Lao</td>\n",
       "      <td>Roger Spottiswoode</td>\n",
       "      <td>...</td>\n",
       "      <td>-7.719392e+06</td>\n",
       "      <td>6.150000</td>\n",
       "      <td>47.400000</td>\n",
       "      <td>37.833333</td>\n",
       "      <td>47.333333</td>\n",
       "      <td>5.800000</td>\n",
       "      <td>33.000000</td>\n",
       "      <td>13.000000</td>\n",
       "      <td>34.000000</td>\n",
       "      <td>2</td>\n",
       "    </tr>\n",
       "    <tr>\n",
       "      <td>2</td>\n",
       "      <td>tt0099012</td>\n",
       "      <td>Alice</td>\n",
       "      <td>Alice</td>\n",
       "      <td>1990</td>\n",
       "      <td>663465600000000000</td>\n",
       "      <td>Comedy, Romance</td>\n",
       "      <td>106</td>\n",
       "      <td>USA</td>\n",
       "      <td>English, Cantonese</td>\n",
       "      <td>Woody Allen</td>\n",
       "      <td>...</td>\n",
       "      <td>-9.131577e+06</td>\n",
       "      <td>6.863158</td>\n",
       "      <td>58.625000</td>\n",
       "      <td>62.631579</td>\n",
       "      <td>59.947368</td>\n",
       "      <td>6.863158</td>\n",
       "      <td>58.625000</td>\n",
       "      <td>62.631579</td>\n",
       "      <td>59.947368</td>\n",
       "      <td>1</td>\n",
       "    </tr>\n",
       "    <tr>\n",
       "      <td>3</td>\n",
       "      <td>tt0099044</td>\n",
       "      <td>Another 48 Hrs.</td>\n",
       "      <td>Another 48 Hrs.</td>\n",
       "      <td>1990</td>\n",
       "      <td>653875200000000000</td>\n",
       "      <td>Action, Comedy, Crime</td>\n",
       "      <td>93</td>\n",
       "      <td>USA</td>\n",
       "      <td>English, Cantonese</td>\n",
       "      <td>Walter Hill</td>\n",
       "      <td>...</td>\n",
       "      <td>8.375647e+07</td>\n",
       "      <td>6.066667</td>\n",
       "      <td>43.000000</td>\n",
       "      <td>43.333333</td>\n",
       "      <td>41.000000</td>\n",
       "      <td>5.900000</td>\n",
       "      <td>23.000000</td>\n",
       "      <td>18.000000</td>\n",
       "      <td>35.000000</td>\n",
       "      <td>9</td>\n",
       "    </tr>\n",
       "    <tr>\n",
       "      <td>4</td>\n",
       "      <td>tt0099052</td>\n",
       "      <td>Arachnophobia</td>\n",
       "      <td>Arachnophobia</td>\n",
       "      <td>1990</td>\n",
       "      <td>662947200000000000</td>\n",
       "      <td>Comedy, Fantasy, Horror</td>\n",
       "      <td>109</td>\n",
       "      <td>USA</td>\n",
       "      <td>English, Spanish</td>\n",
       "      <td>Frank Marshall</td>\n",
       "      <td>...</td>\n",
       "      <td>6.104506e+07</td>\n",
       "      <td>6.500000</td>\n",
       "      <td>51.000000</td>\n",
       "      <td>61.250000</td>\n",
       "      <td>57.500000</td>\n",
       "      <td>6.400000</td>\n",
       "      <td>67.000000</td>\n",
       "      <td>92.000000</td>\n",
       "      <td>54.000000</td>\n",
       "      <td>1</td>\n",
       "    </tr>\n",
       "    <tr>\n",
       "      <td>...</td>\n",
       "      <td>...</td>\n",
       "      <td>...</td>\n",
       "      <td>...</td>\n",
       "      <td>...</td>\n",
       "      <td>...</td>\n",
       "      <td>...</td>\n",
       "      <td>...</td>\n",
       "      <td>...</td>\n",
       "      <td>...</td>\n",
       "      <td>...</td>\n",
       "      <td>...</td>\n",
       "      <td>...</td>\n",
       "      <td>...</td>\n",
       "      <td>...</td>\n",
       "      <td>...</td>\n",
       "      <td>...</td>\n",
       "      <td>...</td>\n",
       "      <td>...</td>\n",
       "      <td>...</td>\n",
       "      <td>...</td>\n",
       "      <td>...</td>\n",
       "    </tr>\n",
       "    <tr>\n",
       "      <td>3870</td>\n",
       "      <td>tt7401588</td>\n",
       "      <td>Instant Family</td>\n",
       "      <td>Instant Family</td>\n",
       "      <td>2018</td>\n",
       "      <td>1550102400000000000</td>\n",
       "      <td>Comedy, Drama</td>\n",
       "      <td>118</td>\n",
       "      <td>USA</td>\n",
       "      <td>English, Spanish</td>\n",
       "      <td>Sean Anders</td>\n",
       "      <td>...</td>\n",
       "      <td>1.971409e+07</td>\n",
       "      <td>6.216667</td>\n",
       "      <td>40.166667</td>\n",
       "      <td>40.833333</td>\n",
       "      <td>56.833333</td>\n",
       "      <td>6.266667</td>\n",
       "      <td>43.666667</td>\n",
       "      <td>45.333333</td>\n",
       "      <td>54.333333</td>\n",
       "      <td>2</td>\n",
       "    </tr>\n",
       "    <tr>\n",
       "      <td>3871</td>\n",
       "      <td>tt7424200</td>\n",
       "      <td>Teen Titans Go! To the Movies</td>\n",
       "      <td>Teen Titans Go! To the Movies</td>\n",
       "      <td>2018</td>\n",
       "      <td>1533254400000000000</td>\n",
       "      <td>Animation, Action, Comedy</td>\n",
       "      <td>84</td>\n",
       "      <td>USA</td>\n",
       "      <td>English</td>\n",
       "      <td>Aaron Horvath, Peter Rida Michail</td>\n",
       "      <td>...</td>\n",
       "      <td>2.014883e+07</td>\n",
       "      <td>6.800000</td>\n",
       "      <td>69.000000</td>\n",
       "      <td>91.000000</td>\n",
       "      <td>72.000000</td>\n",
       "      <td>6.800000</td>\n",
       "      <td>69.000000</td>\n",
       "      <td>91.000000</td>\n",
       "      <td>72.000000</td>\n",
       "      <td>8</td>\n",
       "    </tr>\n",
       "    <tr>\n",
       "      <td>3872</td>\n",
       "      <td>tt7668870</td>\n",
       "      <td>Searching</td>\n",
       "      <td>Searching</td>\n",
       "      <td>2018</td>\n",
       "      <td>1535673600000000000</td>\n",
       "      <td>Drama, Mystery, Thriller</td>\n",
       "      <td>102</td>\n",
       "      <td>Russia, USA</td>\n",
       "      <td>English</td>\n",
       "      <td>Aneesh Chaganty</td>\n",
       "      <td>...</td>\n",
       "      <td>2.559651e+07</td>\n",
       "      <td>7.700000</td>\n",
       "      <td>71.000000</td>\n",
       "      <td>92.000000</td>\n",
       "      <td>87.000000</td>\n",
       "      <td>7.700000</td>\n",
       "      <td>71.000000</td>\n",
       "      <td>92.000000</td>\n",
       "      <td>87.000000</td>\n",
       "      <td>8</td>\n",
       "    </tr>\n",
       "    <tr>\n",
       "      <td>3873</td>\n",
       "      <td>tt7690670</td>\n",
       "      <td>Superfly</td>\n",
       "      <td>Superfly</td>\n",
       "      <td>2018</td>\n",
       "      <td>1536883200000000000</td>\n",
       "      <td>Action, Crime, Thriller</td>\n",
       "      <td>116</td>\n",
       "      <td>USA</td>\n",
       "      <td>English, Spanish, Cantonese</td>\n",
       "      <td>Director X.</td>\n",
       "      <td>...</td>\n",
       "      <td>4.627472e+06</td>\n",
       "      <td>5.100000</td>\n",
       "      <td>52.000000</td>\n",
       "      <td>50.000000</td>\n",
       "      <td>46.000000</td>\n",
       "      <td>6.350000</td>\n",
       "      <td>54.000000</td>\n",
       "      <td>57.500000</td>\n",
       "      <td>58.500000</td>\n",
       "      <td>9</td>\n",
       "    </tr>\n",
       "    <tr>\n",
       "      <td>3874</td>\n",
       "      <td>tt7784604</td>\n",
       "      <td>Hereditary</td>\n",
       "      <td>Hereditary</td>\n",
       "      <td>2018</td>\n",
       "      <td>1529020800000000000</td>\n",
       "      <td>Drama, Horror, Mystery</td>\n",
       "      <td>127</td>\n",
       "      <td>USA</td>\n",
       "      <td>English, Spanish</td>\n",
       "      <td>Ari Aster</td>\n",
       "      <td>...</td>\n",
       "      <td>3.468679e+07</td>\n",
       "      <td>7.300000</td>\n",
       "      <td>87.000000</td>\n",
       "      <td>89.000000</td>\n",
       "      <td>67.000000</td>\n",
       "      <td>7.300000</td>\n",
       "      <td>87.000000</td>\n",
       "      <td>89.000000</td>\n",
       "      <td>67.000000</td>\n",
       "      <td>6</td>\n",
       "    </tr>\n",
       "  </tbody>\n",
       "</table>\n",
       "<p>3875 rows × 38 columns</p>\n",
       "</div>"
      ],
      "text/plain": [
       "     imdb_title_id                          title  \\\n",
       "0        tt0035423                 Kate & Leopold   \n",
       "1        tt0099005                    Air America   \n",
       "2        tt0099012                          Alice   \n",
       "3        tt0099044                Another 48 Hrs.   \n",
       "4        tt0099052                  Arachnophobia   \n",
       "...            ...                            ...   \n",
       "3870     tt7401588                 Instant Family   \n",
       "3871     tt7424200  Teen Titans Go! To the Movies   \n",
       "3872     tt7668870                      Searching   \n",
       "3873     tt7690670                       Superfly   \n",
       "3874     tt7784604                     Hereditary   \n",
       "\n",
       "                     original_title  year       date_published  \\\n",
       "0                    Kate & Leopold  2001  1017964800000000000   \n",
       "1                       Air America  1990   667180800000000000   \n",
       "2                             Alice  1990   663465600000000000   \n",
       "3                   Another 48 Hrs.  1990   653875200000000000   \n",
       "4                     Arachnophobia  1990   662947200000000000   \n",
       "...                             ...   ...                  ...   \n",
       "3870                 Instant Family  2018  1550102400000000000   \n",
       "3871  Teen Titans Go! To the Movies  2018  1533254400000000000   \n",
       "3872                      Searching  2018  1535673600000000000   \n",
       "3873                       Superfly  2018  1536883200000000000   \n",
       "3874                     Hereditary  2018  1529020800000000000   \n",
       "\n",
       "                          genre  duration      country  \\\n",
       "0      Comedy, Fantasy, Romance       118          USA   \n",
       "1           Action, Comedy, War       113          USA   \n",
       "2               Comedy, Romance       106          USA   \n",
       "3         Action, Comedy, Crime        93          USA   \n",
       "4       Comedy, Fantasy, Horror       109          USA   \n",
       "...                         ...       ...          ...   \n",
       "3870              Comedy, Drama       118          USA   \n",
       "3871  Animation, Action, Comedy        84          USA   \n",
       "3872   Drama, Mystery, Thriller       102  Russia, USA   \n",
       "3873    Action, Crime, Thriller       116          USA   \n",
       "3874     Drama, Horror, Mystery       127          USA   \n",
       "\n",
       "                         language                           director  ...  \\\n",
       "0                 English, French                      James Mangold  ...   \n",
       "1                    English, Lao                 Roger Spottiswoode  ...   \n",
       "2              English, Cantonese                        Woody Allen  ...   \n",
       "3              English, Cantonese                        Walter Hill  ...   \n",
       "4                English, Spanish                     Frank Marshall  ...   \n",
       "...                           ...                                ...  ...   \n",
       "3870             English, Spanish                        Sean Anders  ...   \n",
       "3871                      English  Aaron Horvath, Peter Rida Michail  ...   \n",
       "3872                      English                    Aneesh Chaganty  ...   \n",
       "3873  English, Spanish, Cantonese                        Director X.  ...   \n",
       "3874             English, Spanish                          Ari Aster  ...   \n",
       "\n",
       "     net_us_income director_imdb director_metascore director_tomatometer  \\\n",
       "0    -1.267662e+06      7.157143          61.714286            69.000000   \n",
       "1    -7.719392e+06      6.150000          47.400000            37.833333   \n",
       "2    -9.131577e+06      6.863158          58.625000            62.631579   \n",
       "3     8.375647e+07      6.066667          43.000000            43.333333   \n",
       "4     6.104506e+07      6.500000          51.000000            61.250000   \n",
       "...            ...           ...                ...                  ...   \n",
       "3870  1.971409e+07      6.216667          40.166667            40.833333   \n",
       "3871  2.014883e+07      6.800000          69.000000            91.000000   \n",
       "3872  2.559651e+07      7.700000          71.000000            92.000000   \n",
       "3873  4.627472e+06      5.100000          52.000000            50.000000   \n",
       "3874  3.468679e+07      7.300000          87.000000            89.000000   \n",
       "\n",
       "      director_audience  writer_imdb  writer_metascore  writer_tomatometer  \\\n",
       "0             76.142857     6.400000         44.000000           50.000000   \n",
       "1             47.333333     5.800000         33.000000           13.000000   \n",
       "2             59.947368     6.863158         58.625000           62.631579   \n",
       "3             41.000000     5.900000         23.000000           18.000000   \n",
       "4             57.500000     6.400000         67.000000           92.000000   \n",
       "...                 ...          ...               ...                 ...   \n",
       "3870          56.833333     6.266667         43.666667           45.333333   \n",
       "3871          72.000000     6.800000         69.000000           91.000000   \n",
       "3872          87.000000     7.700000         71.000000           92.000000   \n",
       "3873          46.000000     6.350000         54.000000           57.500000   \n",
       "3874          67.000000     7.300000         87.000000           89.000000   \n",
       "\n",
       "      writer_audience  season_published  \n",
       "0           62.000000                 4  \n",
       "1           34.000000                 2  \n",
       "2           59.947368                 1  \n",
       "3           35.000000                 9  \n",
       "4           54.000000                 1  \n",
       "...               ...               ...  \n",
       "3870        54.333333                 2  \n",
       "3871        72.000000                 8  \n",
       "3872        87.000000                 8  \n",
       "3873        58.500000                 9  \n",
       "3874        67.000000                 6  \n",
       "\n",
       "[3875 rows x 38 columns]"
      ]
     },
     "execution_count": 147,
     "metadata": {},
     "output_type": "execute_result"
    }
   ],
   "source": [
    "df = df.drop(['level_0'],axis=1)"
   ]
  },
  {
   "cell_type": "code",
   "execution_count": 148,
   "metadata": {},
   "outputs": [],
   "source": [
    "\n",
    "\n",
    "cols = ['genre', 'director', 'actors', 'writer', 'production_company', \"season_published\"]\n",
    "df_dummies = pd.get_dummies(df, drop_first=True, columns=cols).reset_index()"
   ]
  },
  {
   "cell_type": "code",
   "execution_count": 150,
   "metadata": {},
   "outputs": [],
   "source": [
    "dummies_final = df_dummies.drop([\"reviews_from_users\",\"reviews_from_critics\",\"worldwide_gross_income\",\"votes\",\"budget\",\"usa_gross_income\",\"imdb_title_id\",\"title\",\"original_title\",\"date_published\",\"duration\",\"year\",\"language\",\"description\"],axis=1)"
   ]
  },
  {
   "cell_type": "markdown",
   "metadata": {},
   "source": [
    "##### Seperating data into features (have greater flexibility for project when predicting)"
   ]
  },
  {
   "cell_type": "code",
   "execution_count": 151,
   "metadata": {},
   "outputs": [],
   "source": [
    "df_x = dummies_final.drop(['net_income','net_us_income','adjusted_wgi', 'adjusted_us_income'],axis=1)\n",
    "df_y = dummies_final[['net_income','net_us_income','adjusted_wgi', 'adjusted_us_income']]"
   ]
  },
  {
   "cell_type": "code",
   "execution_count": 152,
   "metadata": {},
   "outputs": [],
   "source": [
    "df_x.to_csv('inputInfo_X.csv', encoding='utf-8',index=False)"
   ]
  },
  {
   "cell_type": "code",
   "execution_count": 153,
   "metadata": {},
   "outputs": [],
   "source": [
    "df_y.to_csv('inputInfo_Y.csv', encoding='utf-8',index=False)"
   ]
  },
  {
   "cell_type": "code",
   "execution_count": 154,
   "metadata": {},
   "outputs": [],
   "source": [
    "x = pd.read_csv(\"inputInfo_X.csv\")"
   ]
  },
  {
   "cell_type": "code",
   "execution_count": 155,
   "metadata": {},
   "outputs": [],
   "source": [
    "y = pd.read_csv(\"inputInfo_Y.csv\")"
   ]
  },
  {
   "cell_type": "markdown",
   "metadata": {},
   "source": [
    "##### Converting columns with multiple string entries to a list. This will assist for converting each string entry to dummy variables"
   ]
  },
  {
   "cell_type": "code",
   "execution_count": 28,
   "metadata": {},
   "outputs": [],
   "source": [
    "def convert_to_array(rating):\n",
    "    rating = str(rating)\n",
    "    rating = rating.lower()\n",
    "    rating = rating.split(\",\")\n",
    "    return rating"
   ]
  },
  {
   "cell_type": "code",
   "execution_count": 29,
   "metadata": {},
   "outputs": [],
   "source": [
    "x[\"genre\"]= x[\"genre\"].apply(lambda x: convert_to_array(x))\n",
    "x[\"country\"] = x[\"country\"].apply(lambda x: convert_to_array(x))\n",
    "x[\"director\"] = x[\"director\"].apply(lambda x: convert_to_array(x))\n",
    "x[\"actors\"] = x[\"actors\"].apply(lambda x: convert_to_array(x))\n",
    "x[\"title\"] = x[\"title\"].apply(lambda x: convert_to_array(x))\n",
    "x[\"production_company\"] = x[\"production_company\"].apply(lambda x: convert_to_array(x))\n",
    "x[\"writer\"] = x[\"writer\"].apply(lambda x: convert_to_array(x))"
   ]
  },
  {
   "cell_type": "markdown",
   "metadata": {},
   "source": [
    "##### Converting published date to months"
   ]
  },
  {
   "cell_type": "code",
   "execution_count": 30,
   "metadata": {},
   "outputs": [],
   "source": [
    "x['date_published'] = x['date_published'].apply(lambda x:pd.Timestamp(x).value if x else 0)\n",
    "x[\"season_published\"] = x[\"date_published\"].apply(lambda x: pd.to_datetime(x).month)"
   ]
  },
  {
   "cell_type": "markdown",
   "metadata": {},
   "source": [
    "##### Creating dummy variables "
   ]
  },
  {
   "cell_type": "code",
   "execution_count": 31,
   "metadata": {},
   "outputs": [],
   "source": [
    "from sklearn.preprocessing import MultiLabelBinarizer\n",
    "MLB = MultiLabelBinarizer()"
   ]
  },
  {
   "cell_type": "code",
   "execution_count": 32,
   "metadata": {},
   "outputs": [],
   "source": [
    "actor_dummy = pd.DataFrame(MLB.fit_transform(x[\"actors\"]),columns = MLB.classes_,index=x.index)\n",
    "genre_dummy = pd.DataFrame(MLB.fit_transform(x[\"genre\"]),columns=MLB.classes_, index=x.index)\n",
    "country_dummy = pd.DataFrame(MLB.fit_transform(x[\"country\"]),columns = MLB.classes_,index=x.index)\n",
    "director_dummy = pd.DataFrame(MLB.fit_transform(x[\"director\"]),columns = MLB.classes_,index=x.index)\n",
    "production_dummy = pd.DataFrame(MLB.fit_transform(x[\"production_company\"]),columns = MLB.classes_,index=x.index)"
   ]
  },
  {
   "cell_type": "code",
   "execution_count": 156,
   "metadata": {},
   "outputs": [],
   "source": [
    "x_imdb = x.drop(['metascore','tomatometer_score','audience_score'],axis=1)\n",
    "x_meta = x.drop(['avg_vote','tomatometer_score','audience_score'],axis=1)\n",
    "x_tometer = x.drop(['avg_vote','metascore','audience_score'],axis=1)\n",
    "x_audience = x.drop(['avg_vote','tomatometer_score','metascore'],axis=1)\n",
    "y_net = y['net_income']\n",
    "y_wgi = y['adjusted_wgi']"
   ]
  },
  {
   "cell_type": "code",
   "execution_count": 157,
   "metadata": {},
   "outputs": [],
   "source": [
    "y_norm = y_wgi / 100000\n",
    "y_norm = y_norm - y_norm.mean()"
   ]
  },
  {
   "cell_type": "markdown",
   "metadata": {},
   "source": [
    "##### Looking at the predictor values"
   ]
  },
  {
   "cell_type": "code",
   "execution_count": null,
   "metadata": {},
   "outputs": [],
   "source": [
    "#y_2 = y[[\"tomatometer_score\",\"audience_score\",\"metascore\",\"avg_vote\",\"usa_gross_income\",\"worldwide_gross_income\"]]"
   ]
  },
  {
   "cell_type": "markdown",
   "metadata": {},
   "source": [
    "##### Converting the audience and user rating to binary. "
   ]
  },
  {
   "cell_type": "code",
   "execution_count": null,
   "metadata": {},
   "outputs": [],
   "source": [
    "#y_2[\"t_rating\"] = y_2[\"tomatometer_score\"].apply(lambda x: 1 if x > 60.0 else 0)\n",
    "#y_2[\"audience_score\"] = y_2[\"audience_score\"].apply(lambda x: 1 if x > 60.0 else 0) "
   ]
  },
  {
   "cell_type": "code",
   "execution_count": 158,
   "metadata": {},
   "outputs": [],
   "source": [
    "from sklearn.pipeline import make_pipeline\n",
    "from sklearn.preprocessing import StandardScaler, PolynomialFeatures\n",
    "from sklearn.linear_model import LinearRegression\n",
    "from sklearn.metrics import mean_squared_error as mse\n",
    "from sklearn.model_selection import train_test_split\n",
    "from sklearn.linear_model import Lasso\n",
    "from sklearn.model_selection import KFold\n",
    "from sklearn.model_selection import validation_curve\n",
    "from sklearn.metrics import r2_score"
   ]
  },
  {
   "cell_type": "code",
   "execution_count": null,
   "metadata": {},
   "outputs": [],
   "source": [
    "def rmse(y_pred, y_true):\n",
    "    return np.sqrt(mse(y_pred, y_true))\n",
    "\n",
    "output = []\n",
    "\n",
    "for random_state in range(10):\n",
    "    X_dev, X_test, y_dev, y_test = train_test_split(x_imdb, y_wgi, test_size=1/3, random_state=random_state)    \n",
    "    X_train, X_val, y_train, y_val = train_test_split(X_dev, y_dev, test_size=1/2, random_state=random_state)\n",
    "\n",
    "    reg = Lasso().fit(X_train, y_train)\n",
    "    reg.predict(X_test)\n",
    "\n",
    "    output.append([rmse(reg.predict(X_val), y_val),\n",
    "                   rmse(reg.predict(X_test), y_test)])\n",
    "    \n",
    "pd.DataFrame(output, columns=['test', 'validation']).describe()"
   ]
  },
  {
   "cell_type": "code",
   "execution_count": 159,
   "metadata": {},
   "outputs": [],
   "source": [
    "pipe_lasso = make_pipeline(PolynomialFeatures(degree=2, include_bias=False),                           \n",
    "                           StandardScaler(),\n",
    "                           Lasso(random_state=1,max_iter=100000))"
   ]
  },
  {
   "cell_type": "code",
   "execution_count": 160,
   "metadata": {},
   "outputs": [],
   "source": [
    "X_train_imdb, X_test_imdb, y_train_imdb, y_test_imdb = train_test_split(x_imdb, y_norm, test_size=0.5, random_state=1)\n",
    "X_train_meta, X_test_meta, y_train_meta, y_test_meta = train_test_split(x_meta, y_norm, test_size=0.5, random_state=1)\n",
    "X_train_tometer, X_test_tometer, y_train_tometer, y_test_tometer = train_test_split(x_tometer, y_norm, test_size=0.5, random_state=1)\n",
    "X_train_audience, X_test_audience, y_train_audience, y_test_audience = train_test_split(x_audience, y_norm, test_size=0.5, random_state=1)\n"
   ]
  },
  {
   "cell_type": "code",
   "execution_count": 163,
   "metadata": {},
   "outputs": [],
   "source": [
    "sc = StandardScaler()\n",
    "pf = PolynomialFeatures()\n",
    "\n",
    "X_train_pf = pf.fit_transform(X_train)\n",
    "X_test_pf = pf.transform(X_test)\n",
    "\n",
    "\n",
    "X_train_sc = sc.fit_transform(X_train_pf)\n",
    "X_test_sc = sc.transform(X_test_pf)\n"
   ]
  },
  {
   "cell_type": "code",
   "execution_count": 164,
   "metadata": {},
   "outputs": [
    {
     "name": "stdout",
     "output_type": "stream",
     "text": [
      "1443.623649860301\n",
      "0.5640032645591989\n"
     ]
    }
   ],
   "source": [
    "lr = LinearRegression()\n",
    "lr.fit(X_train, y_train)\n",
    "\n",
    "pred_train_lr= lr.predict(X_train)\n",
    "print(np.sqrt(mse(y_train,pred_train_lr)))\n",
    "print(r2_score(y_train, pred_train_lr))"
   ]
  },
  {
   "cell_type": "code",
   "execution_count": 38,
   "metadata": {
    "collapsed": true,
    "jupyter": {
     "outputs_hidden": true
    }
   },
   "outputs": [
    {
     "name": "stderr",
     "output_type": "stream",
     "text": [
      "/Users/ea/opt/anaconda3/lib/python3.7/site-packages/sklearn/linear_model/coordinate_descent.py:475: ConvergenceWarning: Objective did not converge. You might want to increase the number of iterations. Duality gap: 1.7265594814829128e+19, tolerance: 6578972898002222.0\n",
      "  positive)\n",
      "/Users/ea/opt/anaconda3/lib/python3.7/site-packages/sklearn/linear_model/coordinate_descent.py:475: ConvergenceWarning: Objective did not converge. You might want to increase the number of iterations. Duality gap: 1.7265594777656214e+19, tolerance: 6578972898002222.0\n",
      "  positive)\n",
      "/Users/ea/opt/anaconda3/lib/python3.7/site-packages/sklearn/linear_model/coordinate_descent.py:475: ConvergenceWarning: Objective did not converge. You might want to increase the number of iterations. Duality gap: 1.7265594679644137e+19, tolerance: 6578972898002222.0\n",
      "  positive)\n",
      "/Users/ea/opt/anaconda3/lib/python3.7/site-packages/sklearn/linear_model/coordinate_descent.py:475: ConvergenceWarning: Objective did not converge. You might want to increase the number of iterations. Duality gap: 1.7265594421220608e+19, tolerance: 6578972898002222.0\n",
      "  positive)\n",
      "/Users/ea/opt/anaconda3/lib/python3.7/site-packages/sklearn/linear_model/coordinate_descent.py:475: ConvergenceWarning: Objective did not converge. You might want to increase the number of iterations. Duality gap: 1.7265593739848008e+19, tolerance: 6578972898002222.0\n",
      "  positive)\n",
      "/Users/ea/opt/anaconda3/lib/python3.7/site-packages/sklearn/linear_model/coordinate_descent.py:475: ConvergenceWarning: Objective did not converge. You might want to increase the number of iterations. Duality gap: 1.7265591943306265e+19, tolerance: 6578972898002222.0\n",
      "  positive)\n",
      "/Users/ea/opt/anaconda3/lib/python3.7/site-packages/sklearn/linear_model/coordinate_descent.py:475: ConvergenceWarning: Objective did not converge. You might want to increase the number of iterations. Duality gap: 1.7265587206453228e+19, tolerance: 6578972898002222.0\n",
      "  positive)\n",
      "/Users/ea/opt/anaconda3/lib/python3.7/site-packages/sklearn/linear_model/coordinate_descent.py:475: ConvergenceWarning: Objective did not converge. You might want to increase the number of iterations. Duality gap: 1.7265574717027533e+19, tolerance: 6578972898002222.0\n",
      "  positive)\n",
      "/Users/ea/opt/anaconda3/lib/python3.7/site-packages/sklearn/linear_model/coordinate_descent.py:475: ConvergenceWarning: Objective did not converge. You might want to increase the number of iterations. Duality gap: 1.726554178678619e+19, tolerance: 6578972898002222.0\n",
      "  positive)\n",
      "/Users/ea/opt/anaconda3/lib/python3.7/site-packages/sklearn/linear_model/coordinate_descent.py:475: ConvergenceWarning: Objective did not converge. You might want to increase the number of iterations. Duality gap: 1.7265454961335298e+19, tolerance: 6578972898002222.0\n",
      "  positive)\n",
      "/Users/ea/opt/anaconda3/lib/python3.7/site-packages/sklearn/linear_model/coordinate_descent.py:475: ConvergenceWarning: Objective did not converge. You might want to increase the number of iterations. Duality gap: 1.7265226033623499e+19, tolerance: 6578972898002222.0\n",
      "  positive)\n",
      "/Users/ea/opt/anaconda3/lib/python3.7/site-packages/sklearn/linear_model/coordinate_descent.py:475: ConvergenceWarning: Objective did not converge. You might want to increase the number of iterations. Duality gap: 1.726462243597302e+19, tolerance: 6578972898002222.0\n",
      "  positive)\n",
      "/Users/ea/opt/anaconda3/lib/python3.7/site-packages/sklearn/linear_model/coordinate_descent.py:475: ConvergenceWarning: Objective did not converge. You might want to increase the number of iterations. Duality gap: 1.7263030993101015e+19, tolerance: 6578972898002222.0\n",
      "  positive)\n",
      "/Users/ea/opt/anaconda3/lib/python3.7/site-packages/sklearn/linear_model/coordinate_descent.py:475: ConvergenceWarning: Objective did not converge. You might want to increase the number of iterations. Duality gap: 1.7258835146140957e+19, tolerance: 6578972898002222.0\n",
      "  positive)\n",
      "/Users/ea/opt/anaconda3/lib/python3.7/site-packages/sklearn/linear_model/coordinate_descent.py:475: ConvergenceWarning: Objective did not converge. You might want to increase the number of iterations. Duality gap: 1.724777379276929e+19, tolerance: 6578972898002222.0\n",
      "  positive)\n",
      "/Users/ea/opt/anaconda3/lib/python3.7/site-packages/sklearn/linear_model/coordinate_descent.py:475: ConvergenceWarning: Objective did not converge. You might want to increase the number of iterations. Duality gap: 1.7218620356376838e+19, tolerance: 6578972898002222.0\n",
      "  positive)\n",
      "/Users/ea/opt/anaconda3/lib/python3.7/site-packages/sklearn/linear_model/coordinate_descent.py:475: ConvergenceWarning: Objective did not converge. You might want to increase the number of iterations. Duality gap: 1.7141835494200003e+19, tolerance: 6578972898002222.0\n",
      "  positive)\n",
      "/Users/ea/opt/anaconda3/lib/python3.7/site-packages/sklearn/linear_model/coordinate_descent.py:475: ConvergenceWarning: Objective did not converge. You might want to increase the number of iterations. Duality gap: 1.6939996798063768e+19, tolerance: 6578972898002222.0\n",
      "  positive)\n",
      "/Users/ea/opt/anaconda3/lib/python3.7/site-packages/sklearn/linear_model/coordinate_descent.py:475: ConvergenceWarning: Objective did not converge. You might want to increase the number of iterations. Duality gap: 1.6413085598175975e+19, tolerance: 6578972898002222.0\n",
      "  positive)\n",
      "/Users/ea/opt/anaconda3/lib/python3.7/site-packages/sklearn/linear_model/coordinate_descent.py:475: ConvergenceWarning: Objective did not converge. You might want to increase the number of iterations. Duality gap: 1.5056028203658564e+19, tolerance: 6578972898002222.0\n",
      "  positive)\n"
     ]
    },
    {
     "data": {
      "text/plain": [
       "[[0.0001, 133518351.04085048, 153645794.47290468],\n",
       " [0.00026366508987303583, 133518351.04141244, 153645794.47151563],\n",
       " [0.0006951927961775605, 133518351.04289415, 153645794.4678532],\n",
       " [0.0018329807108324356, 133518351.04680093, 153645794.45819655],\n",
       " [0.004832930238571752, 133518351.05710171, 153645794.43273562],\n",
       " [0.012742749857031334, 133518351.0842613, 153645794.36560374],\n",
       " [0.03359818286283781, 133518351.15587166, 153645794.18860072],\n",
       " [0.08858667904100823, 133518351.34468356, 153645793.7219058],\n",
       " [0.23357214690901212, 133518351.84251703, 153645792.49139658],\n",
       " [0.615848211066026, 133518353.15514691, 153645789.24698973],\n",
       " [1.623776739188721, 133518356.61621027, 153645780.6927352],\n",
       " [4.281332398719396, 133518365.74263673, 153645758.13894415],\n",
       " [11.288378916846883, 133518389.81147309, 153645698.67797562],\n",
       " [29.763514416313132, 133518453.31177159, 153645541.93842983],\n",
       " [78.47599703514607, 133518621.00485738, 153645129.44635063],\n",
       " [206.913808111479, 133519065.37236243, 153644044.5249004],\n",
       " [545.5594781168514, 133520252.86211702, 153641203.04677352],\n",
       " [1438.44988828766, 133523491.08165759, 153633861.5216471],\n",
       " [3792.690190732246, 133532815.94473916, 153615580.93263206],\n",
       " [10000.0, 133562244.16658288, 153583247.66690814]]"
      ]
     },
     "execution_count": 38,
     "metadata": {},
     "output_type": "execute_result"
    }
   ],
   "source": [
    "lambdas = np.logspace(-4,4,20)\n",
    "\n",
    "rmse_train = []\n",
    "rmse_test = []\n",
    "\n",
    "output = []\n",
    "\n",
    "for lambda_ in lambdas:\n",
    "    lasso = Lasso(alpha=lambda_, random_state=1)\n",
    "    lasso.fit(X_train_sc,y_train)\n",
    "    \n",
    "    rmse_train = np.sqrt(mse(lasso.predict(X_train_sc),y_train))\n",
    "    rmse_test = np.sqrt(mse(lasso.predict(X_test_sc),y_test))\n",
    "    \n",
    "    output.append([lambda_, rmse_train, rmse_test])\n",
    "\n",
    "output"
   ]
  },
  {
   "cell_type": "code",
   "execution_count": null,
   "metadata": {},
   "outputs": [],
   "source": [
    "reg = "
   ]
  },
  {
   "cell_type": "code",
   "execution_count": 40,
   "metadata": {},
   "outputs": [],
   "source": [
    "def rmse(y_pred, y_true):\n",
    "    return np.sqrt(mse(y_pred, y_true))"
   ]
  },
  {
   "cell_type": "code",
   "execution_count": 1,
   "metadata": {},
   "outputs": [
    {
     "ename": "NameError",
     "evalue": "name 'tqdm' is not defined",
     "output_type": "error",
     "traceback": [
      "\u001b[0;31m---------------------------------------------------------------------------\u001b[0m",
      "\u001b[0;31mNameError\u001b[0m                                 Traceback (most recent call last)",
      "\u001b[0;32m<ipython-input-1-f071c0e6c22c>\u001b[0m in \u001b[0;36m<module>\u001b[0;34m\u001b[0m\n\u001b[1;32m      1\u001b[0m \u001b[0mperform\u001b[0m \u001b[0;34m=\u001b[0m \u001b[0;34m[\u001b[0m\u001b[0;34m]\u001b[0m\u001b[0;34m\u001b[0m\u001b[0;34m\u001b[0m\u001b[0m\n\u001b[1;32m      2\u001b[0m \u001b[0mlambdas\u001b[0m \u001b[0;34m=\u001b[0m \u001b[0mnp\u001b[0m\u001b[0;34m.\u001b[0m\u001b[0mlogspace\u001b[0m\u001b[0;34m(\u001b[0m\u001b[0;36m0\u001b[0m\u001b[0;34m,\u001b[0m \u001b[0;36m10\u001b[0m\u001b[0;34m,\u001b[0m \u001b[0;36m5\u001b[0m\u001b[0;34m)\u001b[0m\u001b[0;34m\u001b[0m\u001b[0;34m\u001b[0m\u001b[0m\n\u001b[0;32m----> 3\u001b[0;31m \u001b[0;32mfor\u001b[0m \u001b[0mlambda_\u001b[0m \u001b[0;32min\u001b[0m \u001b[0mtqdm\u001b[0m\u001b[0;34m(\u001b[0m\u001b[0mlambdas\u001b[0m\u001b[0;34m)\u001b[0m\u001b[0;34m:\u001b[0m\u001b[0;34m\u001b[0m\u001b[0;34m\u001b[0m\u001b[0m\n\u001b[0m\u001b[1;32m      4\u001b[0m     pipe_lasso = make_pipeline(PolynomialFeatures(degree=2, include_bias=True), \n\u001b[1;32m      5\u001b[0m                                \u001b[0mStandardScaler\u001b[0m\u001b[0;34m(\u001b[0m\u001b[0;34m)\u001b[0m\u001b[0;34m,\u001b[0m\u001b[0;34m\u001b[0m\u001b[0;34m\u001b[0m\u001b[0m\n",
      "\u001b[0;31mNameError\u001b[0m: name 'tqdm' is not defined"
     ]
    }
   ],
   "source": [
    "perform = []\n",
    "lambdas = np.logspace(0, 10, 5)\n",
    "for lambda_ in tqdm(lambdas):\n",
    "    pipe_lasso = make_pipeline(PolynomialFeatures(degree=2, include_bias=True), \n",
    "                               StandardScaler(),\n",
    "                               Lasso(random_state=1,max_iter=1))\n",
    "    pipe_lasso.fit(X_train_imdb, y_train_imdb)\n",
    "    y_pred = pipe_lasso.predict(X_test_imdb)\n",
    "    perform.append(rmse(y_pred, y_test_imdb))\n",
    "    \n",
    "hyperparam_perform = pd.Series(perform,index=lambdas)\n",
    "optimal = hyperparam_perform.nsmallest(1)    \n",
    "print('Optimal lambda:', optimal.index[0])\n",
    "print('Validation MSE: %.3f' % optimal.values[0])\n",
    "pipe_lasso.score(X_train_imdb,y_train_imdb)\n",
    "pipe_lasso.score(X_test_imdb,y_test_imdb)"
   ]
  },
  {
   "cell_type": "code",
   "execution_count": 55,
   "metadata": {},
   "outputs": [
    {
     "name": "stdout",
     "output_type": "stream",
     "text": [
      "                    Train          Test\n",
      "sample size                            \n",
      "258          9.555539e+05  2.412687e+06\n",
      "322          1.156953e+06  2.371188e+06\n",
      "387          1.207942e+06  2.350352e+06\n",
      "451          1.352228e+06  2.331970e+06\n",
      "516          1.374883e+06  2.147168e+06\n"
     ]
    }
   ],
   "source": [
    "from sklearn.model_selection import learning_curve\n",
    "\n",
    "train_sizes, train_scores, test_scores = \\\n",
    "    learning_curve(estimator=pipe_lasso,\n",
    "                   X=X_train_imdb,\n",
    "                   y=y_train_imdb,\n",
    "                   train_sizes=np.arange(0.2, 0.8, .05),\n",
    "                   scoring='neg_mean_squared_error',                 \n",
    "                   cv=3)\n",
    "    \n",
    "mse_ = pd.DataFrame({'Train':-train_scores.mean(axis=1),\n",
    "                     'Test':-test_scores.mean(axis=1)})\\\n",
    "        .set_index(pd.Index(train_sizes,name='sample size'))\n",
    "print(mse_.head(5))"
   ]
  },
  {
   "cell_type": "code",
   "execution_count": 56,
   "metadata": {},
   "outputs": [
    {
     "data": {
      "text/plain": [
       "<matplotlib.legend.Legend at 0x130229550>"
      ]
     },
     "execution_count": 56,
     "metadata": {},
     "output_type": "execute_result"
    },
    {
     "data": {
      "image/png": "[encoded data removed]",
      "text/plain": [
       "<Figure size 720x288 with 1 Axes>"
      ]
     },
     "metadata": {
      "needs_background": "light"
     },
     "output_type": "display_data"
    }
   ],
   "source": [
    "f_learn, ax = plt.subplots(figsize=(10,4))\n",
    "ax.plot(train_sizes,-test_scores.mean(1), alpha=0.25, linewidth=2, label ='Test', color='blue')\n",
    "ax.plot(train_sizes,-train_scores.mean(1),alpha=0.25, linewidth=2, label='Train', color='orange')\n",
    "\n",
    "ax.set_title('Mean performance')\n",
    "ax.set_ylabel('Mean squared error')\n",
    "ax.set_yscale('log')\n",
    "ax.legend()"
   ]
  },
  {
   "cell_type": "code",
   "execution_count": 57,
   "metadata": {},
   "outputs": [
    {
     "data": {
      "text/plain": [
       "<matplotlib.legend.Legend at 0x128191610>"
      ]
     },
     "execution_count": 57,
     "metadata": {},
     "output_type": "execute_result"
    },
    {
     "data": {
      "image/png": "[encoded data removed]",
      "text/plain": [
       "<Figure size 720x288 with 1 Axes>"
      ]
     },
     "metadata": {
      "needs_background": "light"
     },
     "output_type": "display_data"
    }
   ],
   "source": [
    "f_learn, ax = plt.subplots(figsize=(10,4))\n",
    "ax.fill_between(train_sizes,\n",
    "                -test_scores.min(1),\n",
    "                -test_scores.max(1), \n",
    "                alpha=0.25, label ='Test', color='blue')\n",
    "\n",
    "ax.fill_between(train_sizes,\n",
    "                -train_scores.min(1),\n",
    "                -train_scores.max(1), \n",
    "                alpha=0.25, label='Train', color='orange')\n",
    "\n",
    "ax.set_title('Range of performance (min, max)')\n",
    "ax.set_ylabel('Mean squared error')\n",
    "ax.set_yscale('log')\n",
    "ax.legend()"
   ]
  },
  {
   "cell_type": "code",
   "execution_count": 64,
   "metadata": {},
   "outputs": [],
   "source": [
    "from sklearn.model_selection import validation_curve\n",
    "\n",
    "lambdas =  np.logspace(0, 6, 12)\n",
    "\n",
    "train_scores, test_scores = \\\n",
    "    validation_curve(estimator=pipe_lasso,\n",
    "                     X=X_train,\n",
    "                     y=y_train,\n",
    "                     param_name='lasso__alpha',\n",
    "                     param_range=lambdas,\n",
    "                     scoring='neg_mean_squared_error',# scoring='neg_mean_squared_error',                 \n",
    "                     cv=10)\n",
    "\n",
    "mean_values = pd.concat({'train': pd.DataFrame(-train_scores).mean(1), \n",
    "                         'test': pd.DataFrame(-test_scores).mean(1), \n",
    "                         'lambda': pd.DataFrame(lambdas).mean(1)}, axis =1)"
   ]
  },
  {
   "cell_type": "code",
   "execution_count": 65,
   "metadata": {},
   "outputs": [
    {
     "data": {
      "image/png": "[encoded data removed]",
      "text/plain": [
       "<Figure size 432x288 with 1 Axes>"
      ]
     },
     "metadata": {
      "needs_background": "light"
     },
     "output_type": "display_data"
    }
   ],
   "source": [
    "pd.concat({'train': pd.DataFrame(-train_scores).mean(1), \n",
    "           'test': pd.DataFrame(-test_scores).mean(1)},\n",
    "           axis=1)\\\n",
    "    .pipe(np.sqrt)\\\n",
    "    .set_index(pd.Index(lambdas, name='lambda'))\\\n",
    "    .plot(logx=True, logy=True)\n",
    "\n",
    "plt.show()"
   ]
  },
  {
   "cell_type": "code",
   "execution_count": null,
   "metadata": {},
   "outputs": [],
   "source": [
    "\n",
    "kfolds = KFold(n_splits=5)\n",
    "folds = list(kfolds.split(X_dev, y_dev))\n",
    "\n",
    "lambdas =  np.logspace(-4, 4, 12)\n",
    "\n",
    "# outer loops lamda\n",
    "mseCV = []\n",
    "for lambda_ in lambdas:\n",
    "    # inner loops: folds\n",
    "    mseCV_ = []\n",
    "    for train_idx, val_idx in folds:\n",
    "        # train model and compute MSE on test fold\n",
    "        pipe_3 = make_pipeline(PolynomialFeatures(degree=2, include_bias=True),                           \n",
    "                           StandardScaler(),\n",
    "                           Lasso(alpha=lambda_, random_state=1))\n",
    "        X_train, y_train = X_dev.iloc[train_idx,:], y_dev.iloc[train_idx,:] \n",
    "        X_val, y_val = X_dev.iloc[val_idx], y_dev.iloc[val_idx] \n",
    "        pipe_3.fit(X_train, y_train)\n",
    "        mseCV_.append(mse(pipe_3.predict(X_val),y_val))\n",
    "        \n",
    "        \n",
    "     # STORE result\n",
    "    mseCV.append(mseCV_)\n",
    "\n",
    "# convert to DF\n",
    "lambdaCV = pd.DataFrame(mseCV, index=lambdas)"
   ]
  },
  {
   "cell_type": "markdown",
   "metadata": {},
   "source": [
    "##### Data Visualization"
   ]
  },
  {
   "cell_type": "code",
   "execution_count": null,
   "metadata": {},
   "outputs": [],
   "source": [
    "import matplotlib.pyplot as plt\n",
    "import seaborn as sns"
   ]
  },
  {
   "cell_type": "code",
   "execution_count": null,
   "metadata": {},
   "outputs": [],
   "source": [
    "fig, ax = plt.subplots(figsize = (10,5))\n",
    "sns.distplot(df_90_income.year, bins = 20);\n",
    "plt.title(\"Distribution of movies over the years\", size = 10);"
   ]
  },
  {
   "cell_type": "code",
   "execution_count": null,
   "metadata": {},
   "outputs": [],
   "source": [
    "sns.set(style=\"white\")\n",
    "\n",
    "plt.figure(figsize=(10,5))\n",
    "plt.title('Movies by the year', size=15)\n",
    "sns.distplot(df_90_income.year, kde=False)\n",
    "plt.ylabel('Number of movies', size=15)\n",
    "plt.xlabel('Year of release',size=15)\n",
    "plt.axis([1990, 2019, 0, 700])\n",
    "plt.xticks(np.arange(1990, 2019, step=2))\n",
    "plt.show()"
   ]
  },
  {
   "cell_type": "code",
   "execution_count": null,
   "metadata": {},
   "outputs": [],
   "source": [
    "# Overview of the different genres \n",
    "df_90_income['first_genre'] = df_90_income['genre'].str.split(',').str[0]\n",
    "\n",
    "a = plt.cm.binary\n",
    "\n",
    "plt.figure(figsize=(10,4))\n",
    "count = df_90_income['first_genre'].value_counts()[:7]\n",
    "sns.barplot(count.values, count.index, palette=[a(0.1),a(0.2),a(0.3),a(0.4),a(0.5),a(0.6),a(0.7)])\n",
    "for i, v in enumerate(count.values):\n",
    "    plt.text(0.8,i,v,color='k',fontsize=10)\n",
    "plt.xlabel('Count', fontsize=12)\n",
    "plt.ylabel('Genre name', fontsize=12)\n",
    "plt.title(\"Genres\", fontsize=15)\n",
    "plt.show()"
   ]
  },
  {
   "cell_type": "code",
   "execution_count": null,
   "metadata": {},
   "outputs": [],
   "source": [
    "# Overview of movies with highest scores \n",
    "top_scored = df_90_income.sort_values([\"tomatometer_score\",\"audience_score\",\"metascore\",\"avg_vote\"], ascending=False)[\n",
    "    [\"title\", \"director\", \"tomatometer_score\",\"audience_score\",\"metascore\",\"avg_vote\"]]\n",
    "top_scored.index = range(len(df_90_income))\n",
    "top_scored.head(n=10)"
   ]
  },
  {
   "cell_type": "code",
   "execution_count": null,
   "metadata": {},
   "outputs": [],
   "source": [
    "test = df_90_income.sort_values([\"year\"], ascending=False)[\n",
    "    [\"year\",\"tomatometer_score\",\"audience_score\",\"metascore\",\"avg_vote\"]]\n",
    "test.index = range(len(df_90_income))\n",
    "#test.head(n=10)\n"
   ]
  },
  {
   "cell_type": "code",
   "execution_count": null,
   "metadata": {},
   "outputs": [],
   "source": [
    "test.plot(kind=\"scatter\",\n",
    "                      x=\"year\",\n",
    "                      y=\"metascore\",\n",
    "                      alpha=0.4)\n",
    "\n",
    "plt.show()"
   ]
  },
  {
   "cell_type": "code",
   "execution_count": null,
   "metadata": {},
   "outputs": [],
   "source": [
    "#fig, ax = plt.subplots(figsize = (9,5))\n",
    "#sns.distplot(df_90_income.tomatometer_score,bins = 50);\n",
    "#plt.title(\"Distribution of metascore among movies\", size = 10);\n",
    "\n",
    "\n",
    "# Error: ould not convert string to float: '50%'\n",
    "#df_90_income = df_90_income[(df_90_income.tomatometer_score.notnull()) &\n",
    "#                      (df_90_income.audience_score.notnull())]\n",
    "#sns.jointplot(x=df_90_income['year'], y=df_90_income['tomatometer_score'],\n",
    "#              kind=\"kde\").fig.set_size_inches(15,15)\n",
    "\n",
    "# Works but not pretty \n",
    "#plt.figure(figsize=[30,10])\n",
    "#sns.barplot(x=df_90_income.year, y=df_90_income.metascore, data=df_90_income)"
   ]
  },
  {
   "cell_type": "code",
   "execution_count": null,
   "metadata": {},
   "outputs": [],
   "source": [
    "# Ideas:\n",
    "#1) Look at gender or race in director (men vs women) (balck vs white)"
   ]
  },
  {
   "cell_type": "code",
   "execution_count": null,
   "metadata": {},
   "outputs": [],
   "source": [
    "df_budget.plot(kind=\"scatter\",\n",
    "                      x=\"avg_vote\",\n",
    "                      y=\"net_income\",\n",
    "                      alpha=0.4)"
   ]
  },
  {
   "cell_type": "code",
   "execution_count": null,
   "metadata": {},
   "outputs": [],
   "source": []
  }
 ],
 "metadata": {
  "kernelspec": {
   "display_name": "Python 3",
   "language": "python",
   "name": "python3"
  },
  "language_info": {
   "codemirror_mode": {
    "name": "ipython",
    "version": 3
   },
   "file_extension": ".py",
   "mimetype": "text/x-python",
   "name": "python",
   "nbconvert_exporter": "python",
   "pygments_lexer": "ipython3",
   "version": "3.7.4"
  }
 },
 "nbformat": 4,
 "nbformat_minor": 4
}
