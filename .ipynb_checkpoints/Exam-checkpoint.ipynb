{
 "cells": [
  {
   "cell_type": "code",
   "execution_count": 190,
   "metadata": {},
   "outputs": [],
   "source": [
    "import pandas as pd\n",
    "import numpy as np\n",
    "import matplotlib.pyplot as plt\n",
    "%matplotlib inline\n",
    "\n",
    "plt.style.use('default') # set style (colors, background, size, gridlines etc.) # ggplot\n",
    "plt.rcParams['figure.figsize'] = 10, 3 # set default size of plots\n",
    "plt.rcParams.update({'font.size': 18})\n",
    "\n",
    "import scraping_class\n",
    "logfile = 'log.txt' ## name your log file.\n",
    "connector = scraping_class.Connector(logfile)\n",
    "\n",
    "from bs4 import BeautifulSoup\n",
    "from tqdm import tqdm_notebook as tqdm"
   ]
  },
  {
   "cell_type": "code",
   "execution_count": 167,
   "metadata": {},
   "outputs": [],
   "source": [
    "#!pip install cpi"
   ]
  },
  {
   "cell_type": "code",
   "execution_count": 168,
   "metadata": {},
   "outputs": [],
   "source": [
    "movies = pd.read_csv('IMDb movies.csv')\n",
    "actors = pd.read_csv('IMDb names.csv')\n",
    "ratings = pd.read_csv('IMDb ratings.csv')\n",
    "role = pd.read_csv('IMDb title_principals.csv')"
   ]
  },
  {
   "cell_type": "code",
   "execution_count": 191,
   "metadata": {},
   "outputs": [
    {
     "data": {
      "text/plain": [
       "{'User-Agent': 'python-requests/2.22.0', 'Accept-Encoding': 'gzip, deflate', 'Accept': '*/*', 'Connection': 'keep-alive', 'email': 'zpx171@alumni.ku.dk', 'name': 'Mathias Ellehauge'}"
      ]
     },
     "execution_count": 191,
     "metadata": {},
     "output_type": "execute_result"
    }
   ],
   "source": [
    "import requests\n",
    "session = requests.session()\n",
    "session.headers['email'] = 'zpx171@alumni.ku.dk'\n",
    "session.headers['name'] = 'Mathias Ellehauge'\n",
    "session.headers"
   ]
  },
  {
   "cell_type": "code",
   "execution_count": 223,
   "metadata": {},
   "outputs": [],
   "source": [
    "movies_90 = movies[movies.year >= 1990].drop_duplicates()\n",
    "movies_us = movies[movies.country == 'USA'].drop_duplicates()\n",
    "movies_us_90 = movies_us[movies_us.year >= 1990].drop_duplicates()"
   ]
  },
  {
   "cell_type": "code",
   "execution_count": 224,
   "metadata": {},
   "outputs": [],
   "source": [
    "df_RT = pd.read_csv('RT.csv').drop_duplicates()\n",
    "\n",
    "df_90 = pd.merge(movies_90,df_RT,how='inner',on='title')\n",
    "df_90_us = pd.merge(movies_us_90,df_RT,how='inner',on='title')"
   ]
  },
  {
   "cell_type": "code",
   "execution_count": 225,
   "metadata": {},
   "outputs": [
    {
     "data": {
      "text/html": [
       "<div>\n",
       "<style scoped>\n",
       "    .dataframe tbody tr th:only-of-type {\n",
       "        vertical-align: middle;\n",
       "    }\n",
       "\n",
       "    .dataframe tbody tr th {\n",
       "        vertical-align: top;\n",
       "    }\n",
       "\n",
       "    .dataframe thead th {\n",
       "        text-align: right;\n",
       "    }\n",
       "</style>\n",
       "<table border=\"1\" class=\"dataframe\">\n",
       "  <thead>\n",
       "    <tr style=\"text-align: right;\">\n",
       "      <th></th>\n",
       "      <th>title</th>\n",
       "      <th>tomatometer_score</th>\n",
       "      <th>audience_score</th>\n",
       "    </tr>\n",
       "  </thead>\n",
       "  <tbody>\n",
       "    <tr>\n",
       "      <td>0</td>\n",
       "      <td>Shirley</td>\n",
       "      <td>87%</td>\n",
       "      <td>57%</td>\n",
       "    </tr>\n",
       "    <tr>\n",
       "      <td>1</td>\n",
       "      <td>Da 5 Bloods</td>\n",
       "      <td>92%</td>\n",
       "      <td>53%</td>\n",
       "    </tr>\n",
       "    <tr>\n",
       "      <td>2</td>\n",
       "      <td>On the Record</td>\n",
       "      <td>99%</td>\n",
       "      <td>86%</td>\n",
       "    </tr>\n",
       "    <tr>\n",
       "      <td>3</td>\n",
       "      <td>RAD</td>\n",
       "      <td>44%</td>\n",
       "      <td>90%</td>\n",
       "    </tr>\n",
       "    <tr>\n",
       "      <td>4</td>\n",
       "      <td>Scoob!</td>\n",
       "      <td>49%</td>\n",
       "      <td>57%</td>\n",
       "    </tr>\n",
       "    <tr>\n",
       "      <td>...</td>\n",
       "      <td>...</td>\n",
       "      <td>...</td>\n",
       "      <td>...</td>\n",
       "    </tr>\n",
       "    <tr>\n",
       "      <td>17372</td>\n",
       "      <td>King Kong</td>\n",
       "      <td>54%</td>\n",
       "      <td>31%</td>\n",
       "    </tr>\n",
       "    <tr>\n",
       "      <td>17373</td>\n",
       "      <td>Last Year at Marienbad (L'année dernière à Mar...</td>\n",
       "      <td>94%</td>\n",
       "      <td>85%</td>\n",
       "    </tr>\n",
       "    <tr>\n",
       "      <td>17374</td>\n",
       "      <td>Star Trek: First Contact</td>\n",
       "      <td>93%</td>\n",
       "      <td>89%</td>\n",
       "    </tr>\n",
       "    <tr>\n",
       "      <td>17375</td>\n",
       "      <td>Dune</td>\n",
       "      <td>52%</td>\n",
       "      <td>66%</td>\n",
       "    </tr>\n",
       "    <tr>\n",
       "      <td>17376</td>\n",
       "      <td>Species</td>\n",
       "      <td>43%</td>\n",
       "      <td>31%</td>\n",
       "    </tr>\n",
       "  </tbody>\n",
       "</table>\n",
       "<p>17376 rows × 3 columns</p>\n",
       "</div>"
      ],
      "text/plain": [
       "                                                   title tomatometer_score  \\\n",
       "0                                                Shirley               87%   \n",
       "1                                            Da 5 Bloods               92%   \n",
       "2                                          On the Record               99%   \n",
       "3                                                    RAD               44%   \n",
       "4                                                 Scoob!               49%   \n",
       "...                                                  ...               ...   \n",
       "17372                                          King Kong               54%   \n",
       "17373  Last Year at Marienbad (L'année dernière à Mar...               94%   \n",
       "17374                           Star Trek: First Contact               93%   \n",
       "17375                                               Dune               52%   \n",
       "17376                                            Species               43%   \n",
       "\n",
       "      audience_score  \n",
       "0                57%  \n",
       "1                53%  \n",
       "2                86%  \n",
       "3                90%  \n",
       "4                57%  \n",
       "...              ...  \n",
       "17372            31%  \n",
       "17373            85%  \n",
       "17374            89%  \n",
       "17375            66%  \n",
       "17376            31%  \n",
       "\n",
       "[17376 rows x 3 columns]"
      ]
     },
     "execution_count": 225,
     "metadata": {},
     "output_type": "execute_result"
    }
   ],
   "source": [
    "#df_90_income = df_90[df_90['worlwide_gross_income'].notna()]\n",
    "#df_90\n",
    "df_RT"
   ]
  }
 ],
 "metadata": {
  "kernelspec": {
   "display_name": "Python 3",
   "language": "python",
   "name": "python3"
  },
  "language_info": {
   "codemirror_mode": {
    "name": "ipython",
    "version": 3
   },
   "file_extension": ".py",
   "mimetype": "text/x-python",
   "name": "python",
   "nbconvert_exporter": "python",
   "pygments_lexer": "ipython3",
   "version": "3.7.4"
  }
 },
 "nbformat": 4,
 "nbformat_minor": 4
}
