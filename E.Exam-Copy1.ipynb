{
 "cells": [
  {
   "cell_type": "code",
   "execution_count": 179,
   "metadata": {},
   "outputs": [],
   "source": [
    "import pandas as pd\n",
    "import numpy as np\n",
    "import matplotlib.pyplot as plt\n",
    "%matplotlib inline\n",
    "\n",
    "plt.style.use('default') # set style (colors, background, size, gridlines etc.) # ggplot\n",
    "plt.rcParams['figure.figsize'] = 8, 4 # set default size of plots\n",
    "plt.rcParams.update({'font.size': 18})\n",
    "\n",
    "import scraping_class\n",
    "logfile = 'log.txt' ## name your log file.\n",
    "connector = scraping_class.Connector(logfile)\n",
    "\n",
    "from bs4 import BeautifulSoup\n",
    "from tqdm import tqdm_notebook as tqdm"
   ]
  },
  {
   "cell_type": "code",
   "execution_count": 180,
   "metadata": {},
   "outputs": [],
   "source": [
    "#pip install cpi"
   ]
  },
  {
   "cell_type": "code",
   "execution_count": 181,
   "metadata": {},
   "outputs": [],
   "source": [
    "movies = pd.read_csv('IMDb movies.csv')\n",
    "actors = pd.read_csv('IMDb names.csv')\n",
    "ratings = pd.read_csv('IMDb ratings.csv')\n",
    "role = pd.read_csv('IMDb title_principals.csv')"
   ]
  },
  {
   "cell_type": "code",
   "execution_count": 182,
   "metadata": {},
   "outputs": [
    {
     "name": "stderr",
     "output_type": "stream",
     "text": [
      "/Users/ea/opt/anaconda3/lib/python3.7/site-packages/ipykernel_launcher.py:7: SettingWithCopyWarning: \n",
      "A value is trying to be set on a copy of a slice from a DataFrame.\n",
      "Try using .loc[row_indexer,col_indexer] = value instead\n",
      "\n",
      "See the caveats in the documentation: http://pandas.pydata.org/pandas-docs/stable/user_guide/indexing.html#returning-a-view-versus-a-copy\n",
      "  import sys\n"
     ]
    }
   ],
   "source": [
    "# IMDb - Remove duplicates and all years before 1990\n",
    "\n",
    "movies_90 = movies[movies.year >= 1990] # (53368, 22)\n",
    "#movies_90 = movies.drop(movies[movies['year'] < 1990].index)\n",
    "movies_us = movies[movies.country == 'USA']\n",
    "movies_us_90 = movies_us[movies_us.year >= 1990]\n",
    "movies_90['title'] = movies_90['title'].astype(str)\n",
    "movies_90 = movies_90.drop_duplicates(subset = 'title')\n",
    "mocies_us_90 = movies_us_90.drop_duplicates(subset = 'title')"
   ]
  },
  {
   "cell_type": "code",
   "execution_count": 183,
   "metadata": {},
   "outputs": [],
   "source": [
    "# RT - Remove duplicates \n",
    "df_RT = pd.read_csv('RT.csv').drop_duplicates(subset = 'title')\n",
    "df_90 = pd.merge(movies_90,df_RT,how='inner',on='title')\n",
    "df_90 = df_90.drop_duplicates()\n",
    "df_90_us = pd.merge(movies_us_90,df_RT,how='inner',on='title')\n",
    "df_90_us = df_90_us.drop_duplicates()"
   ]
  },
  {
   "cell_type": "code",
   "execution_count": 184,
   "metadata": {},
   "outputs": [
    {
     "data": {
      "text/html": [
       "<div>\n",
       "<style scoped>\n",
       "    .dataframe tbody tr th:only-of-type {\n",
       "        vertical-align: middle;\n",
       "    }\n",
       "\n",
       "    .dataframe tbody tr th {\n",
       "        vertical-align: top;\n",
       "    }\n",
       "\n",
       "    .dataframe thead th {\n",
       "        text-align: right;\n",
       "    }\n",
       "</style>\n",
       "<table border=\"1\" class=\"dataframe\">\n",
       "  <thead>\n",
       "    <tr style=\"text-align: right;\">\n",
       "      <th></th>\n",
       "      <th>imdb_title_id</th>\n",
       "      <th>title</th>\n",
       "      <th>original_title</th>\n",
       "      <th>year</th>\n",
       "      <th>date_published</th>\n",
       "      <th>genre</th>\n",
       "      <th>duration</th>\n",
       "      <th>country</th>\n",
       "      <th>language</th>\n",
       "      <th>director</th>\n",
       "      <th>...</th>\n",
       "      <th>avg_vote</th>\n",
       "      <th>votes</th>\n",
       "      <th>budget</th>\n",
       "      <th>usa_gross_income</th>\n",
       "      <th>worlwide_gross_income</th>\n",
       "      <th>metascore</th>\n",
       "      <th>reviews_from_users</th>\n",
       "      <th>reviews_from_critics</th>\n",
       "      <th>tomatometer_score</th>\n",
       "      <th>audience_score</th>\n",
       "    </tr>\n",
       "  </thead>\n",
       "  <tbody>\n",
       "    <tr>\n",
       "      <td>0</td>\n",
       "      <td>tt0035423</td>\n",
       "      <td>Kate &amp; Leopold</td>\n",
       "      <td>Kate &amp; Leopold</td>\n",
       "      <td>2001</td>\n",
       "      <td>2002-04-05</td>\n",
       "      <td>Comedy, Fantasy, Romance</td>\n",
       "      <td>118</td>\n",
       "      <td>USA</td>\n",
       "      <td>English, French</td>\n",
       "      <td>James Mangold</td>\n",
       "      <td>...</td>\n",
       "      <td>6.4</td>\n",
       "      <td>75298</td>\n",
       "      <td>$ 48000000</td>\n",
       "      <td>$ 47121859</td>\n",
       "      <td>$ 76019048</td>\n",
       "      <td>44.0</td>\n",
       "      <td>330.0</td>\n",
       "      <td>127.0</td>\n",
       "      <td>50%</td>\n",
       "      <td>62%</td>\n",
       "    </tr>\n",
       "    <tr>\n",
       "      <td>1</td>\n",
       "      <td>tt0098994</td>\n",
       "      <td>After Dark, My Sweet</td>\n",
       "      <td>After Dark, My Sweet</td>\n",
       "      <td>1990</td>\n",
       "      <td>1990-08-24</td>\n",
       "      <td>Crime, Drama, Mystery</td>\n",
       "      <td>114</td>\n",
       "      <td>USA</td>\n",
       "      <td>English</td>\n",
       "      <td>James Foley</td>\n",
       "      <td>...</td>\n",
       "      <td>6.6</td>\n",
       "      <td>3019</td>\n",
       "      <td>NaN</td>\n",
       "      <td>$ 2678414</td>\n",
       "      <td>$ 2678414</td>\n",
       "      <td>78.0</td>\n",
       "      <td>46.0</td>\n",
       "      <td>28.0</td>\n",
       "      <td>82%</td>\n",
       "      <td>61%</td>\n",
       "    </tr>\n",
       "    <tr>\n",
       "      <td>2</td>\n",
       "      <td>tt0099005</td>\n",
       "      <td>Air America</td>\n",
       "      <td>Air America</td>\n",
       "      <td>1990</td>\n",
       "      <td>1991-02-22</td>\n",
       "      <td>Action, Comedy, War</td>\n",
       "      <td>113</td>\n",
       "      <td>USA</td>\n",
       "      <td>English, Lao</td>\n",
       "      <td>Roger Spottiswoode</td>\n",
       "      <td>...</td>\n",
       "      <td>5.8</td>\n",
       "      <td>25683</td>\n",
       "      <td>$ 35000000</td>\n",
       "      <td>$ 31053601</td>\n",
       "      <td>$ 33461269</td>\n",
       "      <td>33.0</td>\n",
       "      <td>49.0</td>\n",
       "      <td>28.0</td>\n",
       "      <td>13%</td>\n",
       "      <td>34%</td>\n",
       "    </tr>\n",
       "    <tr>\n",
       "      <td>3</td>\n",
       "      <td>tt0099012</td>\n",
       "      <td>Alice</td>\n",
       "      <td>Alice</td>\n",
       "      <td>1990</td>\n",
       "      <td>1991-01-10</td>\n",
       "      <td>Comedy, Romance</td>\n",
       "      <td>106</td>\n",
       "      <td>USA</td>\n",
       "      <td>English, Cantonese</td>\n",
       "      <td>Woody Allen</td>\n",
       "      <td>...</td>\n",
       "      <td>6.6</td>\n",
       "      <td>12574</td>\n",
       "      <td>$ 12000000</td>\n",
       "      <td>$ 7331647</td>\n",
       "      <td>$ 7331647</td>\n",
       "      <td>67.0</td>\n",
       "      <td>65.0</td>\n",
       "      <td>59.0</td>\n",
       "      <td>75%</td>\n",
       "      <td>57%</td>\n",
       "    </tr>\n",
       "    <tr>\n",
       "      <td>4</td>\n",
       "      <td>tt0099018</td>\n",
       "      <td>Almost an Angel</td>\n",
       "      <td>Almost an Angel</td>\n",
       "      <td>1990</td>\n",
       "      <td>1990-12-27</td>\n",
       "      <td>Comedy, Drama</td>\n",
       "      <td>95</td>\n",
       "      <td>USA</td>\n",
       "      <td>English</td>\n",
       "      <td>John Cornell</td>\n",
       "      <td>...</td>\n",
       "      <td>5.5</td>\n",
       "      <td>3760</td>\n",
       "      <td>$ 25000000</td>\n",
       "      <td>$ 6939946</td>\n",
       "      <td>$ 6939946</td>\n",
       "      <td>NaN</td>\n",
       "      <td>26.0</td>\n",
       "      <td>10.0</td>\n",
       "      <td>29%</td>\n",
       "      <td>48%</td>\n",
       "    </tr>\n",
       "    <tr>\n",
       "      <td>...</td>\n",
       "      <td>...</td>\n",
       "      <td>...</td>\n",
       "      <td>...</td>\n",
       "      <td>...</td>\n",
       "      <td>...</td>\n",
       "      <td>...</td>\n",
       "      <td>...</td>\n",
       "      <td>...</td>\n",
       "      <td>...</td>\n",
       "      <td>...</td>\n",
       "      <td>...</td>\n",
       "      <td>...</td>\n",
       "      <td>...</td>\n",
       "      <td>...</td>\n",
       "      <td>...</td>\n",
       "      <td>...</td>\n",
       "      <td>...</td>\n",
       "      <td>...</td>\n",
       "      <td>...</td>\n",
       "      <td>...</td>\n",
       "      <td>...</td>\n",
       "    </tr>\n",
       "    <tr>\n",
       "      <td>7245</td>\n",
       "      <td>tt9109306</td>\n",
       "      <td>The Final Wish</td>\n",
       "      <td>The Final Wish</td>\n",
       "      <td>2018</td>\n",
       "      <td>2019-01-24</td>\n",
       "      <td>Horror</td>\n",
       "      <td>95</td>\n",
       "      <td>USA</td>\n",
       "      <td>English</td>\n",
       "      <td>Timothy Woodward Jr.</td>\n",
       "      <td>...</td>\n",
       "      <td>4.2</td>\n",
       "      <td>2342</td>\n",
       "      <td>NaN</td>\n",
       "      <td>$ 25183</td>\n",
       "      <td>$ 82959</td>\n",
       "      <td>NaN</td>\n",
       "      <td>78.0</td>\n",
       "      <td>18.0</td>\n",
       "      <td>73%</td>\n",
       "      <td>26%</td>\n",
       "    </tr>\n",
       "    <tr>\n",
       "      <td>7246</td>\n",
       "      <td>tt9206798</td>\n",
       "      <td>All Is True</td>\n",
       "      <td>All Is True</td>\n",
       "      <td>2018</td>\n",
       "      <td>2019-02-08</td>\n",
       "      <td>Biography, Drama, History</td>\n",
       "      <td>101</td>\n",
       "      <td>UK</td>\n",
       "      <td>English</td>\n",
       "      <td>Kenneth Branagh</td>\n",
       "      <td>...</td>\n",
       "      <td>6.1</td>\n",
       "      <td>1956</td>\n",
       "      <td>NaN</td>\n",
       "      <td>$ 1200481</td>\n",
       "      <td>$ 3019143</td>\n",
       "      <td>59.0</td>\n",
       "      <td>62.0</td>\n",
       "      <td>64.0</td>\n",
       "      <td>72%</td>\n",
       "      <td>67%</td>\n",
       "    </tr>\n",
       "    <tr>\n",
       "      <td>7247</td>\n",
       "      <td>tt9352926</td>\n",
       "      <td>The Sound of Silence</td>\n",
       "      <td>The Sound of Silence</td>\n",
       "      <td>2019</td>\n",
       "      <td>2019-09-13</td>\n",
       "      <td>Drama</td>\n",
       "      <td>85</td>\n",
       "      <td>USA</td>\n",
       "      <td>English</td>\n",
       "      <td>Michael Tyburski</td>\n",
       "      <td>...</td>\n",
       "      <td>5.3</td>\n",
       "      <td>426</td>\n",
       "      <td>NaN</td>\n",
       "      <td>$ 20013</td>\n",
       "      <td>$ 21994</td>\n",
       "      <td>66.0</td>\n",
       "      <td>14.0</td>\n",
       "      <td>15.0</td>\n",
       "      <td>65%</td>\n",
       "      <td>Nan</td>\n",
       "    </tr>\n",
       "    <tr>\n",
       "      <td>7248</td>\n",
       "      <td>tt9354944</td>\n",
       "      <td>Jexi</td>\n",
       "      <td>Jexi</td>\n",
       "      <td>2019</td>\n",
       "      <td>2019-10-11</td>\n",
       "      <td>Comedy</td>\n",
       "      <td>84</td>\n",
       "      <td>USA</td>\n",
       "      <td>English</td>\n",
       "      <td>Jon Lucas, Scott Moore</td>\n",
       "      <td>...</td>\n",
       "      <td>6.6</td>\n",
       "      <td>3674</td>\n",
       "      <td>$ 5000000</td>\n",
       "      <td>$ 6546159</td>\n",
       "      <td>$ 7257918</td>\n",
       "      <td>39.0</td>\n",
       "      <td>46.0</td>\n",
       "      <td>24.0</td>\n",
       "      <td>17%</td>\n",
       "      <td>71%</td>\n",
       "    </tr>\n",
       "    <tr>\n",
       "      <td>7249</td>\n",
       "      <td>tt9356952</td>\n",
       "      <td>The Death of Dick Long</td>\n",
       "      <td>The Death of Dick Long</td>\n",
       "      <td>2019</td>\n",
       "      <td>2019-09-27</td>\n",
       "      <td>Comedy, Crime, Drama</td>\n",
       "      <td>100</td>\n",
       "      <td>USA</td>\n",
       "      <td>English</td>\n",
       "      <td>Daniel Scheinert</td>\n",
       "      <td>...</td>\n",
       "      <td>6.3</td>\n",
       "      <td>1602</td>\n",
       "      <td>NaN</td>\n",
       "      <td>$ 36856</td>\n",
       "      <td>$ 36856</td>\n",
       "      <td>69.0</td>\n",
       "      <td>24.0</td>\n",
       "      <td>39.0</td>\n",
       "      <td>75%</td>\n",
       "      <td>86%</td>\n",
       "    </tr>\n",
       "  </tbody>\n",
       "</table>\n",
       "<p>7250 rows × 24 columns</p>\n",
       "</div>"
      ],
      "text/plain": [
       "     imdb_title_id                   title          original_title  year  \\\n",
       "0        tt0035423          Kate & Leopold          Kate & Leopold  2001   \n",
       "1        tt0098994    After Dark, My Sweet    After Dark, My Sweet  1990   \n",
       "2        tt0099005             Air America             Air America  1990   \n",
       "3        tt0099012                   Alice                   Alice  1990   \n",
       "4        tt0099018         Almost an Angel         Almost an Angel  1990   \n",
       "...            ...                     ...                     ...   ...   \n",
       "7245     tt9109306          The Final Wish          The Final Wish  2018   \n",
       "7246     tt9206798             All Is True             All Is True  2018   \n",
       "7247     tt9352926    The Sound of Silence    The Sound of Silence  2019   \n",
       "7248     tt9354944                    Jexi                    Jexi  2019   \n",
       "7249     tt9356952  The Death of Dick Long  The Death of Dick Long  2019   \n",
       "\n",
       "     date_published                      genre  duration country  \\\n",
       "0        2002-04-05   Comedy, Fantasy, Romance       118     USA   \n",
       "1        1990-08-24      Crime, Drama, Mystery       114     USA   \n",
       "2        1991-02-22        Action, Comedy, War       113     USA   \n",
       "3        1991-01-10            Comedy, Romance       106     USA   \n",
       "4        1990-12-27              Comedy, Drama        95     USA   \n",
       "...             ...                        ...       ...     ...   \n",
       "7245     2019-01-24                     Horror        95     USA   \n",
       "7246     2019-02-08  Biography, Drama, History       101      UK   \n",
       "7247     2019-09-13                      Drama        85     USA   \n",
       "7248     2019-10-11                     Comedy        84     USA   \n",
       "7249     2019-09-27       Comedy, Crime, Drama       100     USA   \n",
       "\n",
       "                language                director  ... avg_vote  votes  \\\n",
       "0        English, French           James Mangold  ...      6.4  75298   \n",
       "1                English             James Foley  ...      6.6   3019   \n",
       "2           English, Lao      Roger Spottiswoode  ...      5.8  25683   \n",
       "3     English, Cantonese             Woody Allen  ...      6.6  12574   \n",
       "4                English            John Cornell  ...      5.5   3760   \n",
       "...                  ...                     ...  ...      ...    ...   \n",
       "7245             English    Timothy Woodward Jr.  ...      4.2   2342   \n",
       "7246             English         Kenneth Branagh  ...      6.1   1956   \n",
       "7247             English        Michael Tyburski  ...      5.3    426   \n",
       "7248             English  Jon Lucas, Scott Moore  ...      6.6   3674   \n",
       "7249             English        Daniel Scheinert  ...      6.3   1602   \n",
       "\n",
       "          budget usa_gross_income  worlwide_gross_income  metascore  \\\n",
       "0     $ 48000000       $ 47121859             $ 76019048       44.0   \n",
       "1            NaN        $ 2678414              $ 2678414       78.0   \n",
       "2     $ 35000000       $ 31053601             $ 33461269       33.0   \n",
       "3     $ 12000000        $ 7331647              $ 7331647       67.0   \n",
       "4     $ 25000000        $ 6939946              $ 6939946        NaN   \n",
       "...          ...              ...                    ...        ...   \n",
       "7245         NaN          $ 25183                $ 82959        NaN   \n",
       "7246         NaN        $ 1200481              $ 3019143       59.0   \n",
       "7247         NaN          $ 20013                $ 21994       66.0   \n",
       "7248   $ 5000000        $ 6546159              $ 7257918       39.0   \n",
       "7249         NaN          $ 36856                $ 36856       69.0   \n",
       "\n",
       "     reviews_from_users reviews_from_critics tomatometer_score  audience_score  \n",
       "0                 330.0                127.0               50%             62%  \n",
       "1                  46.0                 28.0               82%             61%  \n",
       "2                  49.0                 28.0               13%             34%  \n",
       "3                  65.0                 59.0               75%             57%  \n",
       "4                  26.0                 10.0               29%             48%  \n",
       "...                 ...                  ...               ...             ...  \n",
       "7245               78.0                 18.0               73%             26%  \n",
       "7246               62.0                 64.0               72%             67%  \n",
       "7247               14.0                 15.0               65%             Nan  \n",
       "7248               46.0                 24.0               17%             71%  \n",
       "7249               24.0                 39.0               75%             86%  \n",
       "\n",
       "[7250 rows x 24 columns]"
      ]
     },
     "execution_count": 184,
     "metadata": {},
     "output_type": "execute_result"
    }
   ],
   "source": [
    "# **** Remove NaN ****\n",
    "df_90_income = df_90.dropna(subset = ['worlwide_gross_income']).reset_index(drop=True).drop_duplicates()\n",
    "df_us = df_90_us[df_90_us['worlwide_gross_income'].notna()].reset_index(drop=True)\n",
    "\n",
    "#df_90_income.dtypes\n",
    "#df_90_income.head()\n",
    "#print(df_90_income.shape)\n",
    "#df_90\n",
    "df_90_income"
   ]
  },
  {
   "cell_type": "code",
   "execution_count": 185,
   "metadata": {},
   "outputs": [],
   "source": [
    "# CPI inflation \n",
    "import cpi\n",
    "#cpi.update()\n",
    "\n",
    "def inflate_column(data, column):\n",
    "    '''Inflate monetary figures from a given year to their 2018 values'''\n",
    "    return data.apply(lambda x: cpi.inflate(x[column], x.year), axis=1)"
   ]
  },
  {
   "cell_type": "code",
   "execution_count": 186,
   "metadata": {},
   "outputs": [],
   "source": [
    "\n",
    "df_90_income['worldwide_gross_income'] = df_90_income['worlwide_gross_income']\\\n",
    "                                        .apply(lambda x:x[1:] if x and x[:1]== '$' else None)\n",
    "df_90_income = df_90_income.drop('worlwide_gross_income', axis=1)\n",
    "df_90_income = df_90_income.dropna(subset = ['worldwide_gross_income'])"
   ]
  },
  {
   "cell_type": "code",
   "execution_count": 187,
   "metadata": {},
   "outputs": [],
   "source": [
    "df_90_income = df_90_income.dropna(subset = ['budget'])\n",
    "df_90_income['budget'] = df_90_income['budget'].apply(lambda x:x[1:] if x and x[:1]== '$' else None)\n",
    "\n",
    "\n",
    "df_90_income = df_90_income.dropna(subset = ['usa_gross_income'])\n",
    "df_90_income['usa_gross_income'] = df_90_income['usa_gross_income']\\\n",
    "                                        .apply(lambda x:x[1:] if x and x[:1]== '$' else None)"
   ]
  },
  {
   "cell_type": "code",
   "execution_count": 188,
   "metadata": {},
   "outputs": [
    {
     "data": {
      "text/plain": [
       "imdb_title_id              object\n",
       "title                      object\n",
       "original_title             object\n",
       "year                        int64\n",
       "date_published             object\n",
       "genre                      object\n",
       "duration                    int64\n",
       "country                    object\n",
       "language                   object\n",
       "director                   object\n",
       "writer                     object\n",
       "production_company         object\n",
       "actors                     object\n",
       "description                object\n",
       "avg_vote                  float64\n",
       "votes                       int64\n",
       "budget                     object\n",
       "usa_gross_income           object\n",
       "metascore                 float64\n",
       "reviews_from_users        float64\n",
       "reviews_from_critics      float64\n",
       "tomatometer_score          object\n",
       "audience_score             object\n",
       "worldwide_gross_income      int64\n",
       "adjusted_wgi              float64\n",
       "dtype: object"
      ]
     },
     "execution_count": 188,
     "metadata": {},
     "output_type": "execute_result"
    }
   ],
   "source": [
    "df_90_income = df_90_income.reset_index(drop=True).drop_duplicates()\n",
    "\n",
    "df_90_income.worldwide_gross_income = df_90_income.worldwide_gross_income.astype(int)\n",
    "df_90_income = df_90_income[df_90_income.year <= 2018]\n",
    "df_90_income['adjusted_wgi'] = inflate_column(df_90_income, 'worldwide_gross_income')\n",
    "\n",
    "df_budget = df_90_income.dropna(subset = ['budget']).copy()\n",
    "df_budget.budget = df_budget.budget.astype(int)\n",
    "\n",
    "df_budget['adjusted_budget'] = inflate_column(df_budget, 'budget')\n",
    "df_budget['net_income'] = df_budget.adjusted_wgi - df_budget.adjusted_budget\n",
    "df_90_income.dtypes\n",
    "#df_budget"
   ]
  },
  {
   "cell_type": "code",
   "execution_count": null,
   "metadata": {},
   "outputs": [],
   "source": []
  },
  {
   "cell_type": "code",
   "execution_count": 189,
   "metadata": {},
   "outputs": [],
   "source": [
    "# df_90 datasæt har også andre valuta som vi ikke har slettet. Derfor er hele kolonnen ikke samme type.\n",
    "# Prøver på us datasæt i stedet\n",
    "df_us['wgi'] = df_us['worlwide_gross_income'].replace({'\\$':''}, regex = True)\n",
    "df_us['budget'] = df_us['budget'].replace({'\\$':''}, regex = True)\n",
    "df_us['usa_gross_income'] = df_us['usa_gross_income'].replace({'\\$':''}, regex = True)\n",
    "\n"
   ]
  },
  {
   "cell_type": "code",
   "execution_count": null,
   "metadata": {},
   "outputs": [],
   "source": []
  },
  {
   "cell_type": "code",
   "execution_count": 190,
   "metadata": {},
   "outputs": [],
   "source": [
    "#len(df_us[df_us.year==2019])\n",
    "df_us.wgi = df_us.wgi.astype(int)\n",
    "df_us = df_us[df_us.year <= 2018]\n",
    "df_us['adjusted'] = inflate_column(df_us, 'wgi')\n",
    "#df_us"
   ]
  },
  {
   "cell_type": "markdown",
   "metadata": {},
   "source": [
    "##### EA Edits"
   ]
  },
  {
   "cell_type": "markdown",
   "metadata": {},
   "source": [
    "##### Data seperated into features to have greater flexibility for project"
   ]
  },
  {
   "cell_type": "code",
   "execution_count": 191,
   "metadata": {},
   "outputs": [],
   "source": [
    "df_x = df_90_income[['title', 'year', 'date_published', 'genre', 'duration','country', 'director', 'actors', 'budget']]\n",
    "df_y = df_90_income[[ 'avg_vote', 'metascore','tomatometer_score', 'audience_score','usa_gross_income', 'worldwide_gross_income']]"
   ]
  },
  {
   "cell_type": "code",
   "execution_count": 192,
   "metadata": {},
   "outputs": [],
   "source": [
    "df_x.to_csv('inputInfo_X.csv', encoding='utf-8',index=False)"
   ]
  },
  {
   "cell_type": "code",
   "execution_count": 193,
   "metadata": {},
   "outputs": [],
   "source": [
    "df_y.to_csv('inputInfo_Y.csv', encoding='utf-8',index=False)"
   ]
  },
  {
   "cell_type": "code",
   "execution_count": 194,
   "metadata": {},
   "outputs": [],
   "source": [
    "x = pd.read_csv(\"inputInfo_X.csv\")"
   ]
  },
  {
   "cell_type": "code",
   "execution_count": 195,
   "metadata": {},
   "outputs": [],
   "source": [
    "y = pd.read_csv(\"inputInfo_Y.csv\")"
   ]
  },
  {
   "cell_type": "code",
   "execution_count": 196,
   "metadata": {},
   "outputs": [],
   "source": [
    "def convert_to_array(rating):\n",
    "    rating = str(rating)\n",
    "    rating = rating.lower()\n",
    "    rating = rating.split(\",\")\n",
    "    return rating"
   ]
  },
  {
   "cell_type": "code",
   "execution_count": 197,
   "metadata": {},
   "outputs": [],
   "source": [
    "def check_existence(value,attribute):\n",
    "    for i in value:\n",
    "        if i in attribute:\n",
    "            return True\n",
    "        else:\n",
    "            return False"
   ]
  },
  {
   "cell_type": "markdown",
   "metadata": {},
   "source": [
    "##### Convert columns with multiple string entries to a list. This will assist for converting each string entry to dummy variables"
   ]
  },
  {
   "cell_type": "code",
   "execution_count": 198,
   "metadata": {},
   "outputs": [],
   "source": [
    "x[\"genre\"]= x[\"genre\"].apply(lambda x: convert_to_array(x))\n",
    "x[\"country\"] = x[\"country\"].apply(lambda x: convert_to_array(x))\n",
    "x[\"director\"] = x[\"director\"].apply(lambda x: convert_to_array(x))\n",
    "x[\"actors\"] = x[\"actors\"].apply(lambda x: convert_to_array(x))\n",
    "x[\"title\"] = x[\"title\"].apply(lambda x: convert_to_array(x))"
   ]
  },
  {
   "cell_type": "markdown",
   "metadata": {},
   "source": [
    "##### Convert published date to months"
   ]
  },
  {
   "cell_type": "code",
   "execution_count": 199,
   "metadata": {},
   "outputs": [],
   "source": [
    "x[\"date_published\"] = x[\"date_published\"].apply(lambda x: pd.to_datetime(x).month)"
   ]
  },
  {
   "cell_type": "markdown",
   "metadata": {},
   "source": [
    "##### Creating dummy variables "
   ]
  },
  {
   "cell_type": "code",
   "execution_count": 200,
   "metadata": {},
   "outputs": [],
   "source": [
    "from sklearn.preprocessing import MultiLabelBinarizer\n",
    "MLB = MultiLabelBinarizer()"
   ]
  },
  {
   "cell_type": "code",
   "execution_count": 201,
   "metadata": {},
   "outputs": [],
   "source": [
    "actor_dummy = pd.DataFrame(MLB.fit_transform(x[\"actors\"]),columns = MLB.classes_,index=x.index)\n",
    "genre_dummy = pd.DataFrame(MLB.fit_transform(x[\"genre\"]),columns=MLB.classes_, index=x.index)\n",
    "country_dummy = pd.DataFrame(MLB.fit_transform(x[\"country\"]),columns = MLB.classes_,index=x.index)\n",
    "director_dummy = pd.DataFrame(MLB.fit_transform(x[\"director\"]),columns = MLB.classes_,index=x.index)"
   ]
  },
  {
   "cell_type": "markdown",
   "metadata": {},
   "source": [
    "##### Looking at the predictor values"
   ]
  },
  {
   "cell_type": "code",
   "execution_count": 206,
   "metadata": {},
   "outputs": [],
   "source": [
    "y_2 = y[[\"tomatometer_score\",\"audience_score\",\"metascore\",\"avg_vote\",\"usa_gross_income\",\"worldwide_gross_income\"]]"
   ]
  },
  {
   "cell_type": "markdown",
   "metadata": {},
   "source": [
    "##### Clean ratings >> Remove % from score"
   ]
  },
  {
   "cell_type": "code",
   "execution_count": 210,
   "metadata": {},
   "outputs": [],
   "source": [
    "y_2['tomatometer_score'] = y_2['tomatometer_score'].replace({'\\%':''}, regex = True)\n",
    "y_2['audience_score'] = y_2['audience_score'].replace({'\\%':''}, regex = True)\n"
   ]
  },
  {
   "cell_type": "markdown",
   "metadata": {},
   "source": [
    "##### ** Change ratings to float ** see error / to do"
   ]
  },
  {
   "cell_type": "code",
   "execution_count": 236,
   "metadata": {},
   "outputs": [],
   "source": [
    "y_2['tomatometer_score']= y_2['tomatometer_score'].astype(int)\n",
    "#y_2['audience_score']= y_2['audience_score'].astype(int)\n",
    "\n",
    "#y_2.info()"
   ]
  },
  {
   "cell_type": "code",
   "execution_count": null,
   "metadata": {},
   "outputs": [],
   "source": []
  },
  {
   "cell_type": "markdown",
   "metadata": {},
   "source": [
    "##### Converting the audience and user rating to binary. "
   ]
  },
  {
   "cell_type": "code",
   "execution_count": 239,
   "metadata": {},
   "outputs": [],
   "source": [
    "y_2[\"t_rating\"] = y_2[\"tomatometer_score\"].apply(lambda x: 1 if x > 60.0 else 0)\n",
    "#y_2[\"audience_score\"] = y_2[\"audience_score\"].apply(lambda x: 1 if x > 60.0 else 0) # need to change to float"
   ]
  },
  {
   "cell_type": "code",
   "execution_count": null,
   "metadata": {},
   "outputs": [],
   "source": []
  },
  {
   "cell_type": "code",
   "execution_count": null,
   "metadata": {},
   "outputs": [],
   "source": []
  },
  {
   "cell_type": "code",
   "execution_count": 14,
   "metadata": {},
   "outputs": [],
   "source": [
    "# Data Visualization\n",
    "\n",
    "import matplotlib.pyplot as plt\n",
    "import seaborn as sns"
   ]
  },
  {
   "cell_type": "code",
   "execution_count": 15,
   "metadata": {},
   "outputs": [
    {
     "data": {
      "image/png": "[encoded data removed]",
      "text/plain": [
       "<Figure size 432x288 with 1 Axes>"
      ]
     },
     "metadata": {
      "needs_background": "light"
     },
     "output_type": "display_data"
    }
   ],
   "source": [
    "fig, ax = plt.subplots(figsize = (6,4))\n",
    "sns.distplot(df_90_income.year, bins = 29);\n",
    "plt.title(\"Distribution of movies over the years\", size = 15);"
   ]
  },
  {
   "cell_type": "code",
   "execution_count": 16,
   "metadata": {},
   "outputs": [
    {
     "data": {
      "image/png": "[encoded data removed]",
      "text/plain": [
       "<Figure size 720x360 with 1 Axes>"
      ]
     },
     "metadata": {},
     "output_type": "display_data"
    }
   ],
   "source": [
    "sns.set(style=\"white\")\n",
    "\n",
    "plt.figure(figsize=(10,5))\n",
    "plt.title('Movies by the year', size=15)\n",
    "sns.distplot(df_90_income.year, kde=False)\n",
    "plt.ylabel('Number of movies', size=15)\n",
    "plt.xlabel('Year of release',size=15)\n",
    "plt.axis([1990, 2019, 0, 700])\n",
    "plt.xticks(np.arange(1990, 2019, step=2))\n",
    "plt.show()"
   ]
  },
  {
   "cell_type": "code",
   "execution_count": 17,
   "metadata": {},
   "outputs": [
    {
     "data": {
      "image/png": "[encoded data removed]",
      "text/plain": [
       "<Figure size 720x288 with 1 Axes>"
      ]
     },
     "metadata": {},
     "output_type": "display_data"
    }
   ],
   "source": [
    "# Overview of the different genres \n",
    "df_90_income['first_genre'] = df_90_income['genre'].str.split(',').str[0]\n",
    "\n",
    "a = plt.cm.binary\n",
    "\n",
    "plt.figure(figsize=(10,4))\n",
    "count = df_90_income['first_genre'].value_counts()[:7]\n",
    "sns.barplot(count.values, count.index, palette=[a(0.1),a(0.2),a(0.3),a(0.4),a(0.5),a(0.6),a(0.7)])\n",
    "for i, v in enumerate(count.values):\n",
    "    plt.text(0.8,i,v,color='k',fontsize=10)\n",
    "plt.xlabel('Count', fontsize=12)\n",
    "plt.ylabel('Genre name', fontsize=12)\n",
    "plt.title(\"Genres\", fontsize=15)\n",
    "plt.show()"
   ]
  },
  {
   "cell_type": "code",
   "execution_count": 18,
   "metadata": {},
   "outputs": [
    {
     "data": {
      "text/html": [
       "<div>\n",
       "<style scoped>\n",
       "    .dataframe tbody tr th:only-of-type {\n",
       "        vertical-align: middle;\n",
       "    }\n",
       "\n",
       "    .dataframe tbody tr th {\n",
       "        vertical-align: top;\n",
       "    }\n",
       "\n",
       "    .dataframe thead th {\n",
       "        text-align: right;\n",
       "    }\n",
       "</style>\n",
       "<table border=\"1\" class=\"dataframe\">\n",
       "  <thead>\n",
       "    <tr style=\"text-align: right;\">\n",
       "      <th></th>\n",
       "      <th>title</th>\n",
       "      <th>director</th>\n",
       "      <th>tomatometer_score</th>\n",
       "      <th>audience_score</th>\n",
       "      <th>metascore</th>\n",
       "      <th>avg_vote</th>\n",
       "    </tr>\n",
       "  </thead>\n",
       "  <tbody>\n",
       "    <tr>\n",
       "      <td>0</td>\n",
       "      <td>L.A. Confidential</td>\n",
       "      <td>Curtis Hanson</td>\n",
       "      <td>99%</td>\n",
       "      <td>94%</td>\n",
       "      <td>90.0</td>\n",
       "      <td>8.2</td>\n",
       "    </tr>\n",
       "    <tr>\n",
       "      <td>1</td>\n",
       "      <td>How to Train Your Dragon</td>\n",
       "      <td>Dean DeBlois, Chris Sanders</td>\n",
       "      <td>99%</td>\n",
       "      <td>91%</td>\n",
       "      <td>74.0</td>\n",
       "      <td>8.1</td>\n",
       "    </tr>\n",
       "    <tr>\n",
       "      <td>2</td>\n",
       "      <td>Finding Nemo</td>\n",
       "      <td>Andrew Stanton, Lee Unkrich</td>\n",
       "      <td>99%</td>\n",
       "      <td>86%</td>\n",
       "      <td>90.0</td>\n",
       "      <td>8.1</td>\n",
       "    </tr>\n",
       "    <tr>\n",
       "      <td>3</td>\n",
       "      <td>Selma</td>\n",
       "      <td>Ava DuVernay</td>\n",
       "      <td>99%</td>\n",
       "      <td>86%</td>\n",
       "      <td>88.0</td>\n",
       "      <td>7.5</td>\n",
       "    </tr>\n",
       "    <tr>\n",
       "      <td>4</td>\n",
       "      <td>Eighth Grade</td>\n",
       "      <td>Bo Burnham</td>\n",
       "      <td>99%</td>\n",
       "      <td>83%</td>\n",
       "      <td>89.0</td>\n",
       "      <td>7.4</td>\n",
       "    </tr>\n",
       "    <tr>\n",
       "      <td>5</td>\n",
       "      <td>Shaun the Sheep Movie</td>\n",
       "      <td>Mark Burton, Richard Starzak</td>\n",
       "      <td>99%</td>\n",
       "      <td>81%</td>\n",
       "      <td>81.0</td>\n",
       "      <td>7.3</td>\n",
       "    </tr>\n",
       "    <tr>\n",
       "      <td>6</td>\n",
       "      <td>Lady Bird</td>\n",
       "      <td>Greta Gerwig</td>\n",
       "      <td>99%</td>\n",
       "      <td>79%</td>\n",
       "      <td>94.0</td>\n",
       "      <td>7.4</td>\n",
       "    </tr>\n",
       "    <tr>\n",
       "      <td>7</td>\n",
       "      <td>Le Havre</td>\n",
       "      <td>Aki Kaurismäki</td>\n",
       "      <td>99%</td>\n",
       "      <td>75%</td>\n",
       "      <td>82.0</td>\n",
       "      <td>7.2</td>\n",
       "    </tr>\n",
       "    <tr>\n",
       "      <td>8</td>\n",
       "      <td>Zootopia</td>\n",
       "      <td>Byron Howard, Rich Moore</td>\n",
       "      <td>98%</td>\n",
       "      <td>92%</td>\n",
       "      <td>78.0</td>\n",
       "      <td>8.0</td>\n",
       "    </tr>\n",
       "    <tr>\n",
       "      <td>9</td>\n",
       "      <td>Up</td>\n",
       "      <td>Pete Docter, Bob Peterson</td>\n",
       "      <td>98%</td>\n",
       "      <td>90%</td>\n",
       "      <td>88.0</td>\n",
       "      <td>8.2</td>\n",
       "    </tr>\n",
       "  </tbody>\n",
       "</table>\n",
       "</div>"
      ],
      "text/plain": [
       "                      title                      director tomatometer_score  \\\n",
       "0         L.A. Confidential                 Curtis Hanson               99%   \n",
       "1  How to Train Your Dragon   Dean DeBlois, Chris Sanders               99%   \n",
       "2              Finding Nemo   Andrew Stanton, Lee Unkrich               99%   \n",
       "3                     Selma                  Ava DuVernay               99%   \n",
       "4              Eighth Grade                    Bo Burnham               99%   \n",
       "5     Shaun the Sheep Movie  Mark Burton, Richard Starzak               99%   \n",
       "6                 Lady Bird                  Greta Gerwig               99%   \n",
       "7                  Le Havre                Aki Kaurismäki               99%   \n",
       "8                  Zootopia      Byron Howard, Rich Moore               98%   \n",
       "9                        Up     Pete Docter, Bob Peterson               98%   \n",
       "\n",
       "  audience_score  metascore  avg_vote  \n",
       "0            94%       90.0       8.2  \n",
       "1            91%       74.0       8.1  \n",
       "2            86%       90.0       8.1  \n",
       "3            86%       88.0       7.5  \n",
       "4            83%       89.0       7.4  \n",
       "5            81%       81.0       7.3  \n",
       "6            79%       94.0       7.4  \n",
       "7            75%       82.0       7.2  \n",
       "8            92%       78.0       8.0  \n",
       "9            90%       88.0       8.2  "
      ]
     },
     "execution_count": 18,
     "metadata": {},
     "output_type": "execute_result"
    }
   ],
   "source": [
    "# Overview of movies with highest scores \n",
    "top_scored = df_90_income.sort_values([\"tomatometer_score\",\"audience_score\",\"metascore\",\"avg_vote\"], ascending=False)[\n",
    "    [\"title\", \"director\", \"tomatometer_score\",\"audience_score\",\"metascore\",\"avg_vote\"]]\n",
    "top_scored.index = range(len(df_90_income))\n",
    "top_scored.head(n=10)"
   ]
  },
  {
   "cell_type": "code",
   "execution_count": null,
   "metadata": {},
   "outputs": [],
   "source": []
  },
  {
   "cell_type": "code",
   "execution_count": 19,
   "metadata": {},
   "outputs": [],
   "source": [
    "test = df_90_income.sort_values([\"year\"], ascending=False)[\n",
    "    [\"year\",\"tomatometer_score\",\"audience_score\",\"metascore\",\"avg_vote\"]]\n",
    "test.index = range(len(df_90_income))\n",
    "#test.head(n=10)\n"
   ]
  },
  {
   "cell_type": "code",
   "execution_count": 20,
   "metadata": {},
   "outputs": [
    {
     "data": {
      "image/png": "[encoded data removed]",
      "text/plain": [
       "<Figure size 432x288 with 1 Axes>"
      ]
     },
     "metadata": {},
     "output_type": "display_data"
    }
   ],
   "source": [
    "test.plot(kind=\"scatter\",\n",
    "                      x=\"year\",\n",
    "                      y=\"metascore\",\n",
    "                      alpha=0.4)\n",
    "\n",
    "plt.show()"
   ]
  },
  {
   "cell_type": "code",
   "execution_count": 21,
   "metadata": {},
   "outputs": [],
   "source": [
    "#fig, ax = plt.subplots(figsize = (9,5))\n",
    "#sns.distplot(df_90_income.tomatometer_score,bins = 50);\n",
    "#plt.title(\"Distribution of metascore among movies\", size = 10);\n",
    "\n",
    "\n",
    "# Error: ould not convert string to float: '50%'\n",
    "#df_90_income = df_90_income[(df_90_income.tomatometer_score.notnull()) &\n",
    "#                      (df_90_income.audience_score.notnull())]\n",
    "#sns.jointplot(x=df_90_income['year'], y=df_90_income['tomatometer_score'],\n",
    "#              kind=\"kde\").fig.set_size_inches(15,15)\n",
    "\n",
    "# Works but not pretty \n",
    "#plt.figure(figsize=[30,10])\n",
    "#sns.barplot(x=df_90_income.year, y=df_90_income.metascore, data=df_90_income)"
   ]
  },
  {
   "cell_type": "code",
   "execution_count": 22,
   "metadata": {},
   "outputs": [],
   "source": [
    "# Ideas:\n",
    "#1) Look at gender or race in director (men vs women) (balck vs white)"
   ]
  },
  {
   "cell_type": "code",
   "execution_count": 23,
   "metadata": {},
   "outputs": [
    {
     "data": {
      "text/plain": [
       "<matplotlib.axes._subplots.AxesSubplot at 0x13ead50d0>"
      ]
     },
     "execution_count": 23,
     "metadata": {},
     "output_type": "execute_result"
    },
    {
     "data": {
      "image/png": "[encoded data removed]",
      "text/plain": [
       "<Figure size 432x288 with 1 Axes>"
      ]
     },
     "metadata": {},
     "output_type": "display_data"
    }
   ],
   "source": [
    "df_budget.plot(kind=\"scatter\",\n",
    "                      x=\"avg_vote\",\n",
    "                      y=\"net_income\",\n",
    "                      alpha=0.4)"
   ]
  },
  {
   "cell_type": "code",
   "execution_count": null,
   "metadata": {},
   "outputs": [],
   "source": []
  },
  {
   "cell_type": "code",
   "execution_count": null,
   "metadata": {},
   "outputs": [],
   "source": []
  }
 ],
 "metadata": {
  "kernelspec": {
   "display_name": "Python 3",
   "language": "python",
   "name": "python3"
  },
  "language_info": {
   "codemirror_mode": {
    "name": "ipython",
    "version": 3
   },
   "file_extension": ".py",
   "mimetype": "text/x-python",
   "name": "python",
   "nbconvert_exporter": "python",
   "pygments_lexer": "ipython3",
   "version": "3.7.4"
  }
 },
 "nbformat": 4,
 "nbformat_minor": 4
}
