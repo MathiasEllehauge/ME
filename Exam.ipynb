{
 "cells": [
  {
   "cell_type": "code",
   "execution_count": 190,
   "metadata": {},
   "outputs": [],
   "source": [
    "import pandas as pd\n",
    "import numpy as np\n",
    "import matplotlib.pyplot as plt\n",
    "%matplotlib inline\n",
    "\n",
    "plt.style.use('default') # set style (colors, background, size, gridlines etc.) # ggplot\n",
    "plt.rcParams['figure.figsize'] = 10, 3 # set default size of plots\n",
    "plt.rcParams.update({'font.size': 18})\n",
    "\n",
    "import scraping_class\n",
    "logfile = 'log.txt' ## name your log file.\n",
    "connector = scraping_class.Connector(logfile)\n",
    "\n",
    "from bs4 import BeautifulSoup\n",
    "from tqdm import tqdm_notebook as tqdm"
   ]
  },
  {
   "cell_type": "code",
   "execution_count": 167,
   "metadata": {},
   "outputs": [],
   "source": [
    "#!pip install cpi"
   ]
  },
  {
   "cell_type": "code",
   "execution_count": 168,
   "metadata": {},
   "outputs": [],
   "source": [
    "movies = pd.read_csv('IMDb movies.csv')\n",
    "actors = pd.read_csv('IMDb names.csv')\n",
    "ratings = pd.read_csv('IMDb ratings.csv')\n",
    "role = pd.read_csv('IMDb title_principals.csv')"
   ]
  },
  {
   "cell_type": "code",
   "execution_count": 191,
   "metadata": {},
   "outputs": [
    {
     "data": {
      "text/plain": [
       "{'User-Agent': 'python-requests/2.22.0', 'Accept-Encoding': 'gzip, deflate', 'Accept': '*/*', 'Connection': 'keep-alive', 'email': 'zpx171@alumni.ku.dk', 'name': 'Mathias Ellehauge'}"
      ]
     },
     "execution_count": 191,
     "metadata": {},
     "output_type": "execute_result"
    }
   ],
   "source": [
    "import requests\n",
    "session = requests.session()\n",
    "session.headers['email'] = 'zpx171@alumni.ku.dk'\n",
    "session.headers['name'] = 'Mathias Ellehauge'\n",
    "session.headers"
   ]
  },
  {
   "cell_type": "code",
   "execution_count": 223,
   "metadata": {},
   "outputs": [],
   "source": [
    "movies_90 = movies[movies.year >= 1990].drop_duplicates()\n",
    "movies_us = movies[movies.country == 'USA'].drop_duplicates()\n",
    "movies_us_90 = movies_us[movies_us.year >= 1990].drop_duplicates()"
   ]
  },
  {
   "cell_type": "code",
   "execution_count": 224,
   "metadata": {},
   "outputs": [],
   "source": [
    "df_RT = pd.read_csv('RT.csv').drop_duplicates()\n",
    "\n",
    "df_90 = pd.merge(movies_90,df_RT,how='inner',on='title')\n",
    "df_90_us = pd.merge(movies_us_90,df_RT,how='inner',on='title')"
   ]
  },
  {
   "cell_type": "code",
   "execution_count": 237,
   "metadata": {},
   "outputs": [
    {
     "name": "stdout",
     "output_type": "stream",
     "text": [
      "11010\n",
      "10606\n"
     ]
    }
   ],
   "source": [
    "#df_90_income = df_90[df_90['worlwide_gross_income'].notna()]\n",
    "type(df_90['tomatometer_score'][0])\n",
    "\n",
    "df_90_2 = df_90[df_90.year<=2018]\n",
    "\n"
   ]
  }
 ],
 "metadata": {
  "kernelspec": {
   "display_name": "Python 3",
   "language": "python",
   "name": "python3"
  },
  "language_info": {
   "codemirror_mode": {
    "name": "ipython",
    "version": 3
   },
   "file_extension": ".py",
   "mimetype": "text/x-python",
   "name": "python",
   "nbconvert_exporter": "python",
   "pygments_lexer": "ipython3",
   "version": "3.7.4"
  }
 },
 "nbformat": 4,
 "nbformat_minor": 4
}
