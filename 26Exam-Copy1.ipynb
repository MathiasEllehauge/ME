{
 "cells": [
  {
   "cell_type": "code",
   "execution_count": 1,
   "metadata": {},
   "outputs": [],
   "source": [
    "import pandas as pd\n",
    "import numpy as np\n",
    "import matplotlib.pyplot as plt\n",
    "%matplotlib inline\n",
    "\n",
    "plt.style.use('default') # set style (colors, background, size, gridlines etc.) # ggplot\n",
    "plt.rcParams['figure.figsize'] = 8, 4 # set default size of plots\n",
    "plt.rcParams.update({'font.size': 18})\n",
    "\n",
    "import scraping_class\n",
    "logfile = 'log.txt' ## name your log file.\n",
    "connector = scraping_class.Connector(logfile)\n",
    "\n",
    "from bs4 import BeautifulSoup\n",
    "from tqdm import tqdm_notebook as tqdm"
   ]
  },
  {
   "cell_type": "code",
   "execution_count": 2,
   "metadata": {},
   "outputs": [],
   "source": [
    "#pip install cpi"
   ]
  },
  {
   "cell_type": "code",
   "execution_count": 3,
   "metadata": {},
   "outputs": [],
   "source": [
    "movies = pd.read_csv('IMDb movies.csv')\n",
    "actors = pd.read_csv('IMDb names.csv')\n",
    "ratings = pd.read_csv('IMDb ratings.csv')\n",
    "role = pd.read_csv('IMDb title_principals.csv')"
   ]
  },
  {
   "cell_type": "markdown",
   "metadata": {},
   "source": [
    "##### IMDb - Remove duplicates and all years before 1990"
   ]
  },
  {
   "cell_type": "code",
   "execution_count": 4,
   "metadata": {},
   "outputs": [
    {
     "name": "stderr",
     "output_type": "stream",
     "text": [
      "/Users/Messias/opt/anaconda3/lib/python3.7/site-packages/ipykernel_launcher.py:5: SettingWithCopyWarning: \n",
      "A value is trying to be set on a copy of a slice from a DataFrame.\n",
      "Try using .loc[row_indexer,col_indexer] = value instead\n",
      "\n",
      "See the caveats in the documentation: http://pandas.pydata.org/pandas-docs/stable/user_guide/indexing.html#returning-a-view-versus-a-copy\n",
      "  \"\"\"\n"
     ]
    }
   ],
   "source": [
    "movies_90 = movies[movies.year >= 1990] # (53368, 22)\n",
    "#movies_90 = movies.drop(movies[movies['year'] < 1990].index)\n",
    "movies_us = movies[movies.country == 'USA']\n",
    "movies_us_90 = movies_us[movies_us.year >= 1990]\n",
    "movies_90['title'] = movies_90['title'].astype(str)\n",
    "movies_90 = movies_90.drop_duplicates(subset = 'title')\n",
    "mocies_us_90 = movies_us_90.drop_duplicates(subset = 'title')"
   ]
  },
  {
   "cell_type": "markdown",
   "metadata": {},
   "source": [
    "##### RT - Remove duplicates "
   ]
  },
  {
   "cell_type": "code",
   "execution_count": 5,
   "metadata": {},
   "outputs": [],
   "source": [
    "df_RT = pd.read_csv('RT.csv').drop_duplicates(subset = 'title')\n",
    "df_90 = pd.merge(movies_90,df_RT,how='inner',on='title')\n",
    "df_90 = df_90.drop_duplicates()\n",
    "df_90_us = pd.merge(movies_us_90,df_RT,how='inner',on='title')\n",
    "df_90_us = df_90_us.drop_duplicates()"
   ]
  },
  {
   "cell_type": "code",
   "execution_count": 6,
   "metadata": {},
   "outputs": [
    {
     "data": {
      "text/html": [
       "<div>\n",
       "<style scoped>\n",
       "    .dataframe tbody tr th:only-of-type {\n",
       "        vertical-align: middle;\n",
       "    }\n",
       "\n",
       "    .dataframe tbody tr th {\n",
       "        vertical-align: top;\n",
       "    }\n",
       "\n",
       "    .dataframe thead th {\n",
       "        text-align: right;\n",
       "    }\n",
       "</style>\n",
       "<table border=\"1\" class=\"dataframe\">\n",
       "  <thead>\n",
       "    <tr style=\"text-align: right;\">\n",
       "      <th></th>\n",
       "      <th>imdb_title_id</th>\n",
       "      <th>title</th>\n",
       "      <th>original_title</th>\n",
       "      <th>year</th>\n",
       "      <th>date_published</th>\n",
       "      <th>genre</th>\n",
       "      <th>duration</th>\n",
       "      <th>country</th>\n",
       "      <th>language</th>\n",
       "      <th>director</th>\n",
       "      <th>...</th>\n",
       "      <th>avg_vote</th>\n",
       "      <th>votes</th>\n",
       "      <th>budget</th>\n",
       "      <th>usa_gross_income</th>\n",
       "      <th>worlwide_gross_income</th>\n",
       "      <th>metascore</th>\n",
       "      <th>reviews_from_users</th>\n",
       "      <th>reviews_from_critics</th>\n",
       "      <th>tomatometer_score</th>\n",
       "      <th>audience_score</th>\n",
       "    </tr>\n",
       "  </thead>\n",
       "  <tbody>\n",
       "    <tr>\n",
       "      <td>0</td>\n",
       "      <td>tt0035423</td>\n",
       "      <td>Kate &amp; Leopold</td>\n",
       "      <td>Kate &amp; Leopold</td>\n",
       "      <td>2001</td>\n",
       "      <td>2002-04-05</td>\n",
       "      <td>Comedy, Fantasy, Romance</td>\n",
       "      <td>118</td>\n",
       "      <td>USA</td>\n",
       "      <td>English, French</td>\n",
       "      <td>James Mangold</td>\n",
       "      <td>...</td>\n",
       "      <td>6.4</td>\n",
       "      <td>75298</td>\n",
       "      <td>$ 48000000</td>\n",
       "      <td>$ 47121859</td>\n",
       "      <td>$ 76019048</td>\n",
       "      <td>44.0</td>\n",
       "      <td>330.0</td>\n",
       "      <td>127.0</td>\n",
       "      <td>50%</td>\n",
       "      <td>62%</td>\n",
       "    </tr>\n",
       "    <tr>\n",
       "      <td>1</td>\n",
       "      <td>tt0069049</td>\n",
       "      <td>The Other Side of the Wind</td>\n",
       "      <td>The Other Side of the Wind</td>\n",
       "      <td>2018</td>\n",
       "      <td>2018-11-02</td>\n",
       "      <td>Drama</td>\n",
       "      <td>122</td>\n",
       "      <td>France, Iran, USA</td>\n",
       "      <td>English, German</td>\n",
       "      <td>Orson Welles</td>\n",
       "      <td>...</td>\n",
       "      <td>6.9</td>\n",
       "      <td>5014</td>\n",
       "      <td>NaN</td>\n",
       "      <td>NaN</td>\n",
       "      <td>NaN</td>\n",
       "      <td>78.0</td>\n",
       "      <td>70.0</td>\n",
       "      <td>88.0</td>\n",
       "      <td>84%</td>\n",
       "      <td>58%</td>\n",
       "    </tr>\n",
       "    <tr>\n",
       "      <td>2</td>\n",
       "      <td>tt0094900</td>\n",
       "      <td>Committed</td>\n",
       "      <td>Committed</td>\n",
       "      <td>1991</td>\n",
       "      <td>1991-04-18</td>\n",
       "      <td>Drama, Thriller</td>\n",
       "      <td>90</td>\n",
       "      <td>USA</td>\n",
       "      <td>English</td>\n",
       "      <td>William A. Levey</td>\n",
       "      <td>...</td>\n",
       "      <td>5.0</td>\n",
       "      <td>175</td>\n",
       "      <td>NaN</td>\n",
       "      <td>NaN</td>\n",
       "      <td>NaN</td>\n",
       "      <td>NaN</td>\n",
       "      <td>2.0</td>\n",
       "      <td>2.0</td>\n",
       "      <td>43%</td>\n",
       "      <td>35%</td>\n",
       "    </tr>\n",
       "    <tr>\n",
       "      <td>3</td>\n",
       "      <td>tt0098063</td>\n",
       "      <td>Paprika</td>\n",
       "      <td>Paprika</td>\n",
       "      <td>1991</td>\n",
       "      <td>1991-02-13</td>\n",
       "      <td>Drama</td>\n",
       "      <td>99</td>\n",
       "      <td>Italy</td>\n",
       "      <td>Italian</td>\n",
       "      <td>Tinto Brass</td>\n",
       "      <td>...</td>\n",
       "      <td>5.6</td>\n",
       "      <td>2968</td>\n",
       "      <td>NaN</td>\n",
       "      <td>NaN</td>\n",
       "      <td>NaN</td>\n",
       "      <td>NaN</td>\n",
       "      <td>9.0</td>\n",
       "      <td>11.0</td>\n",
       "      <td>84%</td>\n",
       "      <td>88%</td>\n",
       "    </tr>\n",
       "    <tr>\n",
       "      <td>4</td>\n",
       "      <td>tt0098993</td>\n",
       "      <td>After</td>\n",
       "      <td>After</td>\n",
       "      <td>1990</td>\n",
       "      <td>1990</td>\n",
       "      <td>Drama</td>\n",
       "      <td>45</td>\n",
       "      <td>Israel</td>\n",
       "      <td>Hebrew, English</td>\n",
       "      <td>Eytan Fox</td>\n",
       "      <td>...</td>\n",
       "      <td>7.0</td>\n",
       "      <td>237</td>\n",
       "      <td>NaN</td>\n",
       "      <td>NaN</td>\n",
       "      <td>NaN</td>\n",
       "      <td>NaN</td>\n",
       "      <td>4.0</td>\n",
       "      <td>2.0</td>\n",
       "      <td>19%</td>\n",
       "      <td>69%</td>\n",
       "    </tr>\n",
       "    <tr>\n",
       "      <td>...</td>\n",
       "      <td>...</td>\n",
       "      <td>...</td>\n",
       "      <td>...</td>\n",
       "      <td>...</td>\n",
       "      <td>...</td>\n",
       "      <td>...</td>\n",
       "      <td>...</td>\n",
       "      <td>...</td>\n",
       "      <td>...</td>\n",
       "      <td>...</td>\n",
       "      <td>...</td>\n",
       "      <td>...</td>\n",
       "      <td>...</td>\n",
       "      <td>...</td>\n",
       "      <td>...</td>\n",
       "      <td>...</td>\n",
       "      <td>...</td>\n",
       "      <td>...</td>\n",
       "      <td>...</td>\n",
       "      <td>...</td>\n",
       "      <td>...</td>\n",
       "    </tr>\n",
       "    <tr>\n",
       "      <td>8997</td>\n",
       "      <td>tt9398640</td>\n",
       "      <td>Between Two Ferns: The Movie</td>\n",
       "      <td>Between Two Ferns: The Movie</td>\n",
       "      <td>2019</td>\n",
       "      <td>2019-09-20</td>\n",
       "      <td>Comedy</td>\n",
       "      <td>82</td>\n",
       "      <td>USA</td>\n",
       "      <td>English</td>\n",
       "      <td>Scott Aukerman</td>\n",
       "      <td>...</td>\n",
       "      <td>6.1</td>\n",
       "      <td>18722</td>\n",
       "      <td>NaN</td>\n",
       "      <td>NaN</td>\n",
       "      <td>NaN</td>\n",
       "      <td>59.0</td>\n",
       "      <td>175.0</td>\n",
       "      <td>51.0</td>\n",
       "      <td>74%</td>\n",
       "      <td>44%</td>\n",
       "    </tr>\n",
       "    <tr>\n",
       "      <td>8998</td>\n",
       "      <td>tt9419834</td>\n",
       "      <td>Secret Obsession</td>\n",
       "      <td>Secret Obsession</td>\n",
       "      <td>2019</td>\n",
       "      <td>2019-07-18</td>\n",
       "      <td>Drama, Mystery, Thriller</td>\n",
       "      <td>97</td>\n",
       "      <td>USA</td>\n",
       "      <td>English</td>\n",
       "      <td>Peter Sullivan</td>\n",
       "      <td>...</td>\n",
       "      <td>4.3</td>\n",
       "      <td>14189</td>\n",
       "      <td>NaN</td>\n",
       "      <td>NaN</td>\n",
       "      <td>NaN</td>\n",
       "      <td>NaN</td>\n",
       "      <td>671.0</td>\n",
       "      <td>31.0</td>\n",
       "      <td>29%</td>\n",
       "      <td>8%</td>\n",
       "    </tr>\n",
       "    <tr>\n",
       "      <td>8999</td>\n",
       "      <td>tt9426186</td>\n",
       "      <td>Revenger</td>\n",
       "      <td>Revenger</td>\n",
       "      <td>2018</td>\n",
       "      <td>2018-12-06</td>\n",
       "      <td>Action, Crime, Thriller</td>\n",
       "      <td>101</td>\n",
       "      <td>South Korea</td>\n",
       "      <td>Korean, English</td>\n",
       "      <td>Seung-Won Lee</td>\n",
       "      <td>...</td>\n",
       "      <td>5.7</td>\n",
       "      <td>2658</td>\n",
       "      <td>NaN</td>\n",
       "      <td>NaN</td>\n",
       "      <td>NaN</td>\n",
       "      <td>NaN</td>\n",
       "      <td>58.0</td>\n",
       "      <td>20.0</td>\n",
       "      <td>40%</td>\n",
       "      <td>52%</td>\n",
       "    </tr>\n",
       "    <tr>\n",
       "      <td>9000</td>\n",
       "      <td>tt9534808</td>\n",
       "      <td>Acceleration</td>\n",
       "      <td>Acceleration</td>\n",
       "      <td>2019</td>\n",
       "      <td>2019-11-08</td>\n",
       "      <td>Action</td>\n",
       "      <td>85</td>\n",
       "      <td>USA</td>\n",
       "      <td>English</td>\n",
       "      <td>Michael Merino, Daniel Zirilli</td>\n",
       "      <td>...</td>\n",
       "      <td>4.9</td>\n",
       "      <td>239</td>\n",
       "      <td>NaN</td>\n",
       "      <td>NaN</td>\n",
       "      <td>NaN</td>\n",
       "      <td>NaN</td>\n",
       "      <td>10.0</td>\n",
       "      <td>5.0</td>\n",
       "      <td>0%</td>\n",
       "      <td>20%</td>\n",
       "    </tr>\n",
       "    <tr>\n",
       "      <td>9001</td>\n",
       "      <td>tt9860728</td>\n",
       "      <td>Falling Inn Love</td>\n",
       "      <td>Falling Inn Love</td>\n",
       "      <td>2019</td>\n",
       "      <td>2019-08-29</td>\n",
       "      <td>Comedy, Romance</td>\n",
       "      <td>98</td>\n",
       "      <td>USA</td>\n",
       "      <td>English</td>\n",
       "      <td>Roger Kumble</td>\n",
       "      <td>...</td>\n",
       "      <td>5.6</td>\n",
       "      <td>9816</td>\n",
       "      <td>NaN</td>\n",
       "      <td>NaN</td>\n",
       "      <td>NaN</td>\n",
       "      <td>NaN</td>\n",
       "      <td>219.0</td>\n",
       "      <td>30.0</td>\n",
       "      <td>65%</td>\n",
       "      <td>33%</td>\n",
       "    </tr>\n",
       "  </tbody>\n",
       "</table>\n",
       "<p>9002 rows × 24 columns</p>\n",
       "</div>"
      ],
      "text/plain": [
       "     imdb_title_id                         title  \\\n",
       "0        tt0035423                Kate & Leopold   \n",
       "1        tt0069049    The Other Side of the Wind   \n",
       "2        tt0094900                     Committed   \n",
       "3        tt0098063                       Paprika   \n",
       "4        tt0098993                         After   \n",
       "...            ...                           ...   \n",
       "8997     tt9398640  Between Two Ferns: The Movie   \n",
       "8998     tt9419834              Secret Obsession   \n",
       "8999     tt9426186                      Revenger   \n",
       "9000     tt9534808                  Acceleration   \n",
       "9001     tt9860728              Falling Inn Love   \n",
       "\n",
       "                    original_title  year date_published  \\\n",
       "0                   Kate & Leopold  2001     2002-04-05   \n",
       "1       The Other Side of the Wind  2018     2018-11-02   \n",
       "2                        Committed  1991     1991-04-18   \n",
       "3                          Paprika  1991     1991-02-13   \n",
       "4                            After  1990           1990   \n",
       "...                            ...   ...            ...   \n",
       "8997  Between Two Ferns: The Movie  2019     2019-09-20   \n",
       "8998              Secret Obsession  2019     2019-07-18   \n",
       "8999                      Revenger  2018     2018-12-06   \n",
       "9000                  Acceleration  2019     2019-11-08   \n",
       "9001              Falling Inn Love  2019     2019-08-29   \n",
       "\n",
       "                         genre  duration            country         language  \\\n",
       "0     Comedy, Fantasy, Romance       118                USA  English, French   \n",
       "1                        Drama       122  France, Iran, USA  English, German   \n",
       "2              Drama, Thriller        90                USA          English   \n",
       "3                        Drama        99              Italy          Italian   \n",
       "4                        Drama        45             Israel  Hebrew, English   \n",
       "...                        ...       ...                ...              ...   \n",
       "8997                    Comedy        82                USA          English   \n",
       "8998  Drama, Mystery, Thriller        97                USA          English   \n",
       "8999   Action, Crime, Thriller       101        South Korea  Korean, English   \n",
       "9000                    Action        85                USA          English   \n",
       "9001           Comedy, Romance        98                USA          English   \n",
       "\n",
       "                            director  ... avg_vote  votes      budget  \\\n",
       "0                      James Mangold  ...      6.4  75298  $ 48000000   \n",
       "1                       Orson Welles  ...      6.9   5014         NaN   \n",
       "2                   William A. Levey  ...      5.0    175         NaN   \n",
       "3                        Tinto Brass  ...      5.6   2968         NaN   \n",
       "4                          Eytan Fox  ...      7.0    237         NaN   \n",
       "...                              ...  ...      ...    ...         ...   \n",
       "8997                  Scott Aukerman  ...      6.1  18722         NaN   \n",
       "8998                  Peter Sullivan  ...      4.3  14189         NaN   \n",
       "8999                   Seung-Won Lee  ...      5.7   2658         NaN   \n",
       "9000  Michael Merino, Daniel Zirilli  ...      4.9    239         NaN   \n",
       "9001                    Roger Kumble  ...      5.6   9816         NaN   \n",
       "\n",
       "     usa_gross_income  worlwide_gross_income  metascore reviews_from_users  \\\n",
       "0          $ 47121859             $ 76019048       44.0              330.0   \n",
       "1                 NaN                    NaN       78.0               70.0   \n",
       "2                 NaN                    NaN        NaN                2.0   \n",
       "3                 NaN                    NaN        NaN                9.0   \n",
       "4                 NaN                    NaN        NaN                4.0   \n",
       "...               ...                    ...        ...                ...   \n",
       "8997              NaN                    NaN       59.0              175.0   \n",
       "8998              NaN                    NaN        NaN              671.0   \n",
       "8999              NaN                    NaN        NaN               58.0   \n",
       "9000              NaN                    NaN        NaN               10.0   \n",
       "9001              NaN                    NaN        NaN              219.0   \n",
       "\n",
       "     reviews_from_critics tomatometer_score  audience_score  \n",
       "0                   127.0               50%             62%  \n",
       "1                    88.0               84%             58%  \n",
       "2                     2.0               43%             35%  \n",
       "3                    11.0               84%             88%  \n",
       "4                     2.0               19%             69%  \n",
       "...                   ...               ...             ...  \n",
       "8997                 51.0               74%             44%  \n",
       "8998                 31.0               29%              8%  \n",
       "8999                 20.0               40%             52%  \n",
       "9000                  5.0                0%             20%  \n",
       "9001                 30.0               65%             33%  \n",
       "\n",
       "[9002 rows x 24 columns]"
      ]
     },
     "execution_count": 6,
     "metadata": {},
     "output_type": "execute_result"
    }
   ],
   "source": [
    "df_90"
   ]
  },
  {
   "cell_type": "code",
   "execution_count": 7,
   "metadata": {},
   "outputs": [],
   "source": [
    "# **** Remove NaN ****\n",
    "df_90_income = df_90.dropna(subset = ['worlwide_gross_income']).reset_index(drop=True).drop_duplicates()\n",
    "df_us = df_90_us[df_90_us['worlwide_gross_income'].notna()].reset_index(drop=True)\n",
    "\n",
    "#df_90_income.dtypes\n",
    "#df_90_income.head()\n",
    "#print(df_90_income.shape)\n",
    "#df_90\n",
    "#df_90_income"
   ]
  },
  {
   "cell_type": "markdown",
   "metadata": {},
   "source": [
    "##### Cleaning dataset and adjusting income and budget for inflation (CPI)"
   ]
  },
  {
   "cell_type": "code",
   "execution_count": null,
   "metadata": {},
   "outputs": [],
   "source": [
    "import cpi\n",
    "#cpi.update()\n",
    "\n",
    "def inflate_column(data, column):\n",
    "    '''Inflate monetary figures from a given year to their 2018 values'''\n",
    "    return data.apply(lambda x: cpi.inflate(x[column], x.year), axis=1)"
   ]
  },
  {
   "cell_type": "code",
   "execution_count": null,
   "metadata": {},
   "outputs": [],
   "source": [
    "df_90_income['worldwide_gross_income'] = df_90_income['worlwide_gross_income']\\\n",
    "                                        .apply(lambda x:x[1:] if x and x[:1]== '$' else None)\n",
    "df_90_income = df_90_income.drop('worlwide_gross_income', axis=1)\n",
    "df_90_income = df_90_income.dropna(subset = ['worldwide_gross_income'])"
   ]
  },
  {
   "cell_type": "code",
   "execution_count": null,
   "metadata": {},
   "outputs": [],
   "source": [
    "df_90_income = df_90_income.dropna(subset = ['budget'])\n",
    "df_90_income['budget'] = df_90_income['budget'].apply(lambda x:x[1:] if x and x[:1]== '$' else None)\n",
    "\n",
    "df_90_income = df_90_income.dropna(subset = ['usa_gross_income'])\n",
    "df_90_income['usa_gross_income'] = df_90_income['usa_gross_income']\\\n",
    "                                        .apply(lambda x:x[1:] if x and x[:1]== '$' else None)"
   ]
  },
  {
   "cell_type": "code",
   "execution_count": null,
   "metadata": {},
   "outputs": [],
   "source": [
    "df_90_income = df_90_income.reset_index(drop=True).drop_duplicates()\n",
    "\n",
    "df_90_income.worldwide_gross_income = df_90_income.worldwide_gross_income.astype(int)\n",
    "df_90_income = df_90_income[df_90_income.year <= 2018]\n",
    "df_90_income['adjusted_wgi'] = inflate_column(df_90_income, 'worldwide_gross_income')\n",
    "\n",
    "df_budget = df_90_income.dropna(subset = ['budget']).copy()\n",
    "df_budget.budget = df_budget.budget.astype(int)\n",
    "df_budget['adjusted_budget'] = inflate_column(df_budget, 'budget')\n",
    "\n",
    "df_budget = df_budget.dropna(subset = ['usa_gross_income']).copy()\n",
    "df_budget['usa_gross_income'] = df_budget['usa_gross_income'].astype(int)\n",
    "df_budget['adjusted_us_income'] = inflate_column(df_budget, 'usa_gross_income')\n",
    "\n",
    "df_budget['net_income'] = df_budget.adjusted_wgi - df_budget.adjusted_budget\n",
    "df_budget['net_us_income'] = df_budget['adjusted_us_income'] - df_budget['adjusted_budget']\n",
    "df = df_budget.reset_index(drop=True)\n",
    "#df_90_income.dtypes"
   ]
  },
  {
   "cell_type": "code",
   "execution_count": null,
   "metadata": {},
   "outputs": [],
   "source": [
    "directors = list(df['director'].values)\n"
   ]
  },
  {
   "cell_type": "code",
   "execution_count": null,
   "metadata": {},
   "outputs": [],
   "source": [
    "df.dtypes"
   ]
  },
  {
   "cell_type": "code",
   "execution_count": null,
   "metadata": {},
   "outputs": [],
   "source": [
    "# Converting Rotten Tomatoes scores to floats\n",
    "df['tomatometer_score'] = df['tomatometer_score'].replace({'\\%':''}, regex = True)\n",
    "df['audience_score'] = df['audience_score'].replace({'\\%':''}, regex = True)\n",
    "\n",
    "df['tomatometer_score']= df['tomatometer_score'].astype(float)\n",
    "df['audience_score']= df['audience_score'].astype(float)"
   ]
  },
  {
   "cell_type": "code",
   "execution_count": null,
   "metadata": {},
   "outputs": [],
   "source": [
    "director_scores = []\n",
    "a = {}\n",
    "for director in tqdm(directors):\n",
    "    a[director] = pd.DataFrame(df[df['director'].str.contains(director)])\n",
    "    director_scores.append([director,\n",
    "                           a[director]['avg_vote'].mean(),\n",
    "                           a[director]['metascore'].mean(),\n",
    "                           a[director]['tomatometer_score'].mean(),\n",
    "                           a[director]['audience_score'].mean()])"
   ]
  },
  {
   "cell_type": "code",
   "execution_count": null,
   "metadata": {},
   "outputs": [],
   "source": [
    "cols = ['director', 'director_imdb', 'director_metascore', 'director_tomatometer', 'director_audience']\n",
    "df_director = pd.DataFrame(director_scores, index=range(len(director_scores)),columns=cols)"
   ]
  },
  {
   "cell_type": "code",
   "execution_count": null,
   "metadata": {},
   "outputs": [],
   "source": [
    "len(directors)"
   ]
  },
  {
   "cell_type": "code",
   "execution_count": null,
   "metadata": {},
   "outputs": [],
   "source": [
    "#writers = list(df.dropna(subset = ['writer'])['writer'].values)\n",
    "#writers = list(df['writer'].values)\n",
    "df = df.dropna(subset = ['writer'])"
   ]
  },
  {
   "cell_type": "code",
   "execution_count": null,
   "metadata": {},
   "outputs": [],
   "source": [
    "writers = list(df['writer'].values)\n",
    "writer_scores = []\n",
    "a = {}\n",
    "for writer in tqdm(writers):\n",
    "    \n",
    "    a[writer] = pd.DataFrame(df[df['writer'].str.contains(writer)])\n",
    "    writer_scores.append([writer,\n",
    "                           a[writer]['avg_vote'].mean(),\n",
    "                           a[writer]['metascore'].mean(),\n",
    "                           a[writer]['tomatometer_score'].mean(),\n",
    "                           a[writer]['audience_score'].mean()])\n"
   ]
  },
  {
   "cell_type": "code",
   "execution_count": null,
   "metadata": {},
   "outputs": [],
   "source": [
    "cols = ['writer', 'writer_imdb', 'writer_metascore', 'writer_tomatometer', 'writer_audience']\n",
    "df_writer = pd.DataFrame(writer_scores, index=range(len(writer_scores)),columns=cols)"
   ]
  },
  {
   "cell_type": "code",
   "execution_count": null,
   "metadata": {},
   "outputs": [],
   "source": [
    "actors = []\n",
    "\n",
    "for actor in df['actors']:\n",
    "    actors.append(actor.split(\", \")[:4])"
   ]
  },
  {
   "cell_type": "code",
   "execution_count": null,
   "metadata": {},
   "outputs": [],
   "source": [
    "actor_scores = []\n",
    "a = {}\n",
    "for film in tqdm(actors):\n",
    "    for actor in film:\n",
    "        a[actor] = pd.DataFrame(df[df['actors'].str.contains(actor)])\n",
    "        actor_scores.append([actor,\n",
    "                           a[actor]['avg_vote'].mean(),\n",
    "                           a[actor]['metascore'].mean(),\n",
    "                           a[actor]['tomatometer_score'].mean(),\n",
    "                           a[actor]['audience_score'].mean()])"
   ]
  },
  {
   "cell_type": "code",
   "execution_count": null,
   "metadata": {},
   "outputs": [],
   "source": [
    "cols = ['actor', 'actor_imdb', 'actor_metascore', 'actor_tomatometer', 'actor_audience']\n",
    "df_actors = pd.DataFrame(actor_scores, index=range(len(actor_scores)),columns=cols)\n",
    "#actors[df_actors['actor']=='Meg Ryan']"
   ]
  },
  {
   "cell_type": "code",
   "execution_count": null,
   "metadata": {},
   "outputs": [],
   "source": [
    "df = pd.merge(df, df_director, how='left', on='director').drop_duplicates().reset_index(drop=True)\n",
    "df = pd.merge(df, df_writer, how='left', on='writer').drop_duplicates().reset_index(drop=True)"
   ]
  },
  {
   "cell_type": "markdown",
   "metadata": {},
   "source": [
    "##### Clean US dataset for valuta (dollar sign)"
   ]
  },
  {
   "cell_type": "code",
   "execution_count": null,
   "metadata": {},
   "outputs": [],
   "source": [
    "df_us['wgi'] = df_us['worlwide_gross_income'].replace({'\\$':''}, regex = True)\n",
    "df_us['budget'] = df_us['budget'].replace({'\\$':''}, regex = True)\n",
    "df_us['usa_gross_income'] = df_us['usa_gross_income'].replace({'\\$':''}, regex = True)\n"
   ]
  },
  {
   "cell_type": "code",
   "execution_count": null,
   "metadata": {},
   "outputs": [],
   "source": [
    "#len(df_us[df_us.year==2019])\n",
    "df_us.wgi = df_us.wgi.astype(int)\n",
    "df_us = df_us[df_us.year <= 2018]\n",
    "df_us['adjusted'] = inflate_column(df_us, 'wgi')\n",
    "#df_us"
   ]
  },
  {
   "cell_type": "code",
   "execution_count": null,
   "metadata": {},
   "outputs": [],
   "source": [
    "df.columns.values"
   ]
  },
  {
   "cell_type": "markdown",
   "metadata": {},
   "source": [
    "##### Seperating data into features (have greater flexibility for project when predicting)"
   ]
  },
  {
   "cell_type": "code",
   "execution_count": null,
   "metadata": {},
   "outputs": [],
   "source": [
    "df_ratings = [['avg_vote', 'metascore','tomatometer_score', 'audience_score']]\n",
    "df_x = df[['title', 'year', 'date_published', 'genre', 'duration','country', 'director', 'actors', 'budget','production_company','writer', 'director_imdb','director_tomatometer','director_audience','writer_imdb','writer_metascore','writer_tomatometer','writer_audience']]\n",
    "df_y = df_budget[['net_income','net_us_income','adjusted_wgi', 'adjusted_us_income']]"
   ]
  },
  {
   "cell_type": "code",
   "execution_count": null,
   "metadata": {},
   "outputs": [],
   "source": [
    "df_x.to_csv('inputInfo_X.csv', encoding='utf-8',index=False)"
   ]
  },
  {
   "cell_type": "code",
   "execution_count": null,
   "metadata": {},
   "outputs": [],
   "source": [
    "df_y.to_csv('inputInfo_Y.csv', encoding='utf-8',index=False)"
   ]
  },
  {
   "cell_type": "code",
   "execution_count": null,
   "metadata": {},
   "outputs": [],
   "source": [
    "x = pd.read_csv(\"inputInfo_X.csv\")"
   ]
  },
  {
   "cell_type": "code",
   "execution_count": null,
   "metadata": {},
   "outputs": [],
   "source": [
    "y = pd.read_csv(\"inputInfo_Y.csv\")"
   ]
  },
  {
   "cell_type": "code",
   "execution_count": null,
   "metadata": {},
   "outputs": [],
   "source": [
    "def convert_to_array(rating):\n",
    "    rating = str(rating)\n",
    "    rating = rating.lower()\n",
    "    rating = rating.split(\",\")\n",
    "    return rating"
   ]
  },
  {
   "cell_type": "markdown",
   "metadata": {},
   "source": [
    "##### Converting columns with multiple string entries to a list. This will assist for converting each string entry to dummy variables"
   ]
  },
  {
   "cell_type": "code",
   "execution_count": null,
   "metadata": {},
   "outputs": [],
   "source": [
    "x[\"genre\"]= x[\"genre\"].apply(lambda x: convert_to_array(x))\n",
    "x[\"country\"] = x[\"country\"].apply(lambda x: convert_to_array(x))\n",
    "x[\"director\"] = x[\"director\"].apply(lambda x: convert_to_array(x))\n",
    "x[\"actors\"] = x[\"actors\"].apply(lambda x: convert_to_array(x))\n",
    "x[\"title\"] = x[\"title\"].apply(lambda x: convert_to_array(x))\n",
    "x[\"production_company\"] = x[\"production_company\"].apply(lambda x: convert_to_array(x))\n",
    "x[\"writer\"] = x[\"writer\"].apply(lambda x: convert_to_array(x))"
   ]
  },
  {
   "cell_type": "markdown",
   "metadata": {},
   "source": [
    "##### Converting published date to months"
   ]
  },
  {
   "cell_type": "code",
   "execution_count": null,
   "metadata": {},
   "outputs": [],
   "source": [
    "x[\"date_published\"] = x[\"date_published\"].apply(lambda x: pd.to_datetime(x).month)"
   ]
  },
  {
   "cell_type": "markdown",
   "metadata": {},
   "source": [
    "##### Creating dummy variables "
   ]
  },
  {
   "cell_type": "code",
   "execution_count": null,
   "metadata": {},
   "outputs": [],
   "source": [
    "from sklearn.preprocessing import MultiLabelBinarizer\n",
    "MLB = MultiLabelBinarizer()"
   ]
  },
  {
   "cell_type": "code",
   "execution_count": null,
   "metadata": {},
   "outputs": [],
   "source": [
    "actor_dummy = pd.DataFrame(MLB.fit_transform(x[\"actors\"]),columns = MLB.classes_,index=x.index)\n",
    "genre_dummy = pd.DataFrame(MLB.fit_transform(x[\"genre\"]),columns=MLB.classes_, index=x.index)\n",
    "country_dummy = pd.DataFrame(MLB.fit_transform(x[\"country\"]),columns = MLB.classes_,index=x.index)\n",
    "director_dummy = pd.DataFrame(MLB.fit_transform(x[\"director\"]),columns = MLB.classes_,index=x.index)\n",
    "production_dummy = pd.DataFrame(MLB.fit_transform(x[\"production_company\"]),columns = MLB.classes_,index=x.index)"
   ]
  },
  {
   "cell_type": "code",
   "execution_count": null,
   "metadata": {},
   "outputs": [],
   "source": [
    "genre_dummy.head()"
   ]
  },
  {
   "cell_type": "markdown",
   "metadata": {},
   "source": [
    "##### Looking at the predictor values"
   ]
  },
  {
   "cell_type": "code",
   "execution_count": null,
   "metadata": {},
   "outputs": [],
   "source": [
    "y_2 = y[[\"tomatometer_score\",\"audience_score\",\"metascore\",\"avg_vote\",\"usa_gross_income\",\"worldwide_gross_income\"]]"
   ]
  },
  {
   "cell_type": "markdown",
   "metadata": {},
   "source": [
    "##### Converting the audience and user rating to binary. "
   ]
  },
  {
   "cell_type": "code",
   "execution_count": null,
   "metadata": {},
   "outputs": [],
   "source": [
    "#y_2[\"t_rating\"] = y_2[\"tomatometer_score\"].apply(lambda x: 1 if x > 60.0 else 0)\n",
    "#y_2[\"audience_score\"] = y_2[\"audience_score\"].apply(lambda x: 1 if x > 60.0 else 0) "
   ]
  },
  {
   "cell_type": "code",
   "execution_count": null,
   "metadata": {},
   "outputs": [],
   "source": [
    "from sklearn.pipeline import make_pipeline\n",
    "from sklearn.preprocessing import StandardScaler, PolynomialFeatures\n",
    "from sklearn.linear_model import LinearRegression\n",
    "from sklearn.metrics import mean_squared_error as mse\n",
    "from sklearn.model_selection import train_test_split\n",
    "from sklearn.linear_model import Lasso\n",
    "from sklearn.model_selection import KFold"
   ]
  },
  {
   "cell_type": "markdown",
   "metadata": {},
   "source": [
    "##### Data Visualization"
   ]
  },
  {
   "cell_type": "code",
   "execution_count": null,
   "metadata": {},
   "outputs": [],
   "source": [
    "import matplotlib.pyplot as plt\n",
    "import seaborn as sns"
   ]
  },
  {
   "cell_type": "code",
   "execution_count": null,
   "metadata": {},
   "outputs": [],
   "source": [
    "fig, ax = plt.subplots(figsize = (10,5))\n",
    "sns.distplot(df_90_income.year, bins = 20);\n",
    "plt.title(\"Distribution of movies over the years\", size = 10);"
   ]
  },
  {
   "cell_type": "code",
   "execution_count": null,
   "metadata": {},
   "outputs": [],
   "source": [
    "sns.set(style=\"white\")\n",
    "\n",
    "plt.figure(figsize=(10,5))\n",
    "plt.title('Movies by the year', size=15)\n",
    "sns.distplot(df_90_income.year, kde=False)\n",
    "plt.ylabel('Number of movies', size=15)\n",
    "plt.xlabel('Year of release',size=15)\n",
    "plt.axis([1990, 2019, 0, 700])\n",
    "plt.xticks(np.arange(1990, 2019, step=2))\n",
    "plt.show()"
   ]
  },
  {
   "cell_type": "code",
   "execution_count": null,
   "metadata": {},
   "outputs": [],
   "source": [
    "# Overview of the different genres \n",
    "df_90_income['first_genre'] = df_90_income['genre'].str.split(',').str[0]\n",
    "\n",
    "a = plt.cm.binary\n",
    "\n",
    "plt.figure(figsize=(10,4))\n",
    "count = df_90_income['first_genre'].value_counts()[:7]\n",
    "sns.barplot(count.values, count.index, palette=[a(0.1),a(0.2),a(0.3),a(0.4),a(0.5),a(0.6),a(0.7)])\n",
    "for i, v in enumerate(count.values):\n",
    "    plt.text(0.8,i,v,color='k',fontsize=10)\n",
    "plt.xlabel('Count', fontsize=12)\n",
    "plt.ylabel('Genre name', fontsize=12)\n",
    "plt.title(\"Genres\", fontsize=15)\n",
    "plt.show()"
   ]
  },
  {
   "cell_type": "code",
   "execution_count": null,
   "metadata": {},
   "outputs": [],
   "source": [
    "# Overview of movies with highest scores \n",
    "top_scored = df_90_income.sort_values([\"tomatometer_score\",\"audience_score\",\"metascore\",\"avg_vote\"], ascending=False)[\n",
    "    [\"title\", \"director\", \"tomatometer_score\",\"audience_score\",\"metascore\",\"avg_vote\"]]\n",
    "top_scored.index = range(len(df_90_income))\n",
    "top_scored.head(n=10)"
   ]
  },
  {
   "cell_type": "code",
   "execution_count": null,
   "metadata": {},
   "outputs": [],
   "source": [
    "test = df_90_income.sort_values([\"year\"], ascending=False)[\n",
    "    [\"year\",\"tomatometer_score\",\"audience_score\",\"metascore\",\"avg_vote\"]]\n",
    "test.index = range(len(df_90_income))\n",
    "#test.head(n=10)\n"
   ]
  },
  {
   "cell_type": "code",
   "execution_count": null,
   "metadata": {},
   "outputs": [],
   "source": [
    "test.plot(kind=\"scatter\",\n",
    "                      x=\"year\",\n",
    "                      y=\"metascore\",\n",
    "                      alpha=0.4)\n",
    "\n",
    "plt.show()"
   ]
  },
  {
   "cell_type": "code",
   "execution_count": null,
   "metadata": {},
   "outputs": [],
   "source": [
    "#fig, ax = plt.subplots(figsize = (9,5))\n",
    "#sns.distplot(df_90_income.tomatometer_score,bins = 50);\n",
    "#plt.title(\"Distribution of metascore among movies\", size = 10);\n",
    "\n",
    "\n",
    "# Error: ould not convert string to float: '50%'\n",
    "#df_90_income = df_90_income[(df_90_income.tomatometer_score.notnull()) &\n",
    "#                      (df_90_income.audience_score.notnull())]\n",
    "#sns.jointplot(x=df_90_income['year'], y=df_90_income['tomatometer_score'],\n",
    "#              kind=\"kde\").fig.set_size_inches(15,15)\n",
    "\n",
    "# Works but not pretty \n",
    "#plt.figure(figsize=[30,10])\n",
    "#sns.barplot(x=df_90_income.year, y=df_90_income.metascore, data=df_90_income)"
   ]
  },
  {
   "cell_type": "code",
   "execution_count": null,
   "metadata": {},
   "outputs": [],
   "source": [
    "# Ideas:\n",
    "#1) Look at gender or race in director (men vs women) (balck vs white)"
   ]
  },
  {
   "cell_type": "code",
   "execution_count": null,
   "metadata": {},
   "outputs": [],
   "source": [
    "df_budget.plot(kind=\"scatter\",\n",
    "                      x=\"avg_vote\",\n",
    "                      y=\"net_income\",\n",
    "                      alpha=0.4)"
   ]
  },
  {
   "cell_type": "code",
   "execution_count": null,
   "metadata": {},
   "outputs": [],
   "source": []
  }
 ],
 "metadata": {
  "kernelspec": {
   "display_name": "Python 3",
   "language": "python",
   "name": "python3"
  },
  "language_info": {
   "codemirror_mode": {
    "name": "ipython",
    "version": 3
   },
   "file_extension": ".py",
   "mimetype": "text/x-python",
   "name": "python",
   "nbconvert_exporter": "python",
   "pygments_lexer": "ipython3",
   "version": "3.7.4"
  }
 },
 "nbformat": 4,
 "nbformat_minor": 4
}
