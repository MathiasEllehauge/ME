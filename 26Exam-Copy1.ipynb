{
 "cells": [
  {
   "cell_type": "code",
   "execution_count": 1,
   "metadata": {},
   "outputs": [],
   "source": [
    "import pandas as pd\n",
    "import numpy as np\n",
    "import matplotlib.pyplot as plt\n",
    "%matplotlib inline\n",
    "\n",
    "plt.style.use('default') # set style (colors, background, size, gridlines etc.) # ggplot\n",
    "plt.rcParams['figure.figsize'] = 8, 4 # set default size of plots\n",
    "plt.rcParams.update({'font.size': 18})\n",
    "\n",
    "import scraping_class\n",
    "logfile = 'log.txt' ## name your log file.\n",
    "connector = scraping_class.Connector(logfile)\n",
    "\n",
    "from bs4 import BeautifulSoup\n",
    "from tqdm import tqdm_notebook as tqdm"
   ]
  },
  {
   "cell_type": "code",
   "execution_count": 2,
   "metadata": {},
   "outputs": [],
   "source": [
    "#pip install cpi"
   ]
  },
  {
   "cell_type": "code",
   "execution_count": 3,
   "metadata": {},
   "outputs": [],
   "source": [
    "movies = pd.read_csv('IMDb movies.csv')\n",
    "actors = pd.read_csv('IMDb names.csv')\n",
    "ratings = pd.read_csv('IMDb ratings.csv')\n",
    "role = pd.read_csv('IMDb title_principals.csv')"
   ]
  },
  {
   "cell_type": "markdown",
   "metadata": {},
   "source": [
    "##### IMDb - Remove duplicates and all years before 1990"
   ]
  },
  {
   "cell_type": "code",
   "execution_count": 4,
   "metadata": {},
   "outputs": [
    {
     "name": "stderr",
     "output_type": "stream",
     "text": [
      "/Users/ea/opt/anaconda3/lib/python3.7/site-packages/ipykernel_launcher.py:5: SettingWithCopyWarning: \n",
      "A value is trying to be set on a copy of a slice from a DataFrame.\n",
      "Try using .loc[row_indexer,col_indexer] = value instead\n",
      "\n",
      "See the caveats in the documentation: http://pandas.pydata.org/pandas-docs/stable/user_guide/indexing.html#returning-a-view-versus-a-copy\n",
      "  \"\"\"\n"
     ]
    }
   ],
   "source": [
    "movies_90 = movies[movies.year >= 1990] # (53368, 22)\n",
    "#movies_90 = movies.drop(movies[movies['year'] < 1990].index)\n",
    "movies_us = movies[movies.country == 'USA']\n",
    "movies_us_90 = movies_us[movies_us.year >= 1990]\n",
    "movies_90['title'] = movies_90['title'].astype(str)\n",
    "movies_90 = movies_90.drop_duplicates(subset = 'title')\n",
    "mocies_us_90 = movies_us_90.drop_duplicates(subset = 'title')"
   ]
  },
  {
   "cell_type": "markdown",
   "metadata": {},
   "source": [
    "##### RT - Remove duplicates "
   ]
  },
  {
   "cell_type": "code",
   "execution_count": 5,
   "metadata": {},
   "outputs": [],
   "source": [
    "\n",
    "df_RT = pd.read_csv('RT.csv').drop_duplicates(subset = 'title')\n",
    "df_90 = pd.merge(movies_90,df_RT,how='inner',on='title')\n",
    "df_90 = df_90.drop_duplicates()\n",
    "df_90_us = pd.merge(movies_us_90,df_RT,how='inner',on='title')\n",
    "df_90_us = df_90_us.drop_duplicates()"
   ]
  },
  {
   "cell_type": "code",
   "execution_count": 6,
   "metadata": {},
   "outputs": [],
   "source": [
    "# **** Remove NaN ****\n",
    "df_90_income = df_90.dropna(subset = ['worlwide_gross_income']).reset_index(drop=True).drop_duplicates()\n",
    "df_us = df_90_us[df_90_us['worlwide_gross_income'].notna()].reset_index(drop=True)\n",
    "\n",
    "#df_90_income.dtypes\n",
    "#df_90_income.head()\n",
    "#print(df_90_income.shape)\n",
    "#df_90\n",
    "#df_90_income"
   ]
  },
  {
   "cell_type": "markdown",
   "metadata": {},
   "source": [
    "##### Cleaning dataset and adjusting income and budget for inflation (CPI)"
   ]
  },
  {
   "cell_type": "code",
   "execution_count": 7,
   "metadata": {},
   "outputs": [],
   "source": [
    "import cpi\n",
    "#cpi.update()\n",
    "\n",
    "def inflate_column(data, column):\n",
    "    '''Inflate monetary figures from a given year to their 2018 values'''\n",
    "    return data.apply(lambda x: cpi.inflate(x[column], x.year), axis=1)"
   ]
  },
  {
   "cell_type": "code",
   "execution_count": 8,
   "metadata": {},
   "outputs": [],
   "source": [
    "df_90_income['worldwide_gross_income'] = df_90_income['worlwide_gross_income']\\\n",
    "                                        .apply(lambda x:x[1:] if x and x[:1]== '$' else None)\n",
    "df_90_income = df_90_income.drop('worlwide_gross_income', axis=1)\n",
    "df_90_income = df_90_income.dropna(subset = ['worldwide_gross_income'])"
   ]
  },
  {
   "cell_type": "code",
   "execution_count": 9,
   "metadata": {},
   "outputs": [],
   "source": [
    "df_90_income = df_90_income.dropna(subset = ['budget'])\n",
    "df_90_income['budget'] = df_90_income['budget'].apply(lambda x:x[1:] if x and x[:1]== '$' else None)\n",
    "\n",
    "df_90_income = df_90_income.dropna(subset = ['usa_gross_income'])\n",
    "df_90_income['usa_gross_income'] = df_90_income['usa_gross_income']\\\n",
    "                                        .apply(lambda x:x[1:] if x and x[:1]== '$' else None)"
   ]
  },
  {
   "cell_type": "code",
   "execution_count": 10,
   "metadata": {},
   "outputs": [],
   "source": [
    "df_90_income = df_90_income.reset_index(drop=True).drop_duplicates()\n",
    "\n",
    "df_90_income.worldwide_gross_income = df_90_income.worldwide_gross_income.astype(int)\n",
    "df_90_income = df_90_income[df_90_income.year <= 2018]\n",
    "df_90_income['adjusted_wgi'] = inflate_column(df_90_income, 'worldwide_gross_income')\n",
    "\n",
    "df_budget = df_90_income.dropna(subset = ['budget']).copy()\n",
    "df_budget.budget = df_budget.budget.astype(int)\n",
    "df_budget['adjusted_budget'] = inflate_column(df_budget, 'budget')\n",
    "\n",
    "df_budget = df_budget.dropna(subset = ['usa_gross_income']).copy()\n",
    "df_budget['usa_gross_income'] = df_budget['usa_gross_income'].astype(int)\n",
    "df_budget['adjusted_us_income'] = inflate_column(df_budget, 'usa_gross_income')\n",
    "\n",
    "df_budget['net_income'] = df_budget.adjusted_wgi - df_budget.adjusted_budget\n",
    "df_budget['net_us_income'] = df_budget['adjusted_us_income'] - df_budget['adjusted_budget']\n",
    "df = df_budget.reset_index(drop=True)\n",
    "#df_90_income.dtypes"
   ]
  },
  {
   "cell_type": "code",
   "execution_count": 11,
   "metadata": {},
   "outputs": [],
   "source": [
    "directors = list(df['director'].values)\n"
   ]
  },
  {
   "cell_type": "code",
   "execution_count": 12,
   "metadata": {},
   "outputs": [
    {
     "data": {
      "text/plain": [
       "imdb_title_id              object\n",
       "title                      object\n",
       "original_title             object\n",
       "year                        int64\n",
       "date_published             object\n",
       "genre                      object\n",
       "duration                    int64\n",
       "country                    object\n",
       "language                   object\n",
       "director                   object\n",
       "writer                     object\n",
       "production_company         object\n",
       "actors                     object\n",
       "description                object\n",
       "avg_vote                  float64\n",
       "votes                       int64\n",
       "budget                      int64\n",
       "usa_gross_income            int64\n",
       "metascore                 float64\n",
       "reviews_from_users        float64\n",
       "reviews_from_critics      float64\n",
       "tomatometer_score          object\n",
       "audience_score             object\n",
       "worldwide_gross_income      int64\n",
       "adjusted_wgi              float64\n",
       "adjusted_budget           float64\n",
       "adjusted_us_income        float64\n",
       "net_income                float64\n",
       "net_us_income             float64\n",
       "dtype: object"
      ]
     },
     "execution_count": 12,
     "metadata": {},
     "output_type": "execute_result"
    }
   ],
   "source": [
    "df.dtypes"
   ]
  },
  {
   "cell_type": "code",
   "execution_count": 13,
   "metadata": {},
   "outputs": [],
   "source": [
    "# Converting Rotten Tomatoes scores to floats\n",
    "df['tomatometer_score'] = df['tomatometer_score'].replace({'\\%':''}, regex = True)\n",
    "df['audience_score'] = df['audience_score'].replace({'\\%':''}, regex = True)\n",
    "\n",
    "df['tomatometer_score']= df['tomatometer_score'].astype(float)\n",
    "df['audience_score']= df['audience_score'].astype(float)"
   ]
  },
  {
   "cell_type": "code",
   "execution_count": 17,
   "metadata": {},
   "outputs": [
    {
     "data": {
      "application/vnd.jupyter.widget-view+json": {
       "model_id": "c05eb4d3ea994356b0c94caf7ae3f1cf",
       "version_major": 2,
       "version_minor": 0
      },
      "text/plain": [
       "HBox(children=(IntProgress(value=0, max=4354), HTML(value='')))"
      ]
     },
     "metadata": {},
     "output_type": "display_data"
    },
    {
     "name": "stdout",
     "output_type": "stream",
     "text": [
      "\n"
     ]
    }
   ],
   "source": [
    "director_scores = []\n",
    "a = {}\n",
    "for director in tqdm(directors):\n",
    "    a[director] = pd.DataFrame(df[df['director'].str.contains(director)])\n",
    "    director_scores.append([director,\n",
    "                           a[director]['avg_vote'].mean(),\n",
    "                           a[director]['metascore'].mean(),\n",
    "                           a[director]['tomatometer_score'].mean(),\n",
    "                           a[director]['audience_score'].mean()])"
   ]
  },
  {
   "cell_type": "code",
   "execution_count": 18,
   "metadata": {},
   "outputs": [],
   "source": [
    "cols = ['director', 'director_imdb', 'director_metascore', 'director_tomatometer', 'director_audience']\n",
    "df_director = pd.DataFrame(director_scores, index=range(len(director_scores)),columns=cols)"
   ]
  },
  {
   "cell_type": "code",
   "execution_count": 19,
   "metadata": {},
   "outputs": [
    {
     "data": {
      "text/plain": [
       "4354"
      ]
     },
     "execution_count": 19,
     "metadata": {},
     "output_type": "execute_result"
    }
   ],
   "source": [
    "len(directors)"
   ]
  },
  {
   "cell_type": "code",
   "execution_count": 20,
   "metadata": {},
   "outputs": [],
   "source": [
    "#writers = list(df.dropna(subset = ['writer'])['writer'].values)\n",
    "#writers = list(df['writer'].values)\n",
    "df = df.dropna(subset = ['writer'])"
   ]
  },
  {
   "cell_type": "code",
   "execution_count": 21,
   "metadata": {},
   "outputs": [
    {
     "data": {
      "application/vnd.jupyter.widget-view+json": {
       "model_id": "dc17de0202294ab18cec7ef4bbd9b3ed",
       "version_major": 2,
       "version_minor": 0
      },
      "text/plain": [
       "HBox(children=(IntProgress(value=0, max=4353), HTML(value='')))"
      ]
     },
     "metadata": {},
     "output_type": "display_data"
    },
    {
     "name": "stdout",
     "output_type": "stream",
     "text": [
      "\n"
     ]
    }
   ],
   "source": [
    "writers = list(df['writer'].values)\n",
    "writer_scores = []\n",
    "a = {}\n",
    "for writer in tqdm(writers):\n",
    "    \n",
    "    a[writer] = pd.DataFrame(df[df['writer'].str.contains(writer)])\n",
    "    writer_scores.append([writer,\n",
    "                           a[writer]['avg_vote'].mean(),\n",
    "                           a[writer]['metascore'].mean(),\n",
    "                           a[writer]['tomatometer_score'].mean(),\n",
    "                           a[writer]['audience_score'].mean()])\n",
    "\n"
   ]
  },
  {
   "cell_type": "code",
   "execution_count": 22,
   "metadata": {},
   "outputs": [],
   "source": [
    "cols = ['writer', 'writer_imdb', 'writer_metascore', 'writer_tomatometer', 'writer_audience']\n",
    "df_writer = pd.DataFrame(writer_scores, index=range(len(writer_scores)),columns=cols)"
   ]
  },
  {
   "cell_type": "code",
   "execution_count": 23,
   "metadata": {},
   "outputs": [
    {
     "data": {
      "application/vnd.jupyter.widget-view+json": {
       "model_id": "74d616d6704243118a90900b2e50007d",
       "version_major": 2,
       "version_minor": 0
      },
      "text/plain": [
       "HBox(children=(IntProgress(value=0, max=4353), HTML(value='')))"
      ]
     },
     "metadata": {},
     "output_type": "display_data"
    },
    {
     "name": "stdout",
     "output_type": "stream",
     "text": [
      "\n"
     ]
    }
   ],
   "source": [
    "actors = []\n",
    "\n",
    "for actor in df['actors']:\n",
    "    actors.append(actor.split(\", \")[:4])"
   ]
  },
  {
   "cell_type": "code",
   "execution_count": 30,
   "metadata": {},
   "outputs": [
    {
     "data": {
      "application/vnd.jupyter.widget-view+json": {
       "model_id": "5971ace1f1cf49499a80e66d8131c21b",
       "version_major": 2,
       "version_minor": 0
      },
      "text/plain": [
       "HBox(children=(IntProgress(value=0, max=4353), HTML(value='')))"
      ]
     },
     "metadata": {},
     "output_type": "display_data"
    },
    {
     "name": "stdout",
     "output_type": "stream",
     "text": [
      "\n"
     ]
    }
   ],
   "source": [
    "actor_scores = []\n",
    "a = {}\n",
    "for film in tqdm(actors):\n",
    "    for actor in film:\n",
    "        a[actor] = pd.DataFrame(df[df['actors'].str.contains(actor)])\n",
    "        actor_scores.append([actor,\n",
    "                           a[actor]['avg_vote'].mean(),\n",
    "                           a[actor]['metascore'].mean(),\n",
    "                           a[actor]['tomatometer_score'].mean(),\n",
    "                           a[actor]['audience_score'].mean()])"
   ]
  },
  {
   "cell_type": "code",
   "execution_count": 39,
   "metadata": {},
   "outputs": [],
   "source": [
    "cols = ['actor', 'actor_imdb', 'actor_metascore', 'actor_tomatometer', 'actor_audience']\n",
    "df_actors = pd.DataFrame(actor_scores, index=range(len(actor_scores)),columns=cols)\n",
    "#actors[df_actors['actor']=='Meg Ryan']"
   ]
  },
  {
   "cell_type": "code",
   "execution_count": 48,
   "metadata": {},
   "outputs": [
    {
     "data": {
      "text/html": [
       "<div>\n",
       "<style scoped>\n",
       "    .dataframe tbody tr th:only-of-type {\n",
       "        vertical-align: middle;\n",
       "    }\n",
       "\n",
       "    .dataframe tbody tr th {\n",
       "        vertical-align: top;\n",
       "    }\n",
       "\n",
       "    .dataframe thead th {\n",
       "        text-align: right;\n",
       "    }\n",
       "</style>\n",
       "<table border=\"1\" class=\"dataframe\">\n",
       "  <thead>\n",
       "    <tr style=\"text-align: right;\">\n",
       "      <th></th>\n",
       "      <th>imdb_title_id</th>\n",
       "      <th>title</th>\n",
       "      <th>original_title</th>\n",
       "      <th>year</th>\n",
       "      <th>date_published</th>\n",
       "      <th>genre</th>\n",
       "      <th>duration</th>\n",
       "      <th>country</th>\n",
       "      <th>language</th>\n",
       "      <th>director</th>\n",
       "      <th>...</th>\n",
       "      <th>director_tomatometer_y</th>\n",
       "      <th>director_audience_y</th>\n",
       "      <th>director_imdb</th>\n",
       "      <th>director_metascore</th>\n",
       "      <th>director_tomatometer</th>\n",
       "      <th>director_audience</th>\n",
       "      <th>writer_imdb</th>\n",
       "      <th>writer_metascore</th>\n",
       "      <th>writer_tomatometer</th>\n",
       "      <th>writer_audience</th>\n",
       "    </tr>\n",
       "  </thead>\n",
       "  <tbody>\n",
       "    <tr>\n",
       "      <td>0</td>\n",
       "      <td>tt0035423</td>\n",
       "      <td>Kate &amp; Leopold</td>\n",
       "      <td>Kate &amp; Leopold</td>\n",
       "      <td>2001</td>\n",
       "      <td>2002-04-05</td>\n",
       "      <td>Comedy, Fantasy, Romance</td>\n",
       "      <td>118</td>\n",
       "      <td>USA</td>\n",
       "      <td>English, French</td>\n",
       "      <td>James Mangold</td>\n",
       "      <td>...</td>\n",
       "      <td>69.0</td>\n",
       "      <td>76.142857</td>\n",
       "      <td>7.157143</td>\n",
       "      <td>61.714286</td>\n",
       "      <td>69.0</td>\n",
       "      <td>76.142857</td>\n",
       "      <td>6.400000</td>\n",
       "      <td>44.0</td>\n",
       "      <td>50.000000</td>\n",
       "      <td>62.0</td>\n",
       "    </tr>\n",
       "    <tr>\n",
       "      <td>1</td>\n",
       "      <td>tt0118887</td>\n",
       "      <td>Cop Land</td>\n",
       "      <td>Cop Land</td>\n",
       "      <td>1997</td>\n",
       "      <td>1997-12-05</td>\n",
       "      <td>Crime, Drama, Thriller</td>\n",
       "      <td>105</td>\n",
       "      <td>USA</td>\n",
       "      <td>English</td>\n",
       "      <td>James Mangold</td>\n",
       "      <td>...</td>\n",
       "      <td>69.0</td>\n",
       "      <td>76.142857</td>\n",
       "      <td>7.157143</td>\n",
       "      <td>61.714286</td>\n",
       "      <td>69.0</td>\n",
       "      <td>76.142857</td>\n",
       "      <td>6.866667</td>\n",
       "      <td>53.0</td>\n",
       "      <td>59.666667</td>\n",
       "      <td>71.0</td>\n",
       "    </tr>\n",
       "    <tr>\n",
       "      <td>2</td>\n",
       "      <td>tt0172493</td>\n",
       "      <td>Girl, Interrupted</td>\n",
       "      <td>Girl, Interrupted</td>\n",
       "      <td>1999</td>\n",
       "      <td>2000-03-24</td>\n",
       "      <td>Biography, Drama</td>\n",
       "      <td>127</td>\n",
       "      <td>USA, Germany</td>\n",
       "      <td>English</td>\n",
       "      <td>James Mangold</td>\n",
       "      <td>...</td>\n",
       "      <td>69.0</td>\n",
       "      <td>76.142857</td>\n",
       "      <td>7.157143</td>\n",
       "      <td>61.714286</td>\n",
       "      <td>69.0</td>\n",
       "      <td>76.142857</td>\n",
       "      <td>7.300000</td>\n",
       "      <td>51.0</td>\n",
       "      <td>54.000000</td>\n",
       "      <td>84.0</td>\n",
       "    </tr>\n",
       "    <tr>\n",
       "      <td>3</td>\n",
       "      <td>tt0309698</td>\n",
       "      <td>Identity</td>\n",
       "      <td>Identity</td>\n",
       "      <td>2003</td>\n",
       "      <td>2003-06-13</td>\n",
       "      <td>Mystery, Thriller</td>\n",
       "      <td>90</td>\n",
       "      <td>USA</td>\n",
       "      <td>English</td>\n",
       "      <td>James Mangold</td>\n",
       "      <td>...</td>\n",
       "      <td>69.0</td>\n",
       "      <td>76.142857</td>\n",
       "      <td>7.157143</td>\n",
       "      <td>61.714286</td>\n",
       "      <td>69.0</td>\n",
       "      <td>76.142857</td>\n",
       "      <td>7.300000</td>\n",
       "      <td>64.0</td>\n",
       "      <td>62.000000</td>\n",
       "      <td>75.0</td>\n",
       "    </tr>\n",
       "    <tr>\n",
       "      <td>4</td>\n",
       "      <td>tt0358273</td>\n",
       "      <td>Walk the Line</td>\n",
       "      <td>Walk the Line</td>\n",
       "      <td>2005</td>\n",
       "      <td>2006-02-03</td>\n",
       "      <td>Biography, Drama, Music</td>\n",
       "      <td>136</td>\n",
       "      <td>USA, Germany</td>\n",
       "      <td>English, Russian</td>\n",
       "      <td>James Mangold</td>\n",
       "      <td>...</td>\n",
       "      <td>69.0</td>\n",
       "      <td>76.142857</td>\n",
       "      <td>7.157143</td>\n",
       "      <td>61.714286</td>\n",
       "      <td>69.0</td>\n",
       "      <td>76.142857</td>\n",
       "      <td>7.800000</td>\n",
       "      <td>72.0</td>\n",
       "      <td>82.000000</td>\n",
       "      <td>90.0</td>\n",
       "    </tr>\n",
       "    <tr>\n",
       "      <td>...</td>\n",
       "      <td>...</td>\n",
       "      <td>...</td>\n",
       "      <td>...</td>\n",
       "      <td>...</td>\n",
       "      <td>...</td>\n",
       "      <td>...</td>\n",
       "      <td>...</td>\n",
       "      <td>...</td>\n",
       "      <td>...</td>\n",
       "      <td>...</td>\n",
       "      <td>...</td>\n",
       "      <td>...</td>\n",
       "      <td>...</td>\n",
       "      <td>...</td>\n",
       "      <td>...</td>\n",
       "      <td>...</td>\n",
       "      <td>...</td>\n",
       "      <td>...</td>\n",
       "      <td>...</td>\n",
       "      <td>...</td>\n",
       "      <td>...</td>\n",
       "    </tr>\n",
       "    <tr>\n",
       "      <td>4348</td>\n",
       "      <td>tt7388562</td>\n",
       "      <td>Paul, Apostle of Christ</td>\n",
       "      <td>Paul, Apostle of Christ</td>\n",
       "      <td>2018</td>\n",
       "      <td>2018-03-23</td>\n",
       "      <td>Adventure, Biography, Drama</td>\n",
       "      <td>108</td>\n",
       "      <td>USA</td>\n",
       "      <td>English</td>\n",
       "      <td>Andrew Hyatt</td>\n",
       "      <td>...</td>\n",
       "      <td>45.0</td>\n",
       "      <td>81.000000</td>\n",
       "      <td>6.600000</td>\n",
       "      <td>52.000000</td>\n",
       "      <td>45.0</td>\n",
       "      <td>81.000000</td>\n",
       "      <td>6.600000</td>\n",
       "      <td>52.0</td>\n",
       "      <td>45.000000</td>\n",
       "      <td>81.0</td>\n",
       "    </tr>\n",
       "    <tr>\n",
       "      <td>4349</td>\n",
       "      <td>tt7424200</td>\n",
       "      <td>Teen Titans Go! To the Movies</td>\n",
       "      <td>Teen Titans Go! To the Movies</td>\n",
       "      <td>2018</td>\n",
       "      <td>2018-08-03</td>\n",
       "      <td>Animation, Action, Comedy</td>\n",
       "      <td>84</td>\n",
       "      <td>USA</td>\n",
       "      <td>English</td>\n",
       "      <td>Aaron Horvath, Peter Rida Michail</td>\n",
       "      <td>...</td>\n",
       "      <td>91.0</td>\n",
       "      <td>72.000000</td>\n",
       "      <td>6.800000</td>\n",
       "      <td>69.000000</td>\n",
       "      <td>91.0</td>\n",
       "      <td>72.000000</td>\n",
       "      <td>6.800000</td>\n",
       "      <td>69.0</td>\n",
       "      <td>91.000000</td>\n",
       "      <td>72.0</td>\n",
       "    </tr>\n",
       "    <tr>\n",
       "      <td>4350</td>\n",
       "      <td>tt7668870</td>\n",
       "      <td>Searching</td>\n",
       "      <td>Searching</td>\n",
       "      <td>2018</td>\n",
       "      <td>2018-08-31</td>\n",
       "      <td>Drama, Mystery, Thriller</td>\n",
       "      <td>102</td>\n",
       "      <td>Russia, USA</td>\n",
       "      <td>English</td>\n",
       "      <td>Aneesh Chaganty</td>\n",
       "      <td>...</td>\n",
       "      <td>92.0</td>\n",
       "      <td>87.000000</td>\n",
       "      <td>7.700000</td>\n",
       "      <td>71.000000</td>\n",
       "      <td>92.0</td>\n",
       "      <td>87.000000</td>\n",
       "      <td>7.700000</td>\n",
       "      <td>71.0</td>\n",
       "      <td>92.000000</td>\n",
       "      <td>87.0</td>\n",
       "    </tr>\n",
       "    <tr>\n",
       "      <td>4351</td>\n",
       "      <td>tt7690670</td>\n",
       "      <td>Superfly</td>\n",
       "      <td>Superfly</td>\n",
       "      <td>2018</td>\n",
       "      <td>2018-09-14</td>\n",
       "      <td>Action, Crime, Thriller</td>\n",
       "      <td>116</td>\n",
       "      <td>USA</td>\n",
       "      <td>English, Spanish, Cantonese</td>\n",
       "      <td>Director X.</td>\n",
       "      <td>...</td>\n",
       "      <td>50.0</td>\n",
       "      <td>46.000000</td>\n",
       "      <td>5.100000</td>\n",
       "      <td>52.000000</td>\n",
       "      <td>50.0</td>\n",
       "      <td>46.000000</td>\n",
       "      <td>6.350000</td>\n",
       "      <td>54.0</td>\n",
       "      <td>57.500000</td>\n",
       "      <td>58.5</td>\n",
       "    </tr>\n",
       "    <tr>\n",
       "      <td>4352</td>\n",
       "      <td>tt7784604</td>\n",
       "      <td>Hereditary</td>\n",
       "      <td>Hereditary</td>\n",
       "      <td>2018</td>\n",
       "      <td>2018-06-15</td>\n",
       "      <td>Drama, Horror, Mystery</td>\n",
       "      <td>127</td>\n",
       "      <td>USA</td>\n",
       "      <td>English, Spanish</td>\n",
       "      <td>Ari Aster</td>\n",
       "      <td>...</td>\n",
       "      <td>89.0</td>\n",
       "      <td>67.000000</td>\n",
       "      <td>7.300000</td>\n",
       "      <td>87.000000</td>\n",
       "      <td>89.0</td>\n",
       "      <td>67.000000</td>\n",
       "      <td>7.300000</td>\n",
       "      <td>87.0</td>\n",
       "      <td>89.000000</td>\n",
       "      <td>67.0</td>\n",
       "    </tr>\n",
       "  </tbody>\n",
       "</table>\n",
       "<p>4353 rows × 69 columns</p>\n",
       "</div>"
      ],
      "text/plain": [
       "     imdb_title_id                          title  \\\n",
       "0        tt0035423                 Kate & Leopold   \n",
       "1        tt0118887                       Cop Land   \n",
       "2        tt0172493              Girl, Interrupted   \n",
       "3        tt0309698                       Identity   \n",
       "4        tt0358273                  Walk the Line   \n",
       "...            ...                            ...   \n",
       "4348     tt7388562        Paul, Apostle of Christ   \n",
       "4349     tt7424200  Teen Titans Go! To the Movies   \n",
       "4350     tt7668870                      Searching   \n",
       "4351     tt7690670                       Superfly   \n",
       "4352     tt7784604                     Hereditary   \n",
       "\n",
       "                     original_title  year date_published  \\\n",
       "0                    Kate & Leopold  2001     2002-04-05   \n",
       "1                          Cop Land  1997     1997-12-05   \n",
       "2                 Girl, Interrupted  1999     2000-03-24   \n",
       "3                          Identity  2003     2003-06-13   \n",
       "4                     Walk the Line  2005     2006-02-03   \n",
       "...                             ...   ...            ...   \n",
       "4348        Paul, Apostle of Christ  2018     2018-03-23   \n",
       "4349  Teen Titans Go! To the Movies  2018     2018-08-03   \n",
       "4350                      Searching  2018     2018-08-31   \n",
       "4351                       Superfly  2018     2018-09-14   \n",
       "4352                     Hereditary  2018     2018-06-15   \n",
       "\n",
       "                            genre  duration       country  \\\n",
       "0        Comedy, Fantasy, Romance       118           USA   \n",
       "1          Crime, Drama, Thriller       105           USA   \n",
       "2                Biography, Drama       127  USA, Germany   \n",
       "3               Mystery, Thriller        90           USA   \n",
       "4         Biography, Drama, Music       136  USA, Germany   \n",
       "...                           ...       ...           ...   \n",
       "4348  Adventure, Biography, Drama       108           USA   \n",
       "4349    Animation, Action, Comedy        84           USA   \n",
       "4350     Drama, Mystery, Thriller       102   Russia, USA   \n",
       "4351      Action, Crime, Thriller       116           USA   \n",
       "4352       Drama, Horror, Mystery       127           USA   \n",
       "\n",
       "                         language                           director  ...  \\\n",
       "0                 English, French                      James Mangold  ...   \n",
       "1                         English                      James Mangold  ...   \n",
       "2                         English                      James Mangold  ...   \n",
       "3                         English                      James Mangold  ...   \n",
       "4                English, Russian                      James Mangold  ...   \n",
       "...                           ...                                ...  ...   \n",
       "4348                      English                       Andrew Hyatt  ...   \n",
       "4349                      English  Aaron Horvath, Peter Rida Michail  ...   \n",
       "4350                      English                    Aneesh Chaganty  ...   \n",
       "4351  English, Spanish, Cantonese                        Director X.  ...   \n",
       "4352             English, Spanish                          Ari Aster  ...   \n",
       "\n",
       "     director_tomatometer_y director_audience_y director_imdb  \\\n",
       "0                      69.0           76.142857      7.157143   \n",
       "1                      69.0           76.142857      7.157143   \n",
       "2                      69.0           76.142857      7.157143   \n",
       "3                      69.0           76.142857      7.157143   \n",
       "4                      69.0           76.142857      7.157143   \n",
       "...                     ...                 ...           ...   \n",
       "4348                   45.0           81.000000      6.600000   \n",
       "4349                   91.0           72.000000      6.800000   \n",
       "4350                   92.0           87.000000      7.700000   \n",
       "4351                   50.0           46.000000      5.100000   \n",
       "4352                   89.0           67.000000      7.300000   \n",
       "\n",
       "     director_metascore  director_tomatometer  director_audience  writer_imdb  \\\n",
       "0             61.714286                  69.0          76.142857     6.400000   \n",
       "1             61.714286                  69.0          76.142857     6.866667   \n",
       "2             61.714286                  69.0          76.142857     7.300000   \n",
       "3             61.714286                  69.0          76.142857     7.300000   \n",
       "4             61.714286                  69.0          76.142857     7.800000   \n",
       "...                 ...                   ...                ...          ...   \n",
       "4348          52.000000                  45.0          81.000000     6.600000   \n",
       "4349          69.000000                  91.0          72.000000     6.800000   \n",
       "4350          71.000000                  92.0          87.000000     7.700000   \n",
       "4351          52.000000                  50.0          46.000000     6.350000   \n",
       "4352          87.000000                  89.0          67.000000     7.300000   \n",
       "\n",
       "      writer_metascore  writer_tomatometer  writer_audience  \n",
       "0                 44.0           50.000000             62.0  \n",
       "1                 53.0           59.666667             71.0  \n",
       "2                 51.0           54.000000             84.0  \n",
       "3                 64.0           62.000000             75.0  \n",
       "4                 72.0           82.000000             90.0  \n",
       "...                ...                 ...              ...  \n",
       "4348              52.0           45.000000             81.0  \n",
       "4349              69.0           91.000000             72.0  \n",
       "4350              71.0           92.000000             87.0  \n",
       "4351              54.0           57.500000             58.5  \n",
       "4352              87.0           89.000000             67.0  \n",
       "\n",
       "[4353 rows x 69 columns]"
      ]
     },
     "execution_count": 48,
     "metadata": {},
     "output_type": "execute_result"
    }
   ],
   "source": [
    "df = pd.merge(df, df_director, how='left', on='director').drop_duplicates().reset_index(drop=True)\n",
    "df = pd.merge(df, df_writer, how='left', on='writer').drop_duplicates().reset_index(drop=True)"
   ]
  },
  {
   "cell_type": "markdown",
   "metadata": {},
   "source": [
    "##### Clean US dataset for valuta (dollar sign)"
   ]
  },
  {
   "cell_type": "code",
   "execution_count": null,
   "metadata": {},
   "outputs": [],
   "source": [
    "df_us['wgi'] = df_us['worlwide_gross_income'].replace({'\\$':''}, regex = True)\n",
    "df_us['budget'] = df_us['budget'].replace({'\\$':''}, regex = True)\n",
    "df_us['usa_gross_income'] = df_us['usa_gross_income'].replace({'\\$':''}, regex = True)\n"
   ]
  },
  {
   "cell_type": "code",
   "execution_count": null,
   "metadata": {},
   "outputs": [],
   "source": [
    "#len(df_us[df_us.year==2019])\n",
    "df_us.wgi = df_us.wgi.astype(int)\n",
    "df_us = df_us[df_us.year <= 2018]\n",
    "df_us['adjusted'] = inflate_column(df_us, 'wgi')\n",
    "#df_us"
   ]
  },
  {
   "cell_type": "code",
   "execution_count": 66,
   "metadata": {},
   "outputs": [
    {
     "data": {
      "text/plain": [
       "array(['imdb_title_id', 'title', 'original_title', 'year',\n",
       "       'date_published', 'genre', 'duration', 'country', 'language',\n",
       "       'director', 'writer', 'production_company', 'actors',\n",
       "       'description', 'avg_vote', 'votes', 'budget', 'usa_gross_income',\n",
       "       'metascore', 'reviews_from_users', 'reviews_from_critics',\n",
       "       'tomatometer_score', 'audience_score', 'worldwide_gross_income',\n",
       "       'adjusted_wgi', 'adjusted_budget', 'adjusted_us_income',\n",
       "       'net_income', 'net_us_income', 'director_imdb_x',\n",
       "       'director_metascore_x', 'director_tomatometer_x',\n",
       "       'director_audience_x', 'director_imdb_y', 'director_metascore_y',\n",
       "       'director_tomatometer_y', 'director_audience_y', 'director_imdb_x',\n",
       "       'director_metascore_x', 'director_tomatometer_x',\n",
       "       'director_audience_x', 'director_imdb_y', 'director_metascore_y',\n",
       "       'director_tomatometer_y', 'director_audience_y', 'director_imdb_x',\n",
       "       'director_metascore_x', 'director_tomatometer_x',\n",
       "       'director_audience_x', 'director_imdb_y', 'director_metascore_y',\n",
       "       'director_tomatometer_y', 'director_audience_y', 'director_imdb_x',\n",
       "       'director_metascore_x', 'director_tomatometer_x',\n",
       "       'director_audience_x', 'director_imdb_y', 'director_metascore_y',\n",
       "       'director_tomatometer_y', 'director_audience_y', 'director_imdb',\n",
       "       'director_metascore', 'director_tomatometer', 'director_audience',\n",
       "       'writer_imdb', 'writer_metascore', 'writer_tomatometer',\n",
       "       'writer_audience'], dtype=object)"
      ]
     },
     "execution_count": 66,
     "metadata": {},
     "output_type": "execute_result"
    }
   ],
   "source": [
    "df.columns.values"
   ]
  },
  {
   "cell_type": "markdown",
   "metadata": {},
   "source": [
    "##### Seperating data into features (have greater flexibility for project when predicting)"
   ]
  },
  {
   "cell_type": "code",
   "execution_count": 67,
   "metadata": {},
   "outputs": [],
   "source": [
    "df_ratings = [['avg_vote', 'metascore','tomatometer_score', 'audience_score']]\n",
    "df_x = df[['title', 'year', 'date_published', 'genre', 'duration','country', 'director', 'actors', 'budget','production_company','writer', 'director_imdb','director_tomatometer','director_audience','writer_imdb','writer_metascore','writer_tomatometer','writer_audience']]\n",
    "df_y = df_budget[['net_income','net_us_income','adjusted_wgi', 'adjusted_us_income']]"
   ]
  },
  {
   "cell_type": "code",
   "execution_count": 68,
   "metadata": {},
   "outputs": [],
   "source": [
    "df_x.to_csv('inputInfo_X.csv', encoding='utf-8',index=False)"
   ]
  },
  {
   "cell_type": "code",
   "execution_count": 69,
   "metadata": {},
   "outputs": [],
   "source": [
    "df_y.to_csv('inputInfo_Y.csv', encoding='utf-8',index=False)"
   ]
  },
  {
   "cell_type": "code",
   "execution_count": 70,
   "metadata": {},
   "outputs": [],
   "source": [
    "x = pd.read_csv(\"inputInfo_X.csv\")"
   ]
  },
  {
   "cell_type": "code",
   "execution_count": 71,
   "metadata": {},
   "outputs": [],
   "source": [
    "y = pd.read_csv(\"inputInfo_Y.csv\")"
   ]
  },
  {
   "cell_type": "code",
   "execution_count": 72,
   "metadata": {},
   "outputs": [],
   "source": [
    "def convert_to_array(rating):\n",
    "    rating = str(rating)\n",
    "    rating = rating.lower()\n",
    "    rating = rating.split(\",\")\n",
    "    return rating"
   ]
  },
  {
   "cell_type": "markdown",
   "metadata": {},
   "source": [
    "##### Converting columns with multiple string entries to a list. This will assist for converting each string entry to dummy variables"
   ]
  },
  {
   "cell_type": "code",
   "execution_count": 73,
   "metadata": {},
   "outputs": [],
   "source": [
    "x[\"genre\"]= x[\"genre\"].apply(lambda x: convert_to_array(x))\n",
    "x[\"country\"] = x[\"country\"].apply(lambda x: convert_to_array(x))\n",
    "x[\"director\"] = x[\"director\"].apply(lambda x: convert_to_array(x))\n",
    "x[\"actors\"] = x[\"actors\"].apply(lambda x: convert_to_array(x))\n",
    "x[\"title\"] = x[\"title\"].apply(lambda x: convert_to_array(x))\n",
    "x[\"production_company\"] = x[\"production_company\"].apply(lambda x: convert_to_array(x))\n",
    "x[\"writer\"] = x[\"writer\"].apply(lambda x: convert_to_array(x))"
   ]
  },
  {
   "cell_type": "markdown",
   "metadata": {},
   "source": [
    "##### Converting published date to months"
   ]
  },
  {
   "cell_type": "code",
   "execution_count": 74,
   "metadata": {},
   "outputs": [],
   "source": [
    "x[\"date_published\"] = x[\"date_published\"].apply(lambda x: pd.to_datetime(x).month)"
   ]
  },
  {
   "cell_type": "markdown",
   "metadata": {},
   "source": [
    "##### Creating dummy variables "
   ]
  },
  {
   "cell_type": "code",
   "execution_count": 75,
   "metadata": {},
   "outputs": [],
   "source": [
    "from sklearn.preprocessing import MultiLabelBinarizer\n",
    "MLB = MultiLabelBinarizer()"
   ]
  },
  {
   "cell_type": "code",
   "execution_count": 76,
   "metadata": {},
   "outputs": [],
   "source": [
    "actor_dummy = pd.DataFrame(MLB.fit_transform(x[\"actors\"]),columns = MLB.classes_,index=x.index)\n",
    "genre_dummy = pd.DataFrame(MLB.fit_transform(x[\"genre\"]),columns=MLB.classes_, index=x.index)\n",
    "country_dummy = pd.DataFrame(MLB.fit_transform(x[\"country\"]),columns = MLB.classes_,index=x.index)\n",
    "director_dummy = pd.DataFrame(MLB.fit_transform(x[\"director\"]),columns = MLB.classes_,index=x.index)\n",
    "production_dummy = pd.DataFrame(MLB.fit_transform(x[\"production_company\"]),columns = MLB.classes_,index=x.index)"
   ]
  },
  {
   "cell_type": "code",
   "execution_count": null,
   "metadata": {},
   "outputs": [],
   "source": [
    "genre_dummy.head()"
   ]
  },
  {
   "cell_type": "markdown",
   "metadata": {},
   "source": [
    "##### Looking at the predictor values"
   ]
  },
  {
   "cell_type": "code",
   "execution_count": null,
   "metadata": {},
   "outputs": [],
   "source": [
    "y_2 = y[[\"tomatometer_score\",\"audience_score\",\"metascore\",\"avg_vote\",\"usa_gross_income\",\"worldwide_gross_income\"]]"
   ]
  },
  {
   "cell_type": "markdown",
   "metadata": {},
   "source": [
    "##### Converting the audience and user rating to binary. "
   ]
  },
  {
   "cell_type": "code",
   "execution_count": null,
   "metadata": {},
   "outputs": [],
   "source": [
    "#y_2[\"t_rating\"] = y_2[\"tomatometer_score\"].apply(lambda x: 1 if x > 60.0 else 0)\n",
    "#y_2[\"audience_score\"] = y_2[\"audience_score\"].apply(lambda x: 1 if x > 60.0 else 0) "
   ]
  },
  {
   "cell_type": "code",
   "execution_count": null,
   "metadata": {},
   "outputs": [],
   "source": [
    "from sklearn.pipeline import make_pipeline\n",
    "from sklearn.preprocessing import StandardScaler, PolynomialFeatures\n",
    "from sklearn.linear_model import LinearRegression\n",
    "from sklearn.metrics import mean_squared_error as mse\n",
    "from sklearn.model_selection import train_test_split\n",
    "from sklearn.linear_model import Lasso\n",
    "from sklearn.model_selection import KFold"
   ]
  },
  {
   "cell_type": "markdown",
   "metadata": {},
   "source": [
    "##### Data Visualization"
   ]
  },
  {
   "cell_type": "code",
   "execution_count": null,
   "metadata": {},
   "outputs": [],
   "source": [
    "import matplotlib.pyplot as plt\n",
    "import seaborn as sns"
   ]
  },
  {
   "cell_type": "code",
   "execution_count": null,
   "metadata": {},
   "outputs": [],
   "source": [
    "fig, ax = plt.subplots(figsize = (10,5))\n",
    "sns.distplot(df_90_income.year, bins = 20);\n",
    "plt.title(\"Distribution of movies over the years\", size = 10);"
   ]
  },
  {
   "cell_type": "code",
   "execution_count": null,
   "metadata": {},
   "outputs": [],
   "source": [
    "sns.set(style=\"white\")\n",
    "\n",
    "plt.figure(figsize=(10,5))\n",
    "plt.title('Movies by the year', size=15)\n",
    "sns.distplot(df_90_income.year, kde=False)\n",
    "plt.ylabel('Number of movies', size=15)\n",
    "plt.xlabel('Year of release',size=15)\n",
    "plt.axis([1990, 2019, 0, 700])\n",
    "plt.xticks(np.arange(1990, 2019, step=2))\n",
    "plt.show()"
   ]
  },
  {
   "cell_type": "code",
   "execution_count": null,
   "metadata": {},
   "outputs": [],
   "source": [
    "# Overview of the different genres \n",
    "df_90_income['first_genre'] = df_90_income['genre'].str.split(',').str[0]\n",
    "\n",
    "a = plt.cm.binary\n",
    "\n",
    "plt.figure(figsize=(10,4))\n",
    "count = df_90_income['first_genre'].value_counts()[:7]\n",
    "sns.barplot(count.values, count.index, palette=[a(0.1),a(0.2),a(0.3),a(0.4),a(0.5),a(0.6),a(0.7)])\n",
    "for i, v in enumerate(count.values):\n",
    "    plt.text(0.8,i,v,color='k',fontsize=10)\n",
    "plt.xlabel('Count', fontsize=12)\n",
    "plt.ylabel('Genre name', fontsize=12)\n",
    "plt.title(\"Genres\", fontsize=15)\n",
    "plt.show()"
   ]
  },
  {
   "cell_type": "code",
   "execution_count": null,
   "metadata": {},
   "outputs": [],
   "source": [
    "# Overview of movies with highest scores \n",
    "top_scored = df_90_income.sort_values([\"tomatometer_score\",\"audience_score\",\"metascore\",\"avg_vote\"], ascending=False)[\n",
    "    [\"title\", \"director\", \"tomatometer_score\",\"audience_score\",\"metascore\",\"avg_vote\"]]\n",
    "top_scored.index = range(len(df_90_income))\n",
    "top_scored.head(n=10)"
   ]
  },
  {
   "cell_type": "code",
   "execution_count": null,
   "metadata": {},
   "outputs": [],
   "source": [
    "test = df_90_income.sort_values([\"year\"], ascending=False)[\n",
    "    [\"year\",\"tomatometer_score\",\"audience_score\",\"metascore\",\"avg_vote\"]]\n",
    "test.index = range(len(df_90_income))\n",
    "#test.head(n=10)\n"
   ]
  },
  {
   "cell_type": "code",
   "execution_count": null,
   "metadata": {},
   "outputs": [],
   "source": [
    "test.plot(kind=\"scatter\",\n",
    "                      x=\"year\",\n",
    "                      y=\"metascore\",\n",
    "                      alpha=0.4)\n",
    "\n",
    "plt.show()"
   ]
  },
  {
   "cell_type": "code",
   "execution_count": null,
   "metadata": {},
   "outputs": [],
   "source": [
    "#fig, ax = plt.subplots(figsize = (9,5))\n",
    "#sns.distplot(df_90_income.tomatometer_score,bins = 50);\n",
    "#plt.title(\"Distribution of metascore among movies\", size = 10);\n",
    "\n",
    "\n",
    "# Error: ould not convert string to float: '50%'\n",
    "#df_90_income = df_90_income[(df_90_income.tomatometer_score.notnull()) &\n",
    "#                      (df_90_income.audience_score.notnull())]\n",
    "#sns.jointplot(x=df_90_income['year'], y=df_90_income['tomatometer_score'],\n",
    "#              kind=\"kde\").fig.set_size_inches(15,15)\n",
    "\n",
    "# Works but not pretty \n",
    "#plt.figure(figsize=[30,10])\n",
    "#sns.barplot(x=df_90_income.year, y=df_90_income.metascore, data=df_90_income)"
   ]
  },
  {
   "cell_type": "code",
   "execution_count": null,
   "metadata": {},
   "outputs": [],
   "source": [
    "# Ideas:\n",
    "#1) Look at gender or race in director (men vs women) (balck vs white)"
   ]
  },
  {
   "cell_type": "code",
   "execution_count": null,
   "metadata": {},
   "outputs": [],
   "source": [
    "df_budget.plot(kind=\"scatter\",\n",
    "                      x=\"avg_vote\",\n",
    "                      y=\"net_income\",\n",
    "                      alpha=0.4)"
   ]
  },
  {
   "cell_type": "code",
   "execution_count": null,
   "metadata": {},
   "outputs": [],
   "source": []
  }
 ],
 "metadata": {
  "kernelspec": {
   "display_name": "Python 3",
   "language": "python",
   "name": "python3"
  },
  "language_info": {
   "codemirror_mode": {
    "name": "ipython",
    "version": 3
   },
   "file_extension": ".py",
   "mimetype": "text/x-python",
   "name": "python",
   "nbconvert_exporter": "python",
   "pygments_lexer": "ipython3",
   "version": "3.7.4"
  }
 },
 "nbformat": 4,
 "nbformat_minor": 4
}
